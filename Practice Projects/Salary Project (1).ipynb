{
 "cells": [
  {
   "cell_type": "code",
   "execution_count": 2,
   "id": "288b5144",
   "metadata": {},
   "outputs": [],
   "source": [
    "import pandas as pd\n",
    "import numpy as np"
   ]
  },
  {
   "cell_type": "code",
   "execution_count": 3,
   "id": "36874467",
   "metadata": {},
   "outputs": [],
   "source": [
    "#importing dataset\n",
    "df= pd.read_csv(\"https://raw.githubusercontent.com/dsrscientist/dataset3/main/Salaries.csv\")"
   ]
  },
  {
   "cell_type": "code",
   "execution_count": 4,
   "id": "d1c76397",
   "metadata": {},
   "outputs": [
    {
     "data": {
      "text/html": [
       "<div>\n",
       "<style scoped>\n",
       "    .dataframe tbody tr th:only-of-type {\n",
       "        vertical-align: middle;\n",
       "    }\n",
       "\n",
       "    .dataframe tbody tr th {\n",
       "        vertical-align: top;\n",
       "    }\n",
       "\n",
       "    .dataframe thead th {\n",
       "        text-align: right;\n",
       "    }\n",
       "</style>\n",
       "<table border=\"1\" class=\"dataframe\">\n",
       "  <thead>\n",
       "    <tr style=\"text-align: right;\">\n",
       "      <th></th>\n",
       "      <th>rank</th>\n",
       "      <th>discipline</th>\n",
       "      <th>yrs.since.phd</th>\n",
       "      <th>yrs.service</th>\n",
       "      <th>sex</th>\n",
       "      <th>salary</th>\n",
       "    </tr>\n",
       "  </thead>\n",
       "  <tbody>\n",
       "    <tr>\n",
       "      <th>0</th>\n",
       "      <td>Prof</td>\n",
       "      <td>B</td>\n",
       "      <td>19</td>\n",
       "      <td>18</td>\n",
       "      <td>Male</td>\n",
       "      <td>139750</td>\n",
       "    </tr>\n",
       "    <tr>\n",
       "      <th>1</th>\n",
       "      <td>Prof</td>\n",
       "      <td>B</td>\n",
       "      <td>20</td>\n",
       "      <td>16</td>\n",
       "      <td>Male</td>\n",
       "      <td>173200</td>\n",
       "    </tr>\n",
       "    <tr>\n",
       "      <th>2</th>\n",
       "      <td>AsstProf</td>\n",
       "      <td>B</td>\n",
       "      <td>4</td>\n",
       "      <td>3</td>\n",
       "      <td>Male</td>\n",
       "      <td>79750</td>\n",
       "    </tr>\n",
       "    <tr>\n",
       "      <th>3</th>\n",
       "      <td>Prof</td>\n",
       "      <td>B</td>\n",
       "      <td>45</td>\n",
       "      <td>39</td>\n",
       "      <td>Male</td>\n",
       "      <td>115000</td>\n",
       "    </tr>\n",
       "    <tr>\n",
       "      <th>4</th>\n",
       "      <td>Prof</td>\n",
       "      <td>B</td>\n",
       "      <td>40</td>\n",
       "      <td>41</td>\n",
       "      <td>Male</td>\n",
       "      <td>141500</td>\n",
       "    </tr>\n",
       "    <tr>\n",
       "      <th>...</th>\n",
       "      <td>...</td>\n",
       "      <td>...</td>\n",
       "      <td>...</td>\n",
       "      <td>...</td>\n",
       "      <td>...</td>\n",
       "      <td>...</td>\n",
       "    </tr>\n",
       "    <tr>\n",
       "      <th>392</th>\n",
       "      <td>Prof</td>\n",
       "      <td>A</td>\n",
       "      <td>33</td>\n",
       "      <td>30</td>\n",
       "      <td>Male</td>\n",
       "      <td>103106</td>\n",
       "    </tr>\n",
       "    <tr>\n",
       "      <th>393</th>\n",
       "      <td>Prof</td>\n",
       "      <td>A</td>\n",
       "      <td>31</td>\n",
       "      <td>19</td>\n",
       "      <td>Male</td>\n",
       "      <td>150564</td>\n",
       "    </tr>\n",
       "    <tr>\n",
       "      <th>394</th>\n",
       "      <td>Prof</td>\n",
       "      <td>A</td>\n",
       "      <td>42</td>\n",
       "      <td>25</td>\n",
       "      <td>Male</td>\n",
       "      <td>101738</td>\n",
       "    </tr>\n",
       "    <tr>\n",
       "      <th>395</th>\n",
       "      <td>Prof</td>\n",
       "      <td>A</td>\n",
       "      <td>25</td>\n",
       "      <td>15</td>\n",
       "      <td>Male</td>\n",
       "      <td>95329</td>\n",
       "    </tr>\n",
       "    <tr>\n",
       "      <th>396</th>\n",
       "      <td>AsstProf</td>\n",
       "      <td>A</td>\n",
       "      <td>8</td>\n",
       "      <td>4</td>\n",
       "      <td>Male</td>\n",
       "      <td>81035</td>\n",
       "    </tr>\n",
       "  </tbody>\n",
       "</table>\n",
       "<p>397 rows × 6 columns</p>\n",
       "</div>"
      ],
      "text/plain": [
       "         rank discipline  yrs.since.phd  yrs.service   sex  salary\n",
       "0        Prof          B             19           18  Male  139750\n",
       "1        Prof          B             20           16  Male  173200\n",
       "2    AsstProf          B              4            3  Male   79750\n",
       "3        Prof          B             45           39  Male  115000\n",
       "4        Prof          B             40           41  Male  141500\n",
       "..        ...        ...            ...          ...   ...     ...\n",
       "392      Prof          A             33           30  Male  103106\n",
       "393      Prof          A             31           19  Male  150564\n",
       "394      Prof          A             42           25  Male  101738\n",
       "395      Prof          A             25           15  Male   95329\n",
       "396  AsstProf          A              8            4  Male   81035\n",
       "\n",
       "[397 rows x 6 columns]"
      ]
     },
     "execution_count": 4,
     "metadata": {},
     "output_type": "execute_result"
    }
   ],
   "source": [
    "df"
   ]
  },
  {
   "cell_type": "code",
   "execution_count": 5,
   "id": "20661c95",
   "metadata": {},
   "outputs": [
    {
     "data": {
      "text/html": [
       "<div>\n",
       "<style scoped>\n",
       "    .dataframe tbody tr th:only-of-type {\n",
       "        vertical-align: middle;\n",
       "    }\n",
       "\n",
       "    .dataframe tbody tr th {\n",
       "        vertical-align: top;\n",
       "    }\n",
       "\n",
       "    .dataframe thead th {\n",
       "        text-align: right;\n",
       "    }\n",
       "</style>\n",
       "<table border=\"1\" class=\"dataframe\">\n",
       "  <thead>\n",
       "    <tr style=\"text-align: right;\">\n",
       "      <th></th>\n",
       "      <th>rank</th>\n",
       "      <th>discipline</th>\n",
       "      <th>yrs.since.phd</th>\n",
       "      <th>yrs.service</th>\n",
       "      <th>sex</th>\n",
       "      <th>salary</th>\n",
       "    </tr>\n",
       "  </thead>\n",
       "  <tbody>\n",
       "    <tr>\n",
       "      <th>0</th>\n",
       "      <td>Prof</td>\n",
       "      <td>B</td>\n",
       "      <td>19</td>\n",
       "      <td>18</td>\n",
       "      <td>Male</td>\n",
       "      <td>139750</td>\n",
       "    </tr>\n",
       "    <tr>\n",
       "      <th>1</th>\n",
       "      <td>Prof</td>\n",
       "      <td>B</td>\n",
       "      <td>20</td>\n",
       "      <td>16</td>\n",
       "      <td>Male</td>\n",
       "      <td>173200</td>\n",
       "    </tr>\n",
       "    <tr>\n",
       "      <th>2</th>\n",
       "      <td>AsstProf</td>\n",
       "      <td>B</td>\n",
       "      <td>4</td>\n",
       "      <td>3</td>\n",
       "      <td>Male</td>\n",
       "      <td>79750</td>\n",
       "    </tr>\n",
       "    <tr>\n",
       "      <th>3</th>\n",
       "      <td>Prof</td>\n",
       "      <td>B</td>\n",
       "      <td>45</td>\n",
       "      <td>39</td>\n",
       "      <td>Male</td>\n",
       "      <td>115000</td>\n",
       "    </tr>\n",
       "    <tr>\n",
       "      <th>4</th>\n",
       "      <td>Prof</td>\n",
       "      <td>B</td>\n",
       "      <td>40</td>\n",
       "      <td>41</td>\n",
       "      <td>Male</td>\n",
       "      <td>141500</td>\n",
       "    </tr>\n",
       "  </tbody>\n",
       "</table>\n",
       "</div>"
      ],
      "text/plain": [
       "       rank discipline  yrs.since.phd  yrs.service   sex  salary\n",
       "0      Prof          B             19           18  Male  139750\n",
       "1      Prof          B             20           16  Male  173200\n",
       "2  AsstProf          B              4            3  Male   79750\n",
       "3      Prof          B             45           39  Male  115000\n",
       "4      Prof          B             40           41  Male  141500"
      ]
     },
     "execution_count": 5,
     "metadata": {},
     "output_type": "execute_result"
    }
   ],
   "source": [
    "df.head()"
   ]
  },
  {
   "cell_type": "code",
   "execution_count": 6,
   "id": "483b29f9",
   "metadata": {},
   "outputs": [
    {
     "data": {
      "text/html": [
       "<div>\n",
       "<style scoped>\n",
       "    .dataframe tbody tr th:only-of-type {\n",
       "        vertical-align: middle;\n",
       "    }\n",
       "\n",
       "    .dataframe tbody tr th {\n",
       "        vertical-align: top;\n",
       "    }\n",
       "\n",
       "    .dataframe thead th {\n",
       "        text-align: right;\n",
       "    }\n",
       "</style>\n",
       "<table border=\"1\" class=\"dataframe\">\n",
       "  <thead>\n",
       "    <tr style=\"text-align: right;\">\n",
       "      <th></th>\n",
       "      <th>rank</th>\n",
       "      <th>discipline</th>\n",
       "      <th>yrs.since.phd</th>\n",
       "      <th>yrs.service</th>\n",
       "      <th>sex</th>\n",
       "      <th>salary</th>\n",
       "    </tr>\n",
       "  </thead>\n",
       "  <tbody>\n",
       "    <tr>\n",
       "      <th>392</th>\n",
       "      <td>Prof</td>\n",
       "      <td>A</td>\n",
       "      <td>33</td>\n",
       "      <td>30</td>\n",
       "      <td>Male</td>\n",
       "      <td>103106</td>\n",
       "    </tr>\n",
       "    <tr>\n",
       "      <th>393</th>\n",
       "      <td>Prof</td>\n",
       "      <td>A</td>\n",
       "      <td>31</td>\n",
       "      <td>19</td>\n",
       "      <td>Male</td>\n",
       "      <td>150564</td>\n",
       "    </tr>\n",
       "    <tr>\n",
       "      <th>394</th>\n",
       "      <td>Prof</td>\n",
       "      <td>A</td>\n",
       "      <td>42</td>\n",
       "      <td>25</td>\n",
       "      <td>Male</td>\n",
       "      <td>101738</td>\n",
       "    </tr>\n",
       "    <tr>\n",
       "      <th>395</th>\n",
       "      <td>Prof</td>\n",
       "      <td>A</td>\n",
       "      <td>25</td>\n",
       "      <td>15</td>\n",
       "      <td>Male</td>\n",
       "      <td>95329</td>\n",
       "    </tr>\n",
       "    <tr>\n",
       "      <th>396</th>\n",
       "      <td>AsstProf</td>\n",
       "      <td>A</td>\n",
       "      <td>8</td>\n",
       "      <td>4</td>\n",
       "      <td>Male</td>\n",
       "      <td>81035</td>\n",
       "    </tr>\n",
       "  </tbody>\n",
       "</table>\n",
       "</div>"
      ],
      "text/plain": [
       "         rank discipline  yrs.since.phd  yrs.service   sex  salary\n",
       "392      Prof          A             33           30  Male  103106\n",
       "393      Prof          A             31           19  Male  150564\n",
       "394      Prof          A             42           25  Male  101738\n",
       "395      Prof          A             25           15  Male   95329\n",
       "396  AsstProf          A              8            4  Male   81035"
      ]
     },
     "execution_count": 6,
     "metadata": {},
     "output_type": "execute_result"
    }
   ],
   "source": [
    "df.tail()"
   ]
  },
  {
   "cell_type": "code",
   "execution_count": 7,
   "id": "08a46a19",
   "metadata": {},
   "outputs": [
    {
     "data": {
      "text/html": [
       "<div>\n",
       "<style scoped>\n",
       "    .dataframe tbody tr th:only-of-type {\n",
       "        vertical-align: middle;\n",
       "    }\n",
       "\n",
       "    .dataframe tbody tr th {\n",
       "        vertical-align: top;\n",
       "    }\n",
       "\n",
       "    .dataframe thead th {\n",
       "        text-align: right;\n",
       "    }\n",
       "</style>\n",
       "<table border=\"1\" class=\"dataframe\">\n",
       "  <thead>\n",
       "    <tr style=\"text-align: right;\">\n",
       "      <th></th>\n",
       "      <th>rank</th>\n",
       "      <th>discipline</th>\n",
       "      <th>yrs.since.phd</th>\n",
       "      <th>yrs.service</th>\n",
       "      <th>sex</th>\n",
       "      <th>salary</th>\n",
       "    </tr>\n",
       "  </thead>\n",
       "  <tbody>\n",
       "    <tr>\n",
       "      <th>42</th>\n",
       "      <td>Prof</td>\n",
       "      <td>B</td>\n",
       "      <td>40</td>\n",
       "      <td>27</td>\n",
       "      <td>Male</td>\n",
       "      <td>101299</td>\n",
       "    </tr>\n",
       "    <tr>\n",
       "      <th>147</th>\n",
       "      <td>Prof</td>\n",
       "      <td>B</td>\n",
       "      <td>27</td>\n",
       "      <td>27</td>\n",
       "      <td>Male</td>\n",
       "      <td>156938</td>\n",
       "    </tr>\n",
       "    <tr>\n",
       "      <th>273</th>\n",
       "      <td>AsstProf</td>\n",
       "      <td>A</td>\n",
       "      <td>8</td>\n",
       "      <td>4</td>\n",
       "      <td>Male</td>\n",
       "      <td>74000</td>\n",
       "    </tr>\n",
       "    <tr>\n",
       "      <th>93</th>\n",
       "      <td>Prof</td>\n",
       "      <td>B</td>\n",
       "      <td>38</td>\n",
       "      <td>38</td>\n",
       "      <td>Male</td>\n",
       "      <td>166024</td>\n",
       "    </tr>\n",
       "    <tr>\n",
       "      <th>14</th>\n",
       "      <td>Prof</td>\n",
       "      <td>B</td>\n",
       "      <td>20</td>\n",
       "      <td>18</td>\n",
       "      <td>Male</td>\n",
       "      <td>104800</td>\n",
       "    </tr>\n",
       "    <tr>\n",
       "      <th>89</th>\n",
       "      <td>AssocProf</td>\n",
       "      <td>B</td>\n",
       "      <td>9</td>\n",
       "      <td>7</td>\n",
       "      <td>Male</td>\n",
       "      <td>107008</td>\n",
       "    </tr>\n",
       "    <tr>\n",
       "      <th>326</th>\n",
       "      <td>Prof</td>\n",
       "      <td>B</td>\n",
       "      <td>23</td>\n",
       "      <td>15</td>\n",
       "      <td>Male</td>\n",
       "      <td>124714</td>\n",
       "    </tr>\n",
       "    <tr>\n",
       "      <th>325</th>\n",
       "      <td>AsstProf</td>\n",
       "      <td>B</td>\n",
       "      <td>8</td>\n",
       "      <td>4</td>\n",
       "      <td>Male</td>\n",
       "      <td>84500</td>\n",
       "    </tr>\n",
       "    <tr>\n",
       "      <th>10</th>\n",
       "      <td>AssocProf</td>\n",
       "      <td>B</td>\n",
       "      <td>12</td>\n",
       "      <td>8</td>\n",
       "      <td>Male</td>\n",
       "      <td>119800</td>\n",
       "    </tr>\n",
       "    <tr>\n",
       "      <th>258</th>\n",
       "      <td>AsstProf</td>\n",
       "      <td>A</td>\n",
       "      <td>9</td>\n",
       "      <td>3</td>\n",
       "      <td>Male</td>\n",
       "      <td>73800</td>\n",
       "    </tr>\n",
       "    <tr>\n",
       "      <th>219</th>\n",
       "      <td>Prof</td>\n",
       "      <td>B</td>\n",
       "      <td>13</td>\n",
       "      <td>11</td>\n",
       "      <td>Male</td>\n",
       "      <td>119500</td>\n",
       "    </tr>\n",
       "    <tr>\n",
       "      <th>270</th>\n",
       "      <td>Prof</td>\n",
       "      <td>A</td>\n",
       "      <td>42</td>\n",
       "      <td>40</td>\n",
       "      <td>Male</td>\n",
       "      <td>143250</td>\n",
       "    </tr>\n",
       "    <tr>\n",
       "      <th>159</th>\n",
       "      <td>Prof</td>\n",
       "      <td>B</td>\n",
       "      <td>15</td>\n",
       "      <td>16</td>\n",
       "      <td>Male</td>\n",
       "      <td>137167</td>\n",
       "    </tr>\n",
       "    <tr>\n",
       "      <th>182</th>\n",
       "      <td>AssocProf</td>\n",
       "      <td>B</td>\n",
       "      <td>8</td>\n",
       "      <td>8</td>\n",
       "      <td>Male</td>\n",
       "      <td>100000</td>\n",
       "    </tr>\n",
       "    <tr>\n",
       "      <th>7</th>\n",
       "      <td>Prof</td>\n",
       "      <td>B</td>\n",
       "      <td>45</td>\n",
       "      <td>45</td>\n",
       "      <td>Male</td>\n",
       "      <td>147765</td>\n",
       "    </tr>\n",
       "    <tr>\n",
       "      <th>36</th>\n",
       "      <td>Prof</td>\n",
       "      <td>B</td>\n",
       "      <td>22</td>\n",
       "      <td>21</td>\n",
       "      <td>Male</td>\n",
       "      <td>155750</td>\n",
       "    </tr>\n",
       "    <tr>\n",
       "      <th>11</th>\n",
       "      <td>AsstProf</td>\n",
       "      <td>B</td>\n",
       "      <td>7</td>\n",
       "      <td>2</td>\n",
       "      <td>Male</td>\n",
       "      <td>79800</td>\n",
       "    </tr>\n",
       "  </tbody>\n",
       "</table>\n",
       "</div>"
      ],
      "text/plain": [
       "          rank discipline  yrs.since.phd  yrs.service   sex  salary\n",
       "42        Prof          B             40           27  Male  101299\n",
       "147       Prof          B             27           27  Male  156938\n",
       "273   AsstProf          A              8            4  Male   74000\n",
       "93        Prof          B             38           38  Male  166024\n",
       "14        Prof          B             20           18  Male  104800\n",
       "89   AssocProf          B              9            7  Male  107008\n",
       "326       Prof          B             23           15  Male  124714\n",
       "325   AsstProf          B              8            4  Male   84500\n",
       "10   AssocProf          B             12            8  Male  119800\n",
       "258   AsstProf          A              9            3  Male   73800\n",
       "219       Prof          B             13           11  Male  119500\n",
       "270       Prof          A             42           40  Male  143250\n",
       "159       Prof          B             15           16  Male  137167\n",
       "182  AssocProf          B              8            8  Male  100000\n",
       "7         Prof          B             45           45  Male  147765\n",
       "36        Prof          B             22           21  Male  155750\n",
       "11    AsstProf          B              7            2  Male   79800"
      ]
     },
     "execution_count": 7,
     "metadata": {},
     "output_type": "execute_result"
    }
   ],
   "source": [
    "df.sample(17)"
   ]
  },
  {
   "cell_type": "code",
   "execution_count": 8,
   "id": "2215b6fa",
   "metadata": {},
   "outputs": [
    {
     "data": {
      "text/plain": [
       "Index(['rank', 'discipline', 'yrs.since.phd', 'yrs.service', 'sex', 'salary'], dtype='object')"
      ]
     },
     "execution_count": 8,
     "metadata": {},
     "output_type": "execute_result"
    }
   ],
   "source": [
    "df.columns"
   ]
  },
  {
   "cell_type": "code",
   "execution_count": 9,
   "id": "fedabeda",
   "metadata": {},
   "outputs": [
    {
     "data": {
      "text/plain": [
       "(397, 6)"
      ]
     },
     "execution_count": 9,
     "metadata": {},
     "output_type": "execute_result"
    }
   ],
   "source": [
    "df.shape"
   ]
  },
  {
   "cell_type": "code",
   "execution_count": 10,
   "id": "2fc9d832",
   "metadata": {},
   "outputs": [],
   "source": [
    "df= df.drop_duplicates()"
   ]
  },
  {
   "cell_type": "code",
   "execution_count": 11,
   "id": "0eea4d64",
   "metadata": {},
   "outputs": [
    {
     "data": {
      "text/html": [
       "<div>\n",
       "<style scoped>\n",
       "    .dataframe tbody tr th:only-of-type {\n",
       "        vertical-align: middle;\n",
       "    }\n",
       "\n",
       "    .dataframe tbody tr th {\n",
       "        vertical-align: top;\n",
       "    }\n",
       "\n",
       "    .dataframe thead th {\n",
       "        text-align: right;\n",
       "    }\n",
       "</style>\n",
       "<table border=\"1\" class=\"dataframe\">\n",
       "  <thead>\n",
       "    <tr style=\"text-align: right;\">\n",
       "      <th></th>\n",
       "      <th>rank</th>\n",
       "      <th>discipline</th>\n",
       "      <th>yrs.since.phd</th>\n",
       "      <th>yrs.service</th>\n",
       "      <th>sex</th>\n",
       "      <th>salary</th>\n",
       "    </tr>\n",
       "  </thead>\n",
       "  <tbody>\n",
       "    <tr>\n",
       "      <th>0</th>\n",
       "      <td>Prof</td>\n",
       "      <td>B</td>\n",
       "      <td>19</td>\n",
       "      <td>18</td>\n",
       "      <td>Male</td>\n",
       "      <td>139750</td>\n",
       "    </tr>\n",
       "    <tr>\n",
       "      <th>1</th>\n",
       "      <td>Prof</td>\n",
       "      <td>B</td>\n",
       "      <td>20</td>\n",
       "      <td>16</td>\n",
       "      <td>Male</td>\n",
       "      <td>173200</td>\n",
       "    </tr>\n",
       "    <tr>\n",
       "      <th>2</th>\n",
       "      <td>AsstProf</td>\n",
       "      <td>B</td>\n",
       "      <td>4</td>\n",
       "      <td>3</td>\n",
       "      <td>Male</td>\n",
       "      <td>79750</td>\n",
       "    </tr>\n",
       "    <tr>\n",
       "      <th>3</th>\n",
       "      <td>Prof</td>\n",
       "      <td>B</td>\n",
       "      <td>45</td>\n",
       "      <td>39</td>\n",
       "      <td>Male</td>\n",
       "      <td>115000</td>\n",
       "    </tr>\n",
       "    <tr>\n",
       "      <th>4</th>\n",
       "      <td>Prof</td>\n",
       "      <td>B</td>\n",
       "      <td>40</td>\n",
       "      <td>41</td>\n",
       "      <td>Male</td>\n",
       "      <td>141500</td>\n",
       "    </tr>\n",
       "    <tr>\n",
       "      <th>...</th>\n",
       "      <td>...</td>\n",
       "      <td>...</td>\n",
       "      <td>...</td>\n",
       "      <td>...</td>\n",
       "      <td>...</td>\n",
       "      <td>...</td>\n",
       "    </tr>\n",
       "    <tr>\n",
       "      <th>392</th>\n",
       "      <td>Prof</td>\n",
       "      <td>A</td>\n",
       "      <td>33</td>\n",
       "      <td>30</td>\n",
       "      <td>Male</td>\n",
       "      <td>103106</td>\n",
       "    </tr>\n",
       "    <tr>\n",
       "      <th>393</th>\n",
       "      <td>Prof</td>\n",
       "      <td>A</td>\n",
       "      <td>31</td>\n",
       "      <td>19</td>\n",
       "      <td>Male</td>\n",
       "      <td>150564</td>\n",
       "    </tr>\n",
       "    <tr>\n",
       "      <th>394</th>\n",
       "      <td>Prof</td>\n",
       "      <td>A</td>\n",
       "      <td>42</td>\n",
       "      <td>25</td>\n",
       "      <td>Male</td>\n",
       "      <td>101738</td>\n",
       "    </tr>\n",
       "    <tr>\n",
       "      <th>395</th>\n",
       "      <td>Prof</td>\n",
       "      <td>A</td>\n",
       "      <td>25</td>\n",
       "      <td>15</td>\n",
       "      <td>Male</td>\n",
       "      <td>95329</td>\n",
       "    </tr>\n",
       "    <tr>\n",
       "      <th>396</th>\n",
       "      <td>AsstProf</td>\n",
       "      <td>A</td>\n",
       "      <td>8</td>\n",
       "      <td>4</td>\n",
       "      <td>Male</td>\n",
       "      <td>81035</td>\n",
       "    </tr>\n",
       "  </tbody>\n",
       "</table>\n",
       "<p>393 rows × 6 columns</p>\n",
       "</div>"
      ],
      "text/plain": [
       "         rank discipline  yrs.since.phd  yrs.service   sex  salary\n",
       "0        Prof          B             19           18  Male  139750\n",
       "1        Prof          B             20           16  Male  173200\n",
       "2    AsstProf          B              4            3  Male   79750\n",
       "3        Prof          B             45           39  Male  115000\n",
       "4        Prof          B             40           41  Male  141500\n",
       "..        ...        ...            ...          ...   ...     ...\n",
       "392      Prof          A             33           30  Male  103106\n",
       "393      Prof          A             31           19  Male  150564\n",
       "394      Prof          A             42           25  Male  101738\n",
       "395      Prof          A             25           15  Male   95329\n",
       "396  AsstProf          A              8            4  Male   81035\n",
       "\n",
       "[393 rows x 6 columns]"
      ]
     },
     "execution_count": 11,
     "metadata": {},
     "output_type": "execute_result"
    }
   ],
   "source": [
    "df"
   ]
  },
  {
   "cell_type": "code",
   "execution_count": 12,
   "id": "55c94956",
   "metadata": {},
   "outputs": [
    {
     "data": {
      "text/plain": [
       "rank             0\n",
       "discipline       0\n",
       "yrs.since.phd    0\n",
       "yrs.service      0\n",
       "sex              0\n",
       "salary           0\n",
       "dtype: int64"
      ]
     },
     "execution_count": 12,
     "metadata": {},
     "output_type": "execute_result"
    }
   ],
   "source": [
    "#checking if there are any null values\n",
    "df.isnull().sum()"
   ]
  },
  {
   "cell_type": "code",
   "execution_count": 13,
   "id": "4b59abe4",
   "metadata": {},
   "outputs": [
    {
     "data": {
      "text/plain": [
       "0"
      ]
     },
     "execution_count": 13,
     "metadata": {},
     "output_type": "execute_result"
    }
   ],
   "source": [
    "df.isnull().sum().sum()"
   ]
  },
  {
   "cell_type": "code",
   "execution_count": 14,
   "id": "6dd45ed9",
   "metadata": {},
   "outputs": [],
   "source": [
    "#We can see there are no null values, so we are good to proceed!"
   ]
  },
  {
   "cell_type": "code",
   "execution_count": 15,
   "id": "3d5ed473",
   "metadata": {},
   "outputs": [
    {
     "data": {
      "text/plain": [
       "rank             object\n",
       "discipline       object\n",
       "yrs.since.phd     int64\n",
       "yrs.service       int64\n",
       "sex              object\n",
       "salary            int64\n",
       "dtype: object"
      ]
     },
     "execution_count": 15,
     "metadata": {},
     "output_type": "execute_result"
    }
   ],
   "source": [
    "df.dtypes"
   ]
  },
  {
   "cell_type": "code",
   "execution_count": 16,
   "id": "4c5062cd",
   "metadata": {},
   "outputs": [
    {
     "data": {
      "text/plain": [
       "array(['Prof', 'AsstProf', 'AssocProf'], dtype=object)"
      ]
     },
     "execution_count": 16,
     "metadata": {},
     "output_type": "execute_result"
    }
   ],
   "source": [
    "#We can see there are 3 object columns; let us see the unique values of these columns\n",
    "\n",
    "df['rank'].unique()"
   ]
  },
  {
   "cell_type": "code",
   "execution_count": 17,
   "id": "66a02364",
   "metadata": {},
   "outputs": [
    {
     "data": {
      "text/plain": [
       "array(['B', 'A'], dtype=object)"
      ]
     },
     "execution_count": 17,
     "metadata": {},
     "output_type": "execute_result"
    }
   ],
   "source": [
    "df['discipline'].unique()"
   ]
  },
  {
   "cell_type": "code",
   "execution_count": 18,
   "id": "586c86c2",
   "metadata": {},
   "outputs": [
    {
     "data": {
      "text/plain": [
       "array(['Male', 'Female'], dtype=object)"
      ]
     },
     "execution_count": 18,
     "metadata": {},
     "output_type": "execute_result"
    }
   ],
   "source": [
    "df['sex'].unique()"
   ]
  },
  {
   "cell_type": "code",
   "execution_count": 19,
   "id": "347a2ad7",
   "metadata": {},
   "outputs": [],
   "source": [
    "#let us consider the nominal columns 'rank', 'discipline' and 'sex'\n",
    "\n",
    "df_visualization_nominal= df[['rank','discipline','sex']].copy()"
   ]
  },
  {
   "cell_type": "code",
   "execution_count": 20,
   "id": "414f14b8",
   "metadata": {},
   "outputs": [
    {
     "data": {
      "text/html": [
       "<div>\n",
       "<style scoped>\n",
       "    .dataframe tbody tr th:only-of-type {\n",
       "        vertical-align: middle;\n",
       "    }\n",
       "\n",
       "    .dataframe tbody tr th {\n",
       "        vertical-align: top;\n",
       "    }\n",
       "\n",
       "    .dataframe thead th {\n",
       "        text-align: right;\n",
       "    }\n",
       "</style>\n",
       "<table border=\"1\" class=\"dataframe\">\n",
       "  <thead>\n",
       "    <tr style=\"text-align: right;\">\n",
       "      <th></th>\n",
       "      <th>rank</th>\n",
       "      <th>discipline</th>\n",
       "      <th>sex</th>\n",
       "    </tr>\n",
       "  </thead>\n",
       "  <tbody>\n",
       "    <tr>\n",
       "      <th>0</th>\n",
       "      <td>Prof</td>\n",
       "      <td>B</td>\n",
       "      <td>Male</td>\n",
       "    </tr>\n",
       "    <tr>\n",
       "      <th>1</th>\n",
       "      <td>Prof</td>\n",
       "      <td>B</td>\n",
       "      <td>Male</td>\n",
       "    </tr>\n",
       "    <tr>\n",
       "      <th>2</th>\n",
       "      <td>AsstProf</td>\n",
       "      <td>B</td>\n",
       "      <td>Male</td>\n",
       "    </tr>\n",
       "    <tr>\n",
       "      <th>3</th>\n",
       "      <td>Prof</td>\n",
       "      <td>B</td>\n",
       "      <td>Male</td>\n",
       "    </tr>\n",
       "    <tr>\n",
       "      <th>4</th>\n",
       "      <td>Prof</td>\n",
       "      <td>B</td>\n",
       "      <td>Male</td>\n",
       "    </tr>\n",
       "    <tr>\n",
       "      <th>...</th>\n",
       "      <td>...</td>\n",
       "      <td>...</td>\n",
       "      <td>...</td>\n",
       "    </tr>\n",
       "    <tr>\n",
       "      <th>392</th>\n",
       "      <td>Prof</td>\n",
       "      <td>A</td>\n",
       "      <td>Male</td>\n",
       "    </tr>\n",
       "    <tr>\n",
       "      <th>393</th>\n",
       "      <td>Prof</td>\n",
       "      <td>A</td>\n",
       "      <td>Male</td>\n",
       "    </tr>\n",
       "    <tr>\n",
       "      <th>394</th>\n",
       "      <td>Prof</td>\n",
       "      <td>A</td>\n",
       "      <td>Male</td>\n",
       "    </tr>\n",
       "    <tr>\n",
       "      <th>395</th>\n",
       "      <td>Prof</td>\n",
       "      <td>A</td>\n",
       "      <td>Male</td>\n",
       "    </tr>\n",
       "    <tr>\n",
       "      <th>396</th>\n",
       "      <td>AsstProf</td>\n",
       "      <td>A</td>\n",
       "      <td>Male</td>\n",
       "    </tr>\n",
       "  </tbody>\n",
       "</table>\n",
       "<p>393 rows × 3 columns</p>\n",
       "</div>"
      ],
      "text/plain": [
       "         rank discipline   sex\n",
       "0        Prof          B  Male\n",
       "1        Prof          B  Male\n",
       "2    AsstProf          B  Male\n",
       "3        Prof          B  Male\n",
       "4        Prof          B  Male\n",
       "..        ...        ...   ...\n",
       "392      Prof          A  Male\n",
       "393      Prof          A  Male\n",
       "394      Prof          A  Male\n",
       "395      Prof          A  Male\n",
       "396  AsstProf          A  Male\n",
       "\n",
       "[393 rows x 3 columns]"
      ]
     },
     "execution_count": 20,
     "metadata": {},
     "output_type": "execute_result"
    }
   ],
   "source": [
    "df_visualization_nominal"
   ]
  },
  {
   "cell_type": "code",
   "execution_count": null,
   "id": "c321cdb7",
   "metadata": {},
   "outputs": [],
   "source": []
  },
  {
   "cell_type": "code",
   "execution_count": 21,
   "id": "653ec5f7",
   "metadata": {},
   "outputs": [],
   "source": [
    "#Data Visualization\n",
    "#For the nominal categorical data we analyse countplot because it will give the frequency of the classes of the columns."
   ]
  },
  {
   "cell_type": "code",
   "execution_count": 22,
   "id": "44f48c4a",
   "metadata": {},
   "outputs": [],
   "source": [
    "import seaborn as sns"
   ]
  },
  {
   "cell_type": "code",
   "execution_count": 23,
   "id": "44cc3b97",
   "metadata": {},
   "outputs": [
    {
     "name": "stdout",
     "output_type": "stream",
     "text": [
      "Prof         266\n",
      "AssocProf     64\n",
      "AsstProf      63\n",
      "Name: rank, dtype: int64\n"
     ]
    },
    {
     "data": {
      "image/png": "[encoded data removed]",
      "text/plain": [
       "<Figure size 432x288 with 1 Axes>"
      ]
     },
     "metadata": {
      "needs_background": "light"
     },
     "output_type": "display_data"
    }
   ],
   "source": [
    "ax= sns.countplot(x= 'rank', data= df_visualization_nominal)\n",
    "print(df_visualization_nominal['rank'].value_counts())"
   ]
  },
  {
   "cell_type": "code",
   "execution_count": 24,
   "id": "eefae47b",
   "metadata": {},
   "outputs": [
    {
     "name": "stdout",
     "output_type": "stream",
     "text": [
      "B    212\n",
      "A    181\n",
      "Name: discipline, dtype: int64\n"
     ]
    },
    {
     "data": {
      "image/png": "[encoded data removed]",
      "text/plain": [
       "<Figure size 432x288 with 1 Axes>"
      ]
     },
     "metadata": {
      "needs_background": "light"
     },
     "output_type": "display_data"
    }
   ],
   "source": [
    "ax= sns.countplot(x= 'discipline', data= df_visualization_nominal)\n",
    "print(df_visualization_nominal['discipline'].value_counts())"
   ]
  },
  {
   "cell_type": "code",
   "execution_count": 25,
   "id": "351f61d3",
   "metadata": {},
   "outputs": [
    {
     "name": "stdout",
     "output_type": "stream",
     "text": [
      "Male      354\n",
      "Female     39\n",
      "Name: sex, dtype: int64\n"
     ]
    },
    {
     "data": {
      "image/png": "[encoded data removed]",
      "text/plain": [
       "<Figure size 432x288 with 1 Axes>"
      ]
     },
     "metadata": {
      "needs_background": "light"
     },
     "output_type": "display_data"
    }
   ],
   "source": [
    "ax= sns.countplot(x= 'sex', data= df_visualization_nominal)\n",
    "print(df_visualization_nominal['sex'].value_counts())"
   ]
  },
  {
   "cell_type": "code",
   "execution_count": 26,
   "id": "91c686a6",
   "metadata": {},
   "outputs": [],
   "source": [
    "#we can see from above, all the number of frequencies added up and we get the data size of 393; so these counts are correct!"
   ]
  },
  {
   "cell_type": "code",
   "execution_count": 27,
   "id": "3bde3ba6",
   "metadata": {},
   "outputs": [],
   "source": [
    "#now we will check the distribution of the float type columns\n",
    "df_visualization_continuous= df[['yrs.since.phd','yrs.service','salary']].copy()"
   ]
  },
  {
   "cell_type": "code",
   "execution_count": 28,
   "id": "ff63218c",
   "metadata": {},
   "outputs": [
    {
     "data": {
      "text/plain": [
       "Index(['yrs.since.phd', 'yrs.service', 'salary'], dtype='object')"
      ]
     },
     "execution_count": 28,
     "metadata": {},
     "output_type": "execute_result"
    }
   ],
   "source": [
    "df_visualization_continuous.columns"
   ]
  },
  {
   "cell_type": "code",
   "execution_count": 29,
   "id": "c085e10d",
   "metadata": {},
   "outputs": [
    {
     "data": {
      "text/plain": [
       "<AxesSubplot:xlabel='salary', ylabel='Count'>"
      ]
     },
     "execution_count": 29,
     "metadata": {},
     "output_type": "execute_result"
    },
    {
     "data": {
      "image/png": "[encoded data removed]",
      "text/plain": [
       "<Figure size 432x288 with 1 Axes>"
      ]
     },
     "metadata": {
      "needs_background": "light"
     },
     "output_type": "display_data"
    }
   ],
   "source": [
    "import seaborn as sns\n",
    "sns.histplot(df_visualization_continuous['salary'], kde= True)"
   ]
  },
  {
   "cell_type": "code",
   "execution_count": 30,
   "id": "a011d9e8",
   "metadata": {},
   "outputs": [
    {
     "data": {
      "text/plain": [
       "<AxesSubplot:xlabel='yrs.since.phd', ylabel='Count'>"
      ]
     },
     "execution_count": 30,
     "metadata": {},
     "output_type": "execute_result"
    },
    {
     "data": {
      "image/png": "[encoded data removed]",
      "text/plain": [
       "<Figure size 432x288 with 1 Axes>"
      ]
     },
     "metadata": {
      "needs_background": "light"
     },
     "output_type": "display_data"
    }
   ],
   "source": [
    "sns.histplot(df_visualization_continuous['yrs.since.phd'], kde= True)"
   ]
  },
  {
   "cell_type": "code",
   "execution_count": 31,
   "id": "c79c83b7",
   "metadata": {},
   "outputs": [
    {
     "data": {
      "text/plain": [
       "<AxesSubplot:xlabel='yrs.service', ylabel='Count'>"
      ]
     },
     "execution_count": 31,
     "metadata": {},
     "output_type": "execute_result"
    },
    {
     "data": {
      "image/png": "[encoded data removed]",
      "text/plain": [
       "<Figure size 432x288 with 1 Axes>"
      ]
     },
     "metadata": {
      "needs_background": "light"
     },
     "output_type": "display_data"
    }
   ],
   "source": [
    "sns.histplot(df_visualization_continuous['yrs.service'], kde= True)"
   ]
  },
  {
   "cell_type": "code",
   "execution_count": null,
   "id": "6f736ea8",
   "metadata": {},
   "outputs": [],
   "source": []
  },
  {
   "cell_type": "code",
   "execution_count": 32,
   "id": "95994012",
   "metadata": {},
   "outputs": [],
   "source": [
    "#since, we have seen there are 3 object type columns are there, we need to encode these columnns in order to convert the string values into numerical ones\n",
    "\n",
    "from sklearn.preprocessing import OrdinalEncoder\n",
    "enc= OrdinalEncoder()"
   ]
  },
  {
   "cell_type": "code",
   "execution_count": 33,
   "id": "e5a47e47",
   "metadata": {},
   "outputs": [
    {
     "name": "stderr",
     "output_type": "stream",
     "text": [
      "C:\\Users\\solan\\AppData\\Local\\Temp/ipykernel_30272/3753263363.py:3: SettingWithCopyWarning: \n",
      "A value is trying to be set on a copy of a slice from a DataFrame.\n",
      "Try using .loc[row_indexer,col_indexer] = value instead\n",
      "\n",
      "See the caveats in the documentation: https://pandas.pydata.org/pandas-docs/stable/user_guide/indexing.html#returning-a-view-versus-a-copy\n",
      "  df[i]= enc.fit_transform(df[i].values.reshape(-1,1))\n",
      "C:\\Users\\solan\\AppData\\Local\\Temp/ipykernel_30272/3753263363.py:3: SettingWithCopyWarning: \n",
      "A value is trying to be set on a copy of a slice from a DataFrame.\n",
      "Try using .loc[row_indexer,col_indexer] = value instead\n",
      "\n",
      "See the caveats in the documentation: https://pandas.pydata.org/pandas-docs/stable/user_guide/indexing.html#returning-a-view-versus-a-copy\n",
      "  df[i]= enc.fit_transform(df[i].values.reshape(-1,1))\n",
      "C:\\Users\\solan\\AppData\\Local\\Temp/ipykernel_30272/3753263363.py:3: SettingWithCopyWarning: \n",
      "A value is trying to be set on a copy of a slice from a DataFrame.\n",
      "Try using .loc[row_indexer,col_indexer] = value instead\n",
      "\n",
      "See the caveats in the documentation: https://pandas.pydata.org/pandas-docs/stable/user_guide/indexing.html#returning-a-view-versus-a-copy\n",
      "  df[i]= enc.fit_transform(df[i].values.reshape(-1,1))\n"
     ]
    }
   ],
   "source": [
    "for i in df.columns:\n",
    "    if df[i].dtypes=='object':\n",
    "        df[i]= enc.fit_transform(df[i].values.reshape(-1,1))"
   ]
  },
  {
   "cell_type": "code",
   "execution_count": 34,
   "id": "b985434e",
   "metadata": {},
   "outputs": [
    {
     "data": {
      "text/html": [
       "<div>\n",
       "<style scoped>\n",
       "    .dataframe tbody tr th:only-of-type {\n",
       "        vertical-align: middle;\n",
       "    }\n",
       "\n",
       "    .dataframe tbody tr th {\n",
       "        vertical-align: top;\n",
       "    }\n",
       "\n",
       "    .dataframe thead th {\n",
       "        text-align: right;\n",
       "    }\n",
       "</style>\n",
       "<table border=\"1\" class=\"dataframe\">\n",
       "  <thead>\n",
       "    <tr style=\"text-align: right;\">\n",
       "      <th></th>\n",
       "      <th>rank</th>\n",
       "      <th>discipline</th>\n",
       "      <th>yrs.since.phd</th>\n",
       "      <th>yrs.service</th>\n",
       "      <th>sex</th>\n",
       "      <th>salary</th>\n",
       "    </tr>\n",
       "  </thead>\n",
       "  <tbody>\n",
       "    <tr>\n",
       "      <th>0</th>\n",
       "      <td>2.0</td>\n",
       "      <td>1.0</td>\n",
       "      <td>19</td>\n",
       "      <td>18</td>\n",
       "      <td>1.0</td>\n",
       "      <td>139750</td>\n",
       "    </tr>\n",
       "    <tr>\n",
       "      <th>1</th>\n",
       "      <td>2.0</td>\n",
       "      <td>1.0</td>\n",
       "      <td>20</td>\n",
       "      <td>16</td>\n",
       "      <td>1.0</td>\n",
       "      <td>173200</td>\n",
       "    </tr>\n",
       "    <tr>\n",
       "      <th>2</th>\n",
       "      <td>1.0</td>\n",
       "      <td>1.0</td>\n",
       "      <td>4</td>\n",
       "      <td>3</td>\n",
       "      <td>1.0</td>\n",
       "      <td>79750</td>\n",
       "    </tr>\n",
       "    <tr>\n",
       "      <th>3</th>\n",
       "      <td>2.0</td>\n",
       "      <td>1.0</td>\n",
       "      <td>45</td>\n",
       "      <td>39</td>\n",
       "      <td>1.0</td>\n",
       "      <td>115000</td>\n",
       "    </tr>\n",
       "    <tr>\n",
       "      <th>4</th>\n",
       "      <td>2.0</td>\n",
       "      <td>1.0</td>\n",
       "      <td>40</td>\n",
       "      <td>41</td>\n",
       "      <td>1.0</td>\n",
       "      <td>141500</td>\n",
       "    </tr>\n",
       "    <tr>\n",
       "      <th>...</th>\n",
       "      <td>...</td>\n",
       "      <td>...</td>\n",
       "      <td>...</td>\n",
       "      <td>...</td>\n",
       "      <td>...</td>\n",
       "      <td>...</td>\n",
       "    </tr>\n",
       "    <tr>\n",
       "      <th>392</th>\n",
       "      <td>2.0</td>\n",
       "      <td>0.0</td>\n",
       "      <td>33</td>\n",
       "      <td>30</td>\n",
       "      <td>1.0</td>\n",
       "      <td>103106</td>\n",
       "    </tr>\n",
       "    <tr>\n",
       "      <th>393</th>\n",
       "      <td>2.0</td>\n",
       "      <td>0.0</td>\n",
       "      <td>31</td>\n",
       "      <td>19</td>\n",
       "      <td>1.0</td>\n",
       "      <td>150564</td>\n",
       "    </tr>\n",
       "    <tr>\n",
       "      <th>394</th>\n",
       "      <td>2.0</td>\n",
       "      <td>0.0</td>\n",
       "      <td>42</td>\n",
       "      <td>25</td>\n",
       "      <td>1.0</td>\n",
       "      <td>101738</td>\n",
       "    </tr>\n",
       "    <tr>\n",
       "      <th>395</th>\n",
       "      <td>2.0</td>\n",
       "      <td>0.0</td>\n",
       "      <td>25</td>\n",
       "      <td>15</td>\n",
       "      <td>1.0</td>\n",
       "      <td>95329</td>\n",
       "    </tr>\n",
       "    <tr>\n",
       "      <th>396</th>\n",
       "      <td>1.0</td>\n",
       "      <td>0.0</td>\n",
       "      <td>8</td>\n",
       "      <td>4</td>\n",
       "      <td>1.0</td>\n",
       "      <td>81035</td>\n",
       "    </tr>\n",
       "  </tbody>\n",
       "</table>\n",
       "<p>393 rows × 6 columns</p>\n",
       "</div>"
      ],
      "text/plain": [
       "     rank  discipline  yrs.since.phd  yrs.service  sex  salary\n",
       "0     2.0         1.0             19           18  1.0  139750\n",
       "1     2.0         1.0             20           16  1.0  173200\n",
       "2     1.0         1.0              4            3  1.0   79750\n",
       "3     2.0         1.0             45           39  1.0  115000\n",
       "4     2.0         1.0             40           41  1.0  141500\n",
       "..    ...         ...            ...          ...  ...     ...\n",
       "392   2.0         0.0             33           30  1.0  103106\n",
       "393   2.0         0.0             31           19  1.0  150564\n",
       "394   2.0         0.0             42           25  1.0  101738\n",
       "395   2.0         0.0             25           15  1.0   95329\n",
       "396   1.0         0.0              8            4  1.0   81035\n",
       "\n",
       "[393 rows x 6 columns]"
      ]
     },
     "execution_count": 34,
     "metadata": {},
     "output_type": "execute_result"
    }
   ],
   "source": [
    "df"
   ]
  },
  {
   "cell_type": "code",
   "execution_count": 35,
   "id": "98257aea",
   "metadata": {},
   "outputs": [
    {
     "data": {
      "text/html": [
       "<div>\n",
       "<style scoped>\n",
       "    .dataframe tbody tr th:only-of-type {\n",
       "        vertical-align: middle;\n",
       "    }\n",
       "\n",
       "    .dataframe tbody tr th {\n",
       "        vertical-align: top;\n",
       "    }\n",
       "\n",
       "    .dataframe thead th {\n",
       "        text-align: right;\n",
       "    }\n",
       "</style>\n",
       "<table border=\"1\" class=\"dataframe\">\n",
       "  <thead>\n",
       "    <tr style=\"text-align: right;\">\n",
       "      <th></th>\n",
       "      <th>rank</th>\n",
       "      <th>discipline</th>\n",
       "      <th>yrs.since.phd</th>\n",
       "      <th>yrs.service</th>\n",
       "      <th>sex</th>\n",
       "      <th>salary</th>\n",
       "    </tr>\n",
       "  </thead>\n",
       "  <tbody>\n",
       "    <tr>\n",
       "      <th>count</th>\n",
       "      <td>393.000000</td>\n",
       "      <td>393.000000</td>\n",
       "      <td>393.000000</td>\n",
       "      <td>393.000000</td>\n",
       "      <td>393.000000</td>\n",
       "      <td>393.000000</td>\n",
       "    </tr>\n",
       "    <tr>\n",
       "      <th>mean</th>\n",
       "      <td>1.513995</td>\n",
       "      <td>0.539440</td>\n",
       "      <td>22.503817</td>\n",
       "      <td>17.755725</td>\n",
       "      <td>0.900763</td>\n",
       "      <td>113930.844784</td>\n",
       "    </tr>\n",
       "    <tr>\n",
       "      <th>std</th>\n",
       "      <td>0.759587</td>\n",
       "      <td>0.499077</td>\n",
       "      <td>12.814637</td>\n",
       "      <td>12.996129</td>\n",
       "      <td>0.299361</td>\n",
       "      <td>30360.608788</td>\n",
       "    </tr>\n",
       "    <tr>\n",
       "      <th>min</th>\n",
       "      <td>0.000000</td>\n",
       "      <td>0.000000</td>\n",
       "      <td>1.000000</td>\n",
       "      <td>0.000000</td>\n",
       "      <td>0.000000</td>\n",
       "      <td>57800.000000</td>\n",
       "    </tr>\n",
       "    <tr>\n",
       "      <th>25%</th>\n",
       "      <td>1.000000</td>\n",
       "      <td>0.000000</td>\n",
       "      <td>12.000000</td>\n",
       "      <td>7.000000</td>\n",
       "      <td>1.000000</td>\n",
       "      <td>91000.000000</td>\n",
       "    </tr>\n",
       "    <tr>\n",
       "      <th>50%</th>\n",
       "      <td>2.000000</td>\n",
       "      <td>1.000000</td>\n",
       "      <td>21.000000</td>\n",
       "      <td>17.000000</td>\n",
       "      <td>1.000000</td>\n",
       "      <td>107500.000000</td>\n",
       "    </tr>\n",
       "    <tr>\n",
       "      <th>75%</th>\n",
       "      <td>2.000000</td>\n",
       "      <td>1.000000</td>\n",
       "      <td>32.000000</td>\n",
       "      <td>27.000000</td>\n",
       "      <td>1.000000</td>\n",
       "      <td>134550.000000</td>\n",
       "    </tr>\n",
       "    <tr>\n",
       "      <th>max</th>\n",
       "      <td>2.000000</td>\n",
       "      <td>1.000000</td>\n",
       "      <td>56.000000</td>\n",
       "      <td>60.000000</td>\n",
       "      <td>1.000000</td>\n",
       "      <td>231545.000000</td>\n",
       "    </tr>\n",
       "  </tbody>\n",
       "</table>\n",
       "</div>"
      ],
      "text/plain": [
       "             rank  discipline  yrs.since.phd  yrs.service         sex  \\\n",
       "count  393.000000  393.000000     393.000000   393.000000  393.000000   \n",
       "mean     1.513995    0.539440      22.503817    17.755725    0.900763   \n",
       "std      0.759587    0.499077      12.814637    12.996129    0.299361   \n",
       "min      0.000000    0.000000       1.000000     0.000000    0.000000   \n",
       "25%      1.000000    0.000000      12.000000     7.000000    1.000000   \n",
       "50%      2.000000    1.000000      21.000000    17.000000    1.000000   \n",
       "75%      2.000000    1.000000      32.000000    27.000000    1.000000   \n",
       "max      2.000000    1.000000      56.000000    60.000000    1.000000   \n",
       "\n",
       "              salary  \n",
       "count     393.000000  \n",
       "mean   113930.844784  \n",
       "std     30360.608788  \n",
       "min     57800.000000  \n",
       "25%     91000.000000  \n",
       "50%    107500.000000  \n",
       "75%    134550.000000  \n",
       "max    231545.000000  "
      ]
     },
     "execution_count": 35,
     "metadata": {},
     "output_type": "execute_result"
    }
   ],
   "source": [
    "df.describe()"
   ]
  },
  {
   "cell_type": "code",
   "execution_count": 36,
   "id": "1c13af22",
   "metadata": {},
   "outputs": [
    {
     "data": {
      "text/plain": [
       "array([2., 1., 0.])"
      ]
     },
     "execution_count": 36,
     "metadata": {},
     "output_type": "execute_result"
    }
   ],
   "source": [
    "df['rank'].unique()"
   ]
  },
  {
   "cell_type": "code",
   "execution_count": 37,
   "id": "38dc7c25",
   "metadata": {},
   "outputs": [
    {
     "data": {
      "text/plain": [
       "array([1., 0.])"
      ]
     },
     "execution_count": 37,
     "metadata": {},
     "output_type": "execute_result"
    }
   ],
   "source": [
    "df['discipline'].unique()"
   ]
  },
  {
   "cell_type": "code",
   "execution_count": 38,
   "id": "554e3dcf",
   "metadata": {},
   "outputs": [
    {
     "data": {
      "text/plain": [
       "array([1., 0.])"
      ]
     },
     "execution_count": 38,
     "metadata": {},
     "output_type": "execute_result"
    }
   ],
   "source": [
    "df['sex'].unique()"
   ]
  },
  {
   "cell_type": "code",
   "execution_count": 39,
   "id": "5ccba909",
   "metadata": {},
   "outputs": [],
   "source": [
    "#let us make a heatmap"
   ]
  },
  {
   "cell_type": "code",
   "execution_count": 40,
   "id": "4713ded9",
   "metadata": {},
   "outputs": [
    {
     "data": {
      "text/plain": [
       "<AxesSubplot:>"
      ]
     },
     "execution_count": 40,
     "metadata": {},
     "output_type": "execute_result"
    },
    {
     "data": {
      "image/png": "[encoded data removed]",
      "text/plain": [
       "<Figure size 1728x576 with 2 Axes>"
      ]
     },
     "metadata": {
      "needs_background": "light"
     },
     "output_type": "display_data"
    }
   ],
   "source": [
    "import matplotlib.pyplot as plt\n",
    "plt.figure(figsize=(24,8))\n",
    "sns.heatmap(df.describe(), annot= True, linewidths= 0.1, linecolor= 'black', fmt= '0.2f')"
   ]
  },
  {
   "cell_type": "code",
   "execution_count": 41,
   "id": "e21e7121",
   "metadata": {},
   "outputs": [],
   "source": [
    "#correlation of the columns with the target column"
   ]
  },
  {
   "cell_type": "code",
   "execution_count": 42,
   "id": "4755624c",
   "metadata": {},
   "outputs": [
    {
     "data": {
      "text/plain": [
       "sex              0.141521\n",
       "discipline       0.164018\n",
       "yrs.service      0.329624\n",
       "yrs.since.phd    0.414042\n",
       "rank             0.519823\n",
       "salary           1.000000\n",
       "Name: salary, dtype: float64"
      ]
     },
     "execution_count": 42,
     "metadata": {},
     "output_type": "execute_result"
    }
   ],
   "source": [
    "df.corr()['salary'].sort_values()"
   ]
  },
  {
   "cell_type": "code",
   "execution_count": 43,
   "id": "ef1b7db1",
   "metadata": {},
   "outputs": [
    {
     "data": {
      "text/plain": [
       "<AxesSubplot:>"
      ]
     },
     "execution_count": 43,
     "metadata": {},
     "output_type": "execute_result"
    },
    {
     "data": {
      "image/png": "[encoded data removed]",
      "text/plain": [
       "<Figure size 1728x576 with 2 Axes>"
      ]
     },
     "metadata": {
      "needs_background": "light"
     },
     "output_type": "display_data"
    }
   ],
   "source": [
    "plt.figure(figsize=(24,8))\n",
    "sns.heatmap(df.corr(), annot= True, linewidths= 0.1, linecolor= 'black', fmt= '0.2f')"
   ]
  },
  {
   "cell_type": "code",
   "execution_count": 44,
   "id": "dafd9613",
   "metadata": {},
   "outputs": [],
   "source": [
    "#let us now check the columns which are positively and/or negatively correlated with the target column."
   ]
  },
  {
   "cell_type": "code",
   "execution_count": 45,
   "id": "35985891",
   "metadata": {},
   "outputs": [
    {
     "data": {
      "image/png": "[encoded data removed]",
      "text/plain": [
       "<Figure size 1584x504 with 1 Axes>"
      ]
     },
     "metadata": {
      "needs_background": "light"
     },
     "output_type": "display_data"
    }
   ],
   "source": [
    "plt.figure(figsize=(22,7))\n",
    "df.corr()['salary'].sort_values(ascending=False).drop(['salary']).plot(kind='bar', color='c')\n",
    "plt.xlabel('Features', fontsize=15)\n",
    "plt.ylabel('column with target names', fontsize= 15)\n",
    "plt.title('Correlation', fontsize= 15)\n",
    "plt.show()"
   ]
  },
  {
   "cell_type": "code",
   "execution_count": 46,
   "id": "c8dbbefc",
   "metadata": {},
   "outputs": [
    {
     "data": {
      "text/plain": [
       "rank            -1.170826\n",
       "discipline      -0.158861\n",
       "yrs.since.phd    0.295915\n",
       "yrs.service      0.638491\n",
       "sex             -2.691158\n",
       "salary           0.698471\n",
       "dtype: float64"
      ]
     },
     "execution_count": 46,
     "metadata": {},
     "output_type": "execute_result"
    }
   ],
   "source": [
    "#skewness\n",
    "\n",
    "df.skew()"
   ]
  },
  {
   "cell_type": "code",
   "execution_count": 47,
   "id": "c0b16e0c",
   "metadata": {},
   "outputs": [
    {
     "data": {
      "text/plain": [
       "rank             float64\n",
       "discipline       float64\n",
       "yrs.since.phd      int64\n",
       "yrs.service        int64\n",
       "sex              float64\n",
       "salary             int64\n",
       "dtype: object"
      ]
     },
     "execution_count": 47,
     "metadata": {},
     "output_type": "execute_result"
    }
   ],
   "source": [
    "#outliers check\n",
    "\n",
    "df.dtypes"
   ]
  },
  {
   "cell_type": "code",
   "execution_count": 48,
   "id": "d6dc4a3c",
   "metadata": {},
   "outputs": [
    {
     "data": {
      "text/plain": [
       "<AxesSubplot:>"
      ]
     },
     "execution_count": 48,
     "metadata": {},
     "output_type": "execute_result"
    },
    {
     "data": {
      "image/png": "[encoded data removed]",
      "text/plain": [
       "<Figure size 432x288 with 1 Axes>"
      ]
     },
     "metadata": {
      "needs_background": "light"
     },
     "output_type": "display_data"
    }
   ],
   "source": [
    "df['rank'].plot.box()"
   ]
  },
  {
   "cell_type": "code",
   "execution_count": 49,
   "id": "93c1d544",
   "metadata": {},
   "outputs": [
    {
     "data": {
      "text/plain": [
       "<AxesSubplot:>"
      ]
     },
     "execution_count": 49,
     "metadata": {},
     "output_type": "execute_result"
    },
    {
     "data": {
      "image/png": "[encoded data removed]",
      "text/plain": [
       "<Figure size 432x288 with 1 Axes>"
      ]
     },
     "metadata": {
      "needs_background": "light"
     },
     "output_type": "display_data"
    }
   ],
   "source": [
    "df['discipline'].plot.box()"
   ]
  },
  {
   "cell_type": "code",
   "execution_count": 50,
   "id": "03628562",
   "metadata": {},
   "outputs": [
    {
     "data": {
      "text/plain": [
       "<AxesSubplot:>"
      ]
     },
     "execution_count": 50,
     "metadata": {},
     "output_type": "execute_result"
    },
    {
     "data": {
      "image/png": "[encoded data removed]",
      "text/plain": [
       "<Figure size 432x288 with 1 Axes>"
      ]
     },
     "metadata": {
      "needs_background": "light"
     },
     "output_type": "display_data"
    }
   ],
   "source": [
    "df['yrs.since.phd'].plot.box()"
   ]
  },
  {
   "cell_type": "code",
   "execution_count": 51,
   "id": "9f0141a5",
   "metadata": {},
   "outputs": [
    {
     "data": {
      "text/plain": [
       "<AxesSubplot:>"
      ]
     },
     "execution_count": 51,
     "metadata": {},
     "output_type": "execute_result"
    },
    {
     "data": {
      "image/png": "[encoded data removed]",
      "text/plain": [
       "<Figure size 432x288 with 1 Axes>"
      ]
     },
     "metadata": {
      "needs_background": "light"
     },
     "output_type": "display_data"
    }
   ],
   "source": [
    "df['yrs.service'].plot.box()"
   ]
  },
  {
   "cell_type": "code",
   "execution_count": 52,
   "id": "880387f0",
   "metadata": {},
   "outputs": [
    {
     "data": {
      "text/plain": [
       "<AxesSubplot:>"
      ]
     },
     "execution_count": 52,
     "metadata": {},
     "output_type": "execute_result"
    },
    {
     "data": {
      "image/png": "[encoded data removed]",
      "text/plain": [
       "<Figure size 432x288 with 1 Axes>"
      ]
     },
     "metadata": {
      "needs_background": "light"
     },
     "output_type": "display_data"
    }
   ],
   "source": [
    "df['sex'].plot.box()"
   ]
  },
  {
   "cell_type": "code",
   "execution_count": 53,
   "id": "e2dd543c",
   "metadata": {},
   "outputs": [
    {
     "data": {
      "text/plain": [
       "(393, 6)"
      ]
     },
     "execution_count": 53,
     "metadata": {},
     "output_type": "execute_result"
    }
   ],
   "source": [
    "#consider the outliers removal\n",
    "df.shape"
   ]
  },
  {
   "cell_type": "code",
   "execution_count": 54,
   "id": "f2d71930",
   "metadata": {},
   "outputs": [
    {
     "data": {
      "text/plain": [
       "(array([  9,  19,  24,  34,  35,  43,  47,  48,  52,  63,  68,  84,  90,\n",
       "        103, 114, 119, 123, 127, 131, 132, 133, 148, 152, 177, 184, 214,\n",
       "        226, 227, 229, 233, 241, 249, 250, 270, 312, 319, 326, 328, 330,\n",
       "        337, 354, 357, 360], dtype=int64),\n",
       " array([4, 4, 4, 4, 4, 5, 4, 4, 4, 4, 4, 4, 4, 4, 4, 4, 4, 4, 3, 4, 4, 4,\n",
       "        4, 4, 4, 4, 4, 4, 4, 4, 4, 4, 4, 4, 4, 4, 3, 4, 4, 4, 4, 4, 5],\n",
       "       dtype=int64))"
      ]
     },
     "execution_count": 54,
     "metadata": {},
     "output_type": "execute_result"
    }
   ],
   "source": [
    "from scipy.stats import zscore\n",
    "import numpy as np\n",
    "z=np.abs(zscore(df))\n",
    "threshold= 3\n",
    "np.where(z>3)"
   ]
  },
  {
   "cell_type": "code",
   "execution_count": 55,
   "id": "23b64f94",
   "metadata": {},
   "outputs": [
    {
     "data": {
      "text/html": [
       "<div>\n",
       "<style scoped>\n",
       "    .dataframe tbody tr th:only-of-type {\n",
       "        vertical-align: middle;\n",
       "    }\n",
       "\n",
       "    .dataframe tbody tr th {\n",
       "        vertical-align: top;\n",
       "    }\n",
       "\n",
       "    .dataframe thead th {\n",
       "        text-align: right;\n",
       "    }\n",
       "</style>\n",
       "<table border=\"1\" class=\"dataframe\">\n",
       "  <thead>\n",
       "    <tr style=\"text-align: right;\">\n",
       "      <th></th>\n",
       "      <th>rank</th>\n",
       "      <th>discipline</th>\n",
       "      <th>yrs.since.phd</th>\n",
       "      <th>yrs.service</th>\n",
       "      <th>sex</th>\n",
       "      <th>salary</th>\n",
       "    </tr>\n",
       "  </thead>\n",
       "  <tbody>\n",
       "    <tr>\n",
       "      <th>0</th>\n",
       "      <td>2.0</td>\n",
       "      <td>1.0</td>\n",
       "      <td>19</td>\n",
       "      <td>18</td>\n",
       "      <td>1.0</td>\n",
       "      <td>139750</td>\n",
       "    </tr>\n",
       "    <tr>\n",
       "      <th>1</th>\n",
       "      <td>2.0</td>\n",
       "      <td>1.0</td>\n",
       "      <td>20</td>\n",
       "      <td>16</td>\n",
       "      <td>1.0</td>\n",
       "      <td>173200</td>\n",
       "    </tr>\n",
       "    <tr>\n",
       "      <th>2</th>\n",
       "      <td>1.0</td>\n",
       "      <td>1.0</td>\n",
       "      <td>4</td>\n",
       "      <td>3</td>\n",
       "      <td>1.0</td>\n",
       "      <td>79750</td>\n",
       "    </tr>\n",
       "    <tr>\n",
       "      <th>3</th>\n",
       "      <td>2.0</td>\n",
       "      <td>1.0</td>\n",
       "      <td>45</td>\n",
       "      <td>39</td>\n",
       "      <td>1.0</td>\n",
       "      <td>115000</td>\n",
       "    </tr>\n",
       "    <tr>\n",
       "      <th>4</th>\n",
       "      <td>2.0</td>\n",
       "      <td>1.0</td>\n",
       "      <td>40</td>\n",
       "      <td>41</td>\n",
       "      <td>1.0</td>\n",
       "      <td>141500</td>\n",
       "    </tr>\n",
       "    <tr>\n",
       "      <th>...</th>\n",
       "      <td>...</td>\n",
       "      <td>...</td>\n",
       "      <td>...</td>\n",
       "      <td>...</td>\n",
       "      <td>...</td>\n",
       "      <td>...</td>\n",
       "    </tr>\n",
       "    <tr>\n",
       "      <th>392</th>\n",
       "      <td>2.0</td>\n",
       "      <td>0.0</td>\n",
       "      <td>33</td>\n",
       "      <td>30</td>\n",
       "      <td>1.0</td>\n",
       "      <td>103106</td>\n",
       "    </tr>\n",
       "    <tr>\n",
       "      <th>393</th>\n",
       "      <td>2.0</td>\n",
       "      <td>0.0</td>\n",
       "      <td>31</td>\n",
       "      <td>19</td>\n",
       "      <td>1.0</td>\n",
       "      <td>150564</td>\n",
       "    </tr>\n",
       "    <tr>\n",
       "      <th>394</th>\n",
       "      <td>2.0</td>\n",
       "      <td>0.0</td>\n",
       "      <td>42</td>\n",
       "      <td>25</td>\n",
       "      <td>1.0</td>\n",
       "      <td>101738</td>\n",
       "    </tr>\n",
       "    <tr>\n",
       "      <th>395</th>\n",
       "      <td>2.0</td>\n",
       "      <td>0.0</td>\n",
       "      <td>25</td>\n",
       "      <td>15</td>\n",
       "      <td>1.0</td>\n",
       "      <td>95329</td>\n",
       "    </tr>\n",
       "    <tr>\n",
       "      <th>396</th>\n",
       "      <td>1.0</td>\n",
       "      <td>0.0</td>\n",
       "      <td>8</td>\n",
       "      <td>4</td>\n",
       "      <td>1.0</td>\n",
       "      <td>81035</td>\n",
       "    </tr>\n",
       "  </tbody>\n",
       "</table>\n",
       "<p>350 rows × 6 columns</p>\n",
       "</div>"
      ],
      "text/plain": [
       "     rank  discipline  yrs.since.phd  yrs.service  sex  salary\n",
       "0     2.0         1.0             19           18  1.0  139750\n",
       "1     2.0         1.0             20           16  1.0  173200\n",
       "2     1.0         1.0              4            3  1.0   79750\n",
       "3     2.0         1.0             45           39  1.0  115000\n",
       "4     2.0         1.0             40           41  1.0  141500\n",
       "..    ...         ...            ...          ...  ...     ...\n",
       "392   2.0         0.0             33           30  1.0  103106\n",
       "393   2.0         0.0             31           19  1.0  150564\n",
       "394   2.0         0.0             42           25  1.0  101738\n",
       "395   2.0         0.0             25           15  1.0   95329\n",
       "396   1.0         0.0              8            4  1.0   81035\n",
       "\n",
       "[350 rows x 6 columns]"
      ]
     },
     "execution_count": 55,
     "metadata": {},
     "output_type": "execute_result"
    }
   ],
   "source": [
    "df_new_z= df[(z<3).all(axis=1)]\n",
    "df_new_z"
   ]
  },
  {
   "cell_type": "code",
   "execution_count": 56,
   "id": "7a7a7d44",
   "metadata": {},
   "outputs": [
    {
     "data": {
      "text/plain": [
       "(350, 6)"
      ]
     },
     "execution_count": 56,
     "metadata": {},
     "output_type": "execute_result"
    }
   ],
   "source": [
    "df_new_z.shape"
   ]
  },
  {
   "cell_type": "code",
   "execution_count": 57,
   "id": "8b74b320",
   "metadata": {},
   "outputs": [
    {
     "data": {
      "text/plain": [
       "array([2., 1., 0.])"
      ]
     },
     "execution_count": 57,
     "metadata": {},
     "output_type": "execute_result"
    }
   ],
   "source": [
    "df_new_z['rank'].unique()"
   ]
  },
  {
   "cell_type": "code",
   "execution_count": 58,
   "id": "5544cfec",
   "metadata": {},
   "outputs": [
    {
     "data": {
      "text/plain": [
       "array([1., 0.])"
      ]
     },
     "execution_count": 58,
     "metadata": {},
     "output_type": "execute_result"
    }
   ],
   "source": [
    "df_new_z['discipline'].unique()"
   ]
  },
  {
   "cell_type": "code",
   "execution_count": 59,
   "id": "bdc4cbcf",
   "metadata": {},
   "outputs": [
    {
     "data": {
      "text/plain": [
       "array([19, 20,  4, 45, 40,  6, 30, 21, 12,  7,  1,  2, 38, 37, 31, 36, 34,\n",
       "       24, 35,  5, 11, 13, 22, 41,  9, 23, 25, 28, 16, 14, 10,  8,  3, 33,\n",
       "       17, 29, 26, 43, 15, 42, 18, 39, 32, 54, 27, 48, 46, 47, 52, 51, 49,\n",
       "       56, 44], dtype=int64)"
      ]
     },
     "execution_count": 59,
     "metadata": {},
     "output_type": "execute_result"
    }
   ],
   "source": [
    "df_new_z['yrs.since.phd'].unique()"
   ]
  },
  {
   "cell_type": "code",
   "execution_count": 60,
   "id": "c32f7f78",
   "metadata": {},
   "outputs": [
    {
     "data": {
      "text/plain": [
       "array([18, 16,  3, 39, 41,  6, 23, 45, 20,  8,  2,  1,  0, 34, 26, 31, 30,\n",
       "       19,  4,  9, 21, 27, 15, 28, 11,  5, 12, 36, 14, 37, 25,  7, 38, 10,\n",
       "       29, 32, 22, 49, 24, 53, 33, 40, 17, 35, 43, 44, 48, 46, 51, 13],\n",
       "      dtype=int64)"
      ]
     },
     "execution_count": 60,
     "metadata": {},
     "output_type": "execute_result"
    }
   ],
   "source": [
    "df_new_z['yrs.service'].unique()"
   ]
  },
  {
   "cell_type": "code",
   "execution_count": 61,
   "id": "15256d61",
   "metadata": {},
   "outputs": [
    {
     "data": {
      "text/plain": [
       "array([1.])"
      ]
     },
     "execution_count": 61,
     "metadata": {},
     "output_type": "execute_result"
    }
   ],
   "source": [
    "df_new_z['sex'].unique()"
   ]
  },
  {
   "cell_type": "code",
   "execution_count": 62,
   "id": "89814ec9",
   "metadata": {},
   "outputs": [],
   "source": [
    "# Our data is becoming biased as it is not considering the case of females. So we will not remove the outliers."
   ]
  },
  {
   "cell_type": "code",
   "execution_count": null,
   "id": "888f9a33",
   "metadata": {},
   "outputs": [],
   "source": []
  },
  {
   "cell_type": "code",
   "execution_count": 63,
   "id": "512f4321",
   "metadata": {},
   "outputs": [],
   "source": [
    "#Seperating the columns into target features"
   ]
  },
  {
   "cell_type": "code",
   "execution_count": 64,
   "id": "1b18bc0d",
   "metadata": {},
   "outputs": [],
   "source": [
    "features= df.drop(['salary'], axis=1)\n",
    "target= df['salary']"
   ]
  },
  {
   "cell_type": "code",
   "execution_count": 65,
   "id": "da63a70a",
   "metadata": {},
   "outputs": [
    {
     "data": {
      "text/html": [
       "<div>\n",
       "<style scoped>\n",
       "    .dataframe tbody tr th:only-of-type {\n",
       "        vertical-align: middle;\n",
       "    }\n",
       "\n",
       "    .dataframe tbody tr th {\n",
       "        vertical-align: top;\n",
       "    }\n",
       "\n",
       "    .dataframe thead th {\n",
       "        text-align: right;\n",
       "    }\n",
       "</style>\n",
       "<table border=\"1\" class=\"dataframe\">\n",
       "  <thead>\n",
       "    <tr style=\"text-align: right;\">\n",
       "      <th></th>\n",
       "      <th>rank</th>\n",
       "      <th>discipline</th>\n",
       "      <th>yrs.since.phd</th>\n",
       "      <th>yrs.service</th>\n",
       "      <th>sex</th>\n",
       "    </tr>\n",
       "  </thead>\n",
       "  <tbody>\n",
       "    <tr>\n",
       "      <th>0</th>\n",
       "      <td>2.0</td>\n",
       "      <td>1.0</td>\n",
       "      <td>19</td>\n",
       "      <td>18</td>\n",
       "      <td>1.0</td>\n",
       "    </tr>\n",
       "    <tr>\n",
       "      <th>1</th>\n",
       "      <td>2.0</td>\n",
       "      <td>1.0</td>\n",
       "      <td>20</td>\n",
       "      <td>16</td>\n",
       "      <td>1.0</td>\n",
       "    </tr>\n",
       "    <tr>\n",
       "      <th>2</th>\n",
       "      <td>1.0</td>\n",
       "      <td>1.0</td>\n",
       "      <td>4</td>\n",
       "      <td>3</td>\n",
       "      <td>1.0</td>\n",
       "    </tr>\n",
       "    <tr>\n",
       "      <th>3</th>\n",
       "      <td>2.0</td>\n",
       "      <td>1.0</td>\n",
       "      <td>45</td>\n",
       "      <td>39</td>\n",
       "      <td>1.0</td>\n",
       "    </tr>\n",
       "    <tr>\n",
       "      <th>4</th>\n",
       "      <td>2.0</td>\n",
       "      <td>1.0</td>\n",
       "      <td>40</td>\n",
       "      <td>41</td>\n",
       "      <td>1.0</td>\n",
       "    </tr>\n",
       "    <tr>\n",
       "      <th>...</th>\n",
       "      <td>...</td>\n",
       "      <td>...</td>\n",
       "      <td>...</td>\n",
       "      <td>...</td>\n",
       "      <td>...</td>\n",
       "    </tr>\n",
       "    <tr>\n",
       "      <th>392</th>\n",
       "      <td>2.0</td>\n",
       "      <td>0.0</td>\n",
       "      <td>33</td>\n",
       "      <td>30</td>\n",
       "      <td>1.0</td>\n",
       "    </tr>\n",
       "    <tr>\n",
       "      <th>393</th>\n",
       "      <td>2.0</td>\n",
       "      <td>0.0</td>\n",
       "      <td>31</td>\n",
       "      <td>19</td>\n",
       "      <td>1.0</td>\n",
       "    </tr>\n",
       "    <tr>\n",
       "      <th>394</th>\n",
       "      <td>2.0</td>\n",
       "      <td>0.0</td>\n",
       "      <td>42</td>\n",
       "      <td>25</td>\n",
       "      <td>1.0</td>\n",
       "    </tr>\n",
       "    <tr>\n",
       "      <th>395</th>\n",
       "      <td>2.0</td>\n",
       "      <td>0.0</td>\n",
       "      <td>25</td>\n",
       "      <td>15</td>\n",
       "      <td>1.0</td>\n",
       "    </tr>\n",
       "    <tr>\n",
       "      <th>396</th>\n",
       "      <td>1.0</td>\n",
       "      <td>0.0</td>\n",
       "      <td>8</td>\n",
       "      <td>4</td>\n",
       "      <td>1.0</td>\n",
       "    </tr>\n",
       "  </tbody>\n",
       "</table>\n",
       "<p>393 rows × 5 columns</p>\n",
       "</div>"
      ],
      "text/plain": [
       "     rank  discipline  yrs.since.phd  yrs.service  sex\n",
       "0     2.0         1.0             19           18  1.0\n",
       "1     2.0         1.0             20           16  1.0\n",
       "2     1.0         1.0              4            3  1.0\n",
       "3     2.0         1.0             45           39  1.0\n",
       "4     2.0         1.0             40           41  1.0\n",
       "..    ...         ...            ...          ...  ...\n",
       "392   2.0         0.0             33           30  1.0\n",
       "393   2.0         0.0             31           19  1.0\n",
       "394   2.0         0.0             42           25  1.0\n",
       "395   2.0         0.0             25           15  1.0\n",
       "396   1.0         0.0              8            4  1.0\n",
       "\n",
       "[393 rows x 5 columns]"
      ]
     },
     "execution_count": 65,
     "metadata": {},
     "output_type": "execute_result"
    }
   ],
   "source": [
    "features"
   ]
  },
  {
   "cell_type": "code",
   "execution_count": 66,
   "id": "774184f7",
   "metadata": {},
   "outputs": [
    {
     "data": {
      "text/plain": [
       "0      139750\n",
       "1      173200\n",
       "2       79750\n",
       "3      115000\n",
       "4      141500\n",
       "        ...  \n",
       "392    103106\n",
       "393    150564\n",
       "394    101738\n",
       "395     95329\n",
       "396     81035\n",
       "Name: salary, Length: 393, dtype: int64"
      ]
     },
     "execution_count": 66,
     "metadata": {},
     "output_type": "execute_result"
    }
   ],
   "source": [
    "target"
   ]
  },
  {
   "cell_type": "code",
   "execution_count": 67,
   "id": "85551d69",
   "metadata": {},
   "outputs": [],
   "source": [
    "#scaling the data using min-max scaler\n",
    "\n",
    "from sklearn.preprocessing import StandardScaler\n",
    "mms= StandardScaler()\n",
    "\n",
    "from sklearn.linear_model import LinearRegression\n",
    "lr= LinearRegression()\n",
    "\n",
    "from sklearn.metrics import r2_score\n",
    "\n",
    "from sklearn.model_selection import train_test_split"
   ]
  },
  {
   "cell_type": "code",
   "execution_count": 68,
   "id": "69a63b08",
   "metadata": {},
   "outputs": [
    {
     "data": {
      "text/plain": [
       "array([[ 0.64064389,  0.92399869, -0.27377157,  0.01881993,  0.3319179 ,\n",
       "         0.85150028],\n",
       "       [ 0.64064389,  0.92399869, -0.19563633, -0.13526822,  0.3319179 ,\n",
       "         1.95466125],\n",
       "       [-0.67753961,  0.92399869, -1.44580016, -1.13684118,  0.3319179 ,\n",
       "        -1.12726379],\n",
       "       ...,\n",
       "       [ 0.64064389, -1.08225261,  1.52333895,  0.55812844,  0.3319179 ,\n",
       "        -0.40211272],\n",
       "       [ 0.64064389, -1.08225261,  0.19503987, -0.21231229,  0.3319179 ,\n",
       "        -0.6134777 ],\n",
       "       [-0.67753961, -1.08225261, -1.1332592 , -1.05979711,  0.3319179 ,\n",
       "        -1.08488526]])"
      ]
     },
     "execution_count": 68,
     "metadata": {},
     "output_type": "execute_result"
    }
   ],
   "source": [
    "scale = StandardScaler()\n",
    "\n",
    "df = scale.fit_transform(df)\n",
    "df"
   ]
  },
  {
   "cell_type": "code",
   "execution_count": null,
   "id": "56381bd8",
   "metadata": {},
   "outputs": [],
   "source": []
  },
  {
   "cell_type": "code",
   "execution_count": 69,
   "id": "0213797e",
   "metadata": {},
   "outputs": [
    {
     "name": "stdout",
     "output_type": "stream",
     "text": [
      "StandardScaler()\n"
     ]
    }
   ],
   "source": [
    "print(mms.fit(features))"
   ]
  },
  {
   "cell_type": "code",
   "execution_count": 70,
   "id": "a4c6d54c",
   "metadata": {},
   "outputs": [
    {
     "name": "stdout",
     "output_type": "stream",
     "text": [
      "[[ 0.64064389  0.92399869 -0.27377157  0.01881993  0.3319179 ]\n",
      " [ 0.64064389  0.92399869 -0.19563633 -0.13526822  0.3319179 ]\n",
      " [-0.67753961  0.92399869 -1.44580016 -1.13684118  0.3319179 ]\n",
      " ...\n",
      " [ 0.64064389 -1.08225261  1.52333895  0.55812844  0.3319179 ]\n",
      " [ 0.64064389 -1.08225261  0.19503987 -0.21231229  0.3319179 ]\n",
      " [-0.67753961 -1.08225261 -1.1332592  -1.05979711  0.3319179 ]]\n"
     ]
    }
   ],
   "source": [
    "print(mms.transform(features))"
   ]
  },
  {
   "cell_type": "code",
   "execution_count": 71,
   "id": "82c5ca1b",
   "metadata": {},
   "outputs": [],
   "source": [
    "new_features= mms.transform(features)"
   ]
  },
  {
   "cell_type": "code",
   "execution_count": 72,
   "id": "e68424e8",
   "metadata": {},
   "outputs": [
    {
     "data": {
      "text/plain": [
       "array([[ 0.64064389,  0.92399869, -0.27377157,  0.01881993,  0.3319179 ],\n",
       "       [ 0.64064389,  0.92399869, -0.19563633, -0.13526822,  0.3319179 ],\n",
       "       [-0.67753961,  0.92399869, -1.44580016, -1.13684118,  0.3319179 ],\n",
       "       ...,\n",
       "       [ 0.64064389, -1.08225261,  1.52333895,  0.55812844,  0.3319179 ],\n",
       "       [ 0.64064389, -1.08225261,  0.19503987, -0.21231229,  0.3319179 ],\n",
       "       [-0.67753961, -1.08225261, -1.1332592 , -1.05979711,  0.3319179 ]])"
      ]
     },
     "execution_count": 72,
     "metadata": {},
     "output_type": "execute_result"
    }
   ],
   "source": [
    "new_features"
   ]
  },
  {
   "cell_type": "code",
   "execution_count": 73,
   "id": "13e394b6",
   "metadata": {},
   "outputs": [
    {
     "name": "stdout",
     "output_type": "stream",
     "text": [
      "At random state 0, the training accuracy is:- 0.3874412903077977\n",
      "At random state 0, the testing accuracy is:- 0.30621702403002793\n",
      "\n",
      "\n",
      "At random state 1, the training accuracy is:- 0.3733328712577041\n",
      "At random state 1, the testing accuracy is:- 0.3422799185448192\n",
      "\n",
      "\n",
      "At random state 2, the training accuracy is:- 0.33879804522149326\n",
      "At random state 2, the testing accuracy is:- 0.46147579947403683\n",
      "\n",
      "\n",
      "At random state 3, the training accuracy is:- 0.3815540576692894\n",
      "At random state 3, the testing accuracy is:- 0.30045157035899717\n",
      "\n",
      "\n",
      "At random state 4, the training accuracy is:- 0.3711836669002403\n",
      "At random state 4, the testing accuracy is:- 0.3371115691944161\n",
      "\n",
      "\n",
      "At random state 5, the training accuracy is:- 0.3893580196288007\n",
      "At random state 5, the testing accuracy is:- 0.3023689750058359\n",
      "\n",
      "\n",
      "At random state 6, the training accuracy is:- 0.36540304586841243\n",
      "At random state 6, the testing accuracy is:- 0.37856328136202066\n",
      "\n",
      "\n",
      "At random state 7, the training accuracy is:- 0.33791534443851134\n",
      "At random state 7, the testing accuracy is:- 0.4764092432761551\n",
      "\n",
      "\n",
      "At random state 8, the training accuracy is:- 0.3852850444008711\n",
      "At random state 8, the testing accuracy is:- 0.24329540447178033\n",
      "\n",
      "\n",
      "At random state 9, the training accuracy is:- 0.3594269063794666\n",
      "At random state 9, the testing accuracy is:- 0.4028828195643058\n",
      "\n",
      "\n",
      "At random state 10, the training accuracy is:- 0.355486461450507\n",
      "At random state 10, the testing accuracy is:- 0.39480090616012276\n",
      "\n",
      "\n",
      "At random state 11, the training accuracy is:- 0.3853881205585741\n",
      "At random state 11, the testing accuracy is:- 0.3214258375576846\n",
      "\n",
      "\n",
      "At random state 12, the training accuracy is:- 0.3765060506178468\n",
      "At random state 12, the testing accuracy is:- 0.32744382670489414\n",
      "\n",
      "\n",
      "At random state 13, the training accuracy is:- 0.4006855361244054\n",
      "At random state 13, the testing accuracy is:- 0.12410411215662642\n",
      "\n",
      "\n",
      "At random state 14, the training accuracy is:- 0.3903059992737371\n",
      "At random state 14, the testing accuracy is:- 0.2984713221893307\n",
      "\n",
      "\n",
      "At random state 15, the training accuracy is:- 0.3358056214793903\n",
      "At random state 15, the testing accuracy is:- 0.4563163217695495\n",
      "\n",
      "\n",
      "At random state 16, the training accuracy is:- 0.3506639676890375\n",
      "At random state 16, the testing accuracy is:- 0.39081096580773655\n",
      "\n",
      "\n",
      "At random state 17, the training accuracy is:- 0.3692395591512557\n",
      "At random state 17, the testing accuracy is:- 0.33578633662511226\n",
      "\n",
      "\n",
      "At random state 18, the training accuracy is:- 0.3551896537764002\n",
      "At random state 18, the testing accuracy is:- 0.4221352780601144\n",
      "\n",
      "\n",
      "At random state 19, the training accuracy is:- 0.3350863530015663\n",
      "At random state 19, the testing accuracy is:- 0.4509479246880308\n",
      "\n",
      "\n",
      "At random state 20, the training accuracy is:- 0.3827671299282085\n",
      "At random state 20, the testing accuracy is:- 0.31899748805230077\n",
      "\n",
      "\n",
      "At random state 21, the training accuracy is:- 0.3484714150636069\n",
      "At random state 21, the testing accuracy is:- 0.4171260177229916\n",
      "\n",
      "\n",
      "At random state 22, the training accuracy is:- 0.36320728764883503\n",
      "At random state 22, the testing accuracy is:- 0.36716130995464424\n",
      "\n",
      "\n",
      "At random state 23, the training accuracy is:- 0.398695542209066\n",
      "At random state 23, the testing accuracy is:- 0.2950671758271277\n",
      "\n",
      "\n",
      "At random state 24, the training accuracy is:- 0.4186498756104108\n",
      "At random state 24, the testing accuracy is:- 0.17510172426050052\n",
      "\n",
      "\n",
      "At random state 25, the training accuracy is:- 0.4039734753092139\n",
      "At random state 25, the testing accuracy is:- 0.22938062747882526\n",
      "\n",
      "\n",
      "At random state 26, the training accuracy is:- 0.38503711342257685\n",
      "At random state 26, the testing accuracy is:- 0.3024694530632349\n",
      "\n",
      "\n",
      "At random state 27, the training accuracy is:- 0.3560529876988685\n",
      "At random state 27, the testing accuracy is:- 0.39151136321060576\n",
      "\n",
      "\n",
      "At random state 28, the training accuracy is:- 0.3748631953417759\n",
      "At random state 28, the testing accuracy is:- 0.3316232806065692\n",
      "\n",
      "\n",
      "At random state 29, the training accuracy is:- 0.3868882757351003\n",
      "At random state 29, the testing accuracy is:- 0.28583537567035644\n",
      "\n",
      "\n",
      "At random state 30, the training accuracy is:- 0.34160588142781545\n",
      "At random state 30, the testing accuracy is:- 0.44634744060071163\n",
      "\n",
      "\n",
      "At random state 31, the training accuracy is:- 0.37502767877881227\n",
      "At random state 31, the testing accuracy is:- 0.32370300270351315\n",
      "\n",
      "\n",
      "At random state 32, the training accuracy is:- 0.36126647186173255\n",
      "At random state 32, the testing accuracy is:- 0.38749551180097597\n",
      "\n",
      "\n",
      "At random state 33, the training accuracy is:- 0.3867986225240013\n",
      "At random state 33, the testing accuracy is:- 0.3039000812012326\n",
      "\n",
      "\n",
      "At random state 34, the training accuracy is:- 0.4185640506629754\n",
      "At random state 34, the testing accuracy is:- 0.023896623161687502\n",
      "\n",
      "\n",
      "At random state 35, the training accuracy is:- 0.38075020248673785\n",
      "At random state 35, the testing accuracy is:- 0.3377011305256151\n",
      "\n",
      "\n",
      "At random state 36, the training accuracy is:- 0.36980669612932204\n",
      "At random state 36, the testing accuracy is:- 0.35223329096238487\n",
      "\n",
      "\n",
      "At random state 37, the training accuracy is:- 0.3393850855493853\n",
      "At random state 37, the testing accuracy is:- 0.41080424708692187\n",
      "\n",
      "\n",
      "At random state 38, the training accuracy is:- 0.40078693582096225\n",
      "At random state 38, the testing accuracy is:- 0.20953697588887676\n",
      "\n",
      "\n",
      "At random state 39, the training accuracy is:- 0.36896115119990636\n",
      "At random state 39, the testing accuracy is:- 0.37097284019428856\n",
      "\n",
      "\n",
      "At random state 40, the training accuracy is:- 0.3764045483706292\n",
      "At random state 40, the testing accuracy is:- 0.33618119745585195\n",
      "\n",
      "\n",
      "At random state 41, the training accuracy is:- 0.4066032321107803\n",
      "At random state 41, the testing accuracy is:- 0.23400350514943746\n",
      "\n",
      "\n",
      "At random state 42, the training accuracy is:- 0.3775958541741924\n",
      "At random state 42, the testing accuracy is:- 0.33171893522280294\n",
      "\n",
      "\n",
      "At random state 43, the training accuracy is:- 0.40029093716170905\n",
      "At random state 43, the testing accuracy is:- 0.2405609456568687\n",
      "\n",
      "\n",
      "At random state 44, the training accuracy is:- 0.374543343485072\n",
      "At random state 44, the testing accuracy is:- 0.35267241125520565\n",
      "\n",
      "\n",
      "At random state 45, the training accuracy is:- 0.38650489310402725\n",
      "At random state 45, the testing accuracy is:- 0.26298387434736037\n",
      "\n",
      "\n",
      "At random state 46, the training accuracy is:- 0.35689497636626377\n",
      "At random state 46, the testing accuracy is:- 0.35953896601723623\n",
      "\n",
      "\n",
      "At random state 47, the training accuracy is:- 0.353296630410017\n",
      "At random state 47, the testing accuracy is:- 0.4091308708616507\n",
      "\n",
      "\n",
      "At random state 48, the training accuracy is:- 0.3838194490121706\n",
      "At random state 48, the testing accuracy is:- 0.29857383168080776\n",
      "\n",
      "\n",
      "At random state 49, the training accuracy is:- 0.39323540421705294\n",
      "At random state 49, the testing accuracy is:- 0.29188979571975315\n",
      "\n",
      "\n",
      "At random state 50, the training accuracy is:- 0.3598175495122793\n",
      "At random state 50, the testing accuracy is:- 0.38269785116504074\n",
      "\n",
      "\n",
      "At random state 51, the training accuracy is:- 0.3907620322166713\n",
      "At random state 51, the testing accuracy is:- 0.28179878992677265\n",
      "\n",
      "\n",
      "At random state 52, the training accuracy is:- 0.3737366796271585\n",
      "At random state 52, the testing accuracy is:- 0.3518432701744776\n",
      "\n",
      "\n",
      "At random state 53, the training accuracy is:- 0.35848584813373574\n",
      "At random state 53, the testing accuracy is:- 0.39110452936882834\n",
      "\n",
      "\n",
      "At random state 54, the training accuracy is:- 0.4101762911349449\n",
      "At random state 54, the testing accuracy is:- 0.21341969765845925\n",
      "\n",
      "\n",
      "At random state 55, the training accuracy is:- 0.3777990650122077\n",
      "At random state 55, the testing accuracy is:- 0.3365450599022174\n",
      "\n",
      "\n",
      "At random state 56, the training accuracy is:- 0.3694162939320932\n",
      "At random state 56, the testing accuracy is:- 0.36525946022447897\n",
      "\n",
      "\n",
      "At random state 57, the training accuracy is:- 0.34557072794960486\n",
      "At random state 57, the testing accuracy is:- 0.3944522599687236\n",
      "\n",
      "\n",
      "At random state 58, the training accuracy is:- 0.3776896096695592\n",
      "At random state 58, the testing accuracy is:- 0.332054256250674\n",
      "\n",
      "\n",
      "At random state 59, the training accuracy is:- 0.4372696624854747\n",
      "At random state 59, the testing accuracy is:- 0.15730024458552605\n",
      "\n",
      "\n",
      "At random state 60, the training accuracy is:- 0.3507308030323244\n",
      "At random state 60, the testing accuracy is:- 0.4038188330377386\n",
      "\n",
      "\n",
      "At random state 61, the training accuracy is:- 0.3571091939144386\n",
      "At random state 61, the testing accuracy is:- 0.39361220146983333\n",
      "\n",
      "\n",
      "At random state 62, the training accuracy is:- 0.36486697128948165\n",
      "At random state 62, the testing accuracy is:- 0.3815136666702491\n",
      "\n",
      "\n",
      "At random state 63, the training accuracy is:- 0.39777152654126957\n",
      "At random state 63, the testing accuracy is:- 0.2750722393152645\n",
      "\n",
      "\n",
      "At random state 64, the training accuracy is:- 0.3699045822459347\n",
      "At random state 64, the testing accuracy is:- 0.3052317242580812\n",
      "\n",
      "\n",
      "At random state 65, the training accuracy is:- 0.39055586262811526\n",
      "At random state 65, the testing accuracy is:- 0.2939483483555184\n",
      "\n",
      "\n",
      "At random state 66, the training accuracy is:- 0.42522269927298073\n",
      "At random state 66, the testing accuracy is:- 0.12400607281217924\n",
      "\n",
      "\n",
      "At random state 67, the training accuracy is:- 0.36718457136738436\n",
      "At random state 67, the testing accuracy is:- 0.34066256025669805\n",
      "\n",
      "\n",
      "At random state 68, the training accuracy is:- 0.3889656686886257\n",
      "At random state 68, the testing accuracy is:- 0.2838530079603018\n",
      "\n",
      "\n",
      "At random state 69, the training accuracy is:- 0.3533208723700907\n",
      "At random state 69, the testing accuracy is:- 0.41091680782759665\n",
      "\n",
      "\n",
      "At random state 70, the training accuracy is:- 0.3313942980428769\n",
      "At random state 70, the testing accuracy is:- 0.49327104597811\n",
      "\n",
      "\n",
      "At random state 71, the training accuracy is:- 0.33363639942341905\n",
      "At random state 71, the testing accuracy is:- 0.4571602112898926\n",
      "\n",
      "\n",
      "At random state 72, the training accuracy is:- 0.3749111682372155\n",
      "At random state 72, the testing accuracy is:- 0.32754132325198626\n",
      "\n",
      "\n",
      "At random state 73, the training accuracy is:- 0.35908848389175496\n",
      "At random state 73, the testing accuracy is:- 0.3687439202992435\n",
      "\n",
      "\n",
      "At random state 74, the training accuracy is:- 0.37835570851686773\n",
      "At random state 74, the testing accuracy is:- 0.32177893176067296\n",
      "\n",
      "\n",
      "At random state 75, the training accuracy is:- 0.4098862143934894\n",
      "At random state 75, the testing accuracy is:- 0.21343803363110958\n",
      "\n",
      "\n",
      "At random state 76, the training accuracy is:- 0.39413167421270034\n",
      "At random state 76, the testing accuracy is:- 0.2714971724295948\n",
      "\n",
      "\n",
      "At random state 77, the training accuracy is:- 0.3531210268146402\n",
      "At random state 77, the testing accuracy is:- 0.39190081459476533\n",
      "\n",
      "\n",
      "At random state 78, the training accuracy is:- 0.3995919455014397\n",
      "At random state 78, the testing accuracy is:- 0.27719728800701604\n",
      "\n",
      "\n",
      "At random state 79, the training accuracy is:- 0.3462163973022617\n",
      "At random state 79, the testing accuracy is:- 0.4162819120180433\n",
      "\n",
      "\n",
      "At random state 80, the training accuracy is:- 0.35709814310982346\n",
      "At random state 80, the testing accuracy is:- 0.4088787904744108\n",
      "\n",
      "\n",
      "At random state 81, the training accuracy is:- 0.3621104257122041\n",
      "At random state 81, the testing accuracy is:- 0.37042240986696284\n",
      "\n",
      "\n",
      "At random state 82, the training accuracy is:- 0.359445208397842\n",
      "At random state 82, the testing accuracy is:- 0.39836601363758906\n",
      "\n",
      "\n",
      "At random state 83, the training accuracy is:- 0.37398656378578954\n",
      "At random state 83, the testing accuracy is:- 0.35183586627576413\n",
      "\n",
      "\n",
      "At random state 84, the training accuracy is:- 0.3782433369831193\n",
      "At random state 84, the testing accuracy is:- 0.34439267233750903\n",
      "\n",
      "\n",
      "At random state 85, the training accuracy is:- 0.3715175075563405\n",
      "At random state 85, the testing accuracy is:- 0.35242897289320185\n",
      "\n",
      "\n",
      "At random state 86, the training accuracy is:- 0.3643071196350678\n",
      "At random state 86, the testing accuracy is:- 0.3461337421653443\n",
      "\n",
      "\n",
      "At random state 87, the training accuracy is:- 0.3619264812439521\n",
      "At random state 87, the testing accuracy is:- 0.3922848324077842\n",
      "\n",
      "\n",
      "At random state 88, the training accuracy is:- 0.3614580246064897\n",
      "At random state 88, the testing accuracy is:- 0.38879447525708033\n",
      "\n",
      "\n",
      "At random state 89, the training accuracy is:- 0.36415505386192204\n",
      "At random state 89, the testing accuracy is:- 0.3858280643752672\n",
      "\n",
      "\n",
      "At random state 90, the training accuracy is:- 0.3854793933839744\n",
      "At random state 90, the testing accuracy is:- 0.2877778149959048\n",
      "\n",
      "\n",
      "At random state 91, the training accuracy is:- 0.35978860715012895\n",
      "At random state 91, the testing accuracy is:- 0.37843308324269265\n",
      "\n",
      "\n",
      "At random state 92, the training accuracy is:- 0.38954122072963826\n",
      "At random state 92, the testing accuracy is:- 0.3037029877784797\n",
      "\n",
      "\n",
      "At random state 93, the training accuracy is:- 0.38554906948965295\n",
      "At random state 93, the testing accuracy is:- 0.3176677604219721\n",
      "\n",
      "\n",
      "At random state 94, the training accuracy is:- 0.42329440260344353\n",
      "At random state 94, the testing accuracy is:- 0.09845790944883459\n",
      "\n",
      "\n",
      "At random state 95, the training accuracy is:- 0.37871413952767696\n",
      "At random state 95, the testing accuracy is:- 0.31246546551610976\n",
      "\n",
      "\n",
      "At random state 96, the training accuracy is:- 0.35057307566081464\n",
      "At random state 96, the testing accuracy is:- 0.4069593817896425\n",
      "\n",
      "\n",
      "At random state 97, the training accuracy is:- 0.3782856169268314\n",
      "At random state 97, the testing accuracy is:- 0.3288888646847463\n",
      "\n",
      "\n",
      "At random state 98, the training accuracy is:- 0.33425002635136236\n",
      "At random state 98, the testing accuracy is:- 0.46537280495062117\n",
      "\n",
      "\n",
      "At random state 99, the training accuracy is:- 0.3910863404327247\n",
      "At random state 99, the testing accuracy is:- 0.29119951451072734\n",
      "\n",
      "\n"
     ]
    }
   ],
   "source": [
    "for i in range (0,100):\n",
    "    new_features_train, new_features_test, target_train, target_test= train_test_split(new_features, target, test_size= 0.25, random_state= i)\n",
    "    lr.fit(new_features_train, target_train)\n",
    "    pred_train= lr.predict(new_features_train)\n",
    "    pred_test= lr.predict(new_features_test)\n",
    "    \n",
    "    print(f'At random state {i}, the training accuracy is:- {r2_score(target_train, pred_train)}')\n",
    "    print(f'At random state {i}, the testing accuracy is:- {r2_score(target_test, pred_test)}')\n",
    "    print(\"\\n\")\n",
    "    \n"
   ]
  },
  {
   "cell_type": "code",
   "execution_count": 74,
   "id": "23c8b629",
   "metadata": {},
   "outputs": [],
   "source": [
    "new_features_train, new_features_test, target_train, target_test= train_test_split(new_features, target, test_size= .25, random_state= 70)\n"
   ]
  },
  {
   "cell_type": "code",
   "execution_count": 75,
   "id": "9638d463",
   "metadata": {},
   "outputs": [
    {
     "data": {
      "text/plain": [
       "LinearRegression()"
      ]
     },
     "execution_count": 75,
     "metadata": {},
     "output_type": "execute_result"
    }
   ],
   "source": [
    "#train the model \n",
    "lr.fit(new_features_train, target_train)"
   ]
  },
  {
   "cell_type": "code",
   "execution_count": 76,
   "id": "c3f8e8d0",
   "metadata": {},
   "outputs": [],
   "source": [
    "pred_test= lr.predict(new_features_test)"
   ]
  },
  {
   "cell_type": "code",
   "execution_count": 77,
   "id": "ebde0438",
   "metadata": {},
   "outputs": [
    {
     "name": "stdout",
     "output_type": "stream",
     "text": [
      "0.49327104597811\n"
     ]
    }
   ],
   "source": [
    "print(r2_score(target_test, pred_test))"
   ]
  },
  {
   "cell_type": "code",
   "execution_count": null,
   "id": "85ed0d4b",
   "metadata": {},
   "outputs": [],
   "source": []
  },
  {
   "cell_type": "code",
   "execution_count": 78,
   "id": "f06206bb",
   "metadata": {},
   "outputs": [],
   "source": [
    "#cross-validation of the model"
   ]
  },
  {
   "cell_type": "code",
   "execution_count": 79,
   "id": "e714d7f4",
   "metadata": {},
   "outputs": [
    {
     "name": "stdout",
     "output_type": "stream",
     "text": [
      "At cross fold 2 the cv score is 0.314893481152733 and accuracy score for training is -0.3043479199514971 and accuracy score for test is 0.49327104597811\n",
      "\n",
      "\n",
      "At cross fold 3 the cv score is 0.31248971419839044 and accuracy score for training is -0.3043479199514971 and accuracy score for test is 0.49327104597811\n",
      "\n",
      "\n",
      "At cross fold 4 the cv score is 0.31032286166860573 and accuracy score for training is -0.3043479199514971 and accuracy score for test is 0.49327104597811\n",
      "\n",
      "\n",
      "At cross fold 5 the cv score is 0.2907057248082884 and accuracy score for training is -0.3043479199514971 and accuracy score for test is 0.49327104597811\n",
      "\n",
      "\n",
      "At cross fold 6 the cv score is 0.3290500490712574 and accuracy score for training is -0.3043479199514971 and accuracy score for test is 0.49327104597811\n",
      "\n",
      "\n",
      "At cross fold 7 the cv score is 0.3230702935616304 and accuracy score for training is -0.3043479199514971 and accuracy score for test is 0.49327104597811\n",
      "\n",
      "\n",
      "At cross fold 8 the cv score is 0.32542701328785806 and accuracy score for training is -0.3043479199514971 and accuracy score for test is 0.49327104597811\n",
      "\n",
      "\n",
      "At cross fold 9 the cv score is 0.29370354567211826 and accuracy score for training is -0.3043479199514971 and accuracy score for test is 0.49327104597811\n",
      "\n",
      "\n"
     ]
    }
   ],
   "source": [
    "train_accuracy= r2_score(target_train, pred_train)\n",
    "test_accuracy= r2_score(target_test, pred_test)\n",
    "\n",
    "from sklearn.model_selection import cross_val_score\n",
    "for j in range (2,10):\n",
    "    cv_score= cross_val_score(lr,new_features, target, cv=j)\n",
    "    cv_mean= cv_score.mean()\n",
    "    print(f'At cross fold {j} the cv score is {cv_mean} and accuracy score for training is {train_accuracy} and accuracy score for test is {test_accuracy}')\n",
    "    print(\"\\n\")"
   ]
  },
  {
   "cell_type": "code",
   "execution_count": 80,
   "id": "ebd65a6f",
   "metadata": {},
   "outputs": [],
   "source": [
    "#since the number of folds does not have any impact the accuracy we take cv=5"
   ]
  },
  {
   "cell_type": "code",
   "execution_count": 81,
   "id": "e9691e0c",
   "metadata": {},
   "outputs": [
    {
     "data": {
      "image/png": "[encoded data removed]",
      "text/plain": [
       "<Figure size 648x504 with 1 Axes>"
      ]
     },
     "metadata": {
      "needs_background": "light"
     },
     "output_type": "display_data"
    }
   ],
   "source": [
    "import matplotlib.pyplot as plt\n",
    "plt.figure(figsize=(9,7))\n",
    "plt.scatter(x=target_test, y= pred_test, color= 'r')\n",
    "plt.plot(target_test, target_test, color= 'b')\n",
    "plt.xlabel('Actual charges', fontsize= 14)\n",
    "plt.ylabel('Linear Regression', fontsize= 14)\n",
    "plt.title('Linear Regression', fontsize= 18)\n",
    "plt.savefig('lr.png')\n",
    "plt.show()"
   ]
  },
  {
   "cell_type": "code",
   "execution_count": 82,
   "id": "4603bf5d",
   "metadata": {},
   "outputs": [],
   "source": [
    "#regularization"
   ]
  },
  {
   "cell_type": "code",
   "execution_count": 83,
   "id": "44c43c9b",
   "metadata": {},
   "outputs": [],
   "source": [
    "from sklearn.model_selection import GridSearchCV\n",
    "from sklearn.model_selection import cross_val_score\n",
    "import warnings\n",
    "warnings.filterwarnings('ignore')"
   ]
  },
  {
   "cell_type": "code",
   "execution_count": 84,
   "id": "ab400546",
   "metadata": {},
   "outputs": [
    {
     "name": "stdout",
     "output_type": "stream",
     "text": [
      "{'alpha': 0.0001, 'random_state': 0}\n"
     ]
    }
   ],
   "source": [
    "from sklearn.linear_model import Lasso\n",
    "\n",
    "parameters= {'alpha': [.0001, .001, .01, .1, 1, 10],\n",
    "            'random_state': list(range(0,10))}\n",
    "ls= Lasso()\n",
    "clf= GridSearchCV(ls, parameters)\n",
    "clf.fit(new_features_train, target_train)\n",
    "\n",
    "print(clf.best_params_)"
   ]
  },
  {
   "cell_type": "code",
   "execution_count": null,
   "id": "56a40e9a",
   "metadata": {},
   "outputs": [],
   "source": []
  },
  {
   "cell_type": "code",
   "execution_count": 85,
   "id": "0c6d8202",
   "metadata": {},
   "outputs": [],
   "source": [
    "#final model training"
   ]
  },
  {
   "cell_type": "code",
   "execution_count": 86,
   "id": "b18f992b",
   "metadata": {},
   "outputs": [
    {
     "data": {
      "text/plain": [
       "33.13942701398995"
      ]
     },
     "execution_count": 86,
     "metadata": {},
     "output_type": "execute_result"
    }
   ],
   "source": [
    "ls= Lasso(alpha=1, random_state=0)\n",
    "ls.fit(new_features_train, target_train)\n",
    "ls_score_training= ls.score(new_features_train, target_train)\n",
    "pred_ls= ls.predict(new_features_test)\n",
    "\n",
    "ls_score_training*100"
   ]
  },
  {
   "cell_type": "code",
   "execution_count": 87,
   "id": "be8dc8ad",
   "metadata": {},
   "outputs": [],
   "source": [
    "pred_ls= ls.predict(new_features_test)"
   ]
  },
  {
   "cell_type": "code",
   "execution_count": 88,
   "id": "b9231f8d",
   "metadata": {},
   "outputs": [
    {
     "data": {
      "text/plain": [
       "49.32598303447858"
      ]
     },
     "execution_count": 88,
     "metadata": {},
     "output_type": "execute_result"
    }
   ],
   "source": [
    "lss= r2_score(target_test, pred_ls)\n",
    "lss*100"
   ]
  },
  {
   "cell_type": "code",
   "execution_count": 89,
   "id": "5b51fae7",
   "metadata": {},
   "outputs": [
    {
     "data": {
      "text/plain": [
       "29.07451249263973"
      ]
     },
     "execution_count": 89,
     "metadata": {},
     "output_type": "execute_result"
    }
   ],
   "source": [
    "cv_score= cross_val_score(ls, new_features, target, cv=5)\n",
    "cv_mean= cv_score.mean()\n",
    "cv_mean*100"
   ]
  },
  {
   "cell_type": "code",
   "execution_count": null,
   "id": "045d2ca0",
   "metadata": {},
   "outputs": [],
   "source": []
  },
  {
   "cell_type": "code",
   "execution_count": 90,
   "id": "d084a0e3",
   "metadata": {},
   "outputs": [],
   "source": [
    "#Ensemble Techniques"
   ]
  },
  {
   "cell_type": "code",
   "execution_count": 91,
   "id": "8f6882fc",
   "metadata": {},
   "outputs": [
    {
     "name": "stdout",
     "output_type": "stream",
     "text": [
      "{'criterion': 'mae', 'max_features': 'log2'}\n"
     ]
    }
   ],
   "source": [
    "from sklearn.model_selection import GridSearchCV\n",
    "from sklearn.ensemble import RandomForestRegressor\n",
    "\n",
    "parameters= {'criterion': ['mse','mae'],\n",
    "            'max_features':['auto','sqrt','log2']}\n",
    "\n",
    "rf= RandomForestRegressor()\n",
    "clf= GridSearchCV(rf, parameters)\n",
    "clf.fit(new_features_train, target_train)\n",
    "\n",
    "print(clf.best_params_)"
   ]
  },
  {
   "cell_type": "code",
   "execution_count": 92,
   "id": "700faed0",
   "metadata": {},
   "outputs": [
    {
     "name": "stdout",
     "output_type": "stream",
     "text": [
      "R2 score: 37.816079937472246\n",
      "Cross Val Score: 26.50242149429963\n"
     ]
    }
   ],
   "source": [
    "rf= RandomForestRegressor(criterion= 'mae', max_features= 'auto')\n",
    "rf.fit(new_features_train, target_train)\n",
    "rf.score(new_features_train, target_train)\n",
    "pred_decision= rf.predict(new_features_test)\n",
    "\n",
    "rfs= r2_score(target_test, pred_decision)\n",
    "print('R2 score:', rfs*100)\n",
    "\n",
    "rfscore= cross_val_score(rf, new_features, target, cv=5)\n",
    "rfc= rfscore.mean()\n",
    "print('Cross Val Score:', rfc*100)"
   ]
  },
  {
   "cell_type": "code",
   "execution_count": null,
   "id": "02464bfd",
   "metadata": {},
   "outputs": [],
   "source": []
  },
  {
   "cell_type": "code",
   "execution_count": 93,
   "id": "4ca7a44f",
   "metadata": {},
   "outputs": [],
   "source": [
    "import pickle\n",
    "filename= 'churn.pkl'\n",
    "pickle.dump(lr, open(filename, 'wb'))"
   ]
  },
  {
   "cell_type": "code",
   "execution_count": 94,
   "id": "ae7b2452",
   "metadata": {},
   "outputs": [
    {
     "data": {
      "text/plain": [
       "[]"
      ]
     },
     "execution_count": 94,
     "metadata": {},
     "output_type": "execute_result"
    }
   ],
   "source": [
    "[]"
   ]
  },
  {
   "cell_type": "code",
   "execution_count": 95,
   "id": "bd90e17e",
   "metadata": {},
   "outputs": [],
   "source": [
    "#conclusion"
   ]
  },
  {
   "cell_type": "code",
   "execution_count": 96,
   "id": "d040a41e",
   "metadata": {},
   "outputs": [
    {
     "name": "stdout",
     "output_type": "stream",
     "text": [
      "49.327104597811\n"
     ]
    }
   ],
   "source": [
    "loaded_model=pickle.load(open('churn.pkl','rb'))\n",
    "result= loaded_model.score(new_features_test, target_test)\n",
    "print(result*100)"
   ]
  },
  {
   "cell_type": "code",
   "execution_count": 97,
   "id": "f65b4ed2",
   "metadata": {},
   "outputs": [],
   "source": [
    "conclusion= pd.DataFrame([loaded_model.predict(new_features_test)[:],pred_decision[:]], index=['Predicted','Original'])"
   ]
  },
  {
   "cell_type": "code",
   "execution_count": 98,
   "id": "e32f4c55",
   "metadata": {},
   "outputs": [
    {
     "data": {
      "text/html": [
       "<div>\n",
       "<style scoped>\n",
       "    .dataframe tbody tr th:only-of-type {\n",
       "        vertical-align: middle;\n",
       "    }\n",
       "\n",
       "    .dataframe tbody tr th {\n",
       "        vertical-align: top;\n",
       "    }\n",
       "\n",
       "    .dataframe thead th {\n",
       "        text-align: right;\n",
       "    }\n",
       "</style>\n",
       "<table border=\"1\" class=\"dataframe\">\n",
       "  <thead>\n",
       "    <tr style=\"text-align: right;\">\n",
       "      <th></th>\n",
       "      <th>0</th>\n",
       "      <th>1</th>\n",
       "      <th>2</th>\n",
       "      <th>3</th>\n",
       "      <th>4</th>\n",
       "      <th>5</th>\n",
       "      <th>6</th>\n",
       "      <th>7</th>\n",
       "      <th>8</th>\n",
       "      <th>9</th>\n",
       "      <th>...</th>\n",
       "      <th>89</th>\n",
       "      <th>90</th>\n",
       "      <th>91</th>\n",
       "      <th>92</th>\n",
       "      <th>93</th>\n",
       "      <th>94</th>\n",
       "      <th>95</th>\n",
       "      <th>96</th>\n",
       "      <th>97</th>\n",
       "      <th>98</th>\n",
       "    </tr>\n",
       "  </thead>\n",
       "  <tbody>\n",
       "    <tr>\n",
       "      <th>Predicted</th>\n",
       "      <td>116064.512538</td>\n",
       "      <td>136238.105338</td>\n",
       "      <td>131577.970089</td>\n",
       "      <td>122847.590276</td>\n",
       "      <td>131915.75773</td>\n",
       "      <td>100205.068638</td>\n",
       "      <td>142482.521221</td>\n",
       "      <td>123723.428</td>\n",
       "      <td>121306.73329</td>\n",
       "      <td>122955.929186</td>\n",
       "      <td>...</td>\n",
       "      <td>123407.743745</td>\n",
       "      <td>100793.0135</td>\n",
       "      <td>116380.196794</td>\n",
       "      <td>88164.137893</td>\n",
       "      <td>111998.181511</td>\n",
       "      <td>113941.570049</td>\n",
       "      <td>123853.698945</td>\n",
       "      <td>131992.220358</td>\n",
       "      <td>118144.03138</td>\n",
       "      <td>91599.100411</td>\n",
       "    </tr>\n",
       "    <tr>\n",
       "      <th>Original</th>\n",
       "      <td>133956.870000</td>\n",
       "      <td>132415.640000</td>\n",
       "      <td>116131.360000</td>\n",
       "      <td>128601.595000</td>\n",
       "      <td>113125.76500</td>\n",
       "      <td>77813.185000</td>\n",
       "      <td>114456.790000</td>\n",
       "      <td>144931.150</td>\n",
       "      <td>96899.50500</td>\n",
       "      <td>114137.100000</td>\n",
       "      <td>...</td>\n",
       "      <td>129433.255000</td>\n",
       "      <td>83870.4450</td>\n",
       "      <td>125224.985000</td>\n",
       "      <td>68626.900000</td>\n",
       "      <td>118580.590000</td>\n",
       "      <td>114939.760000</td>\n",
       "      <td>144534.405000</td>\n",
       "      <td>147045.290000</td>\n",
       "      <td>119878.19500</td>\n",
       "      <td>79402.800000</td>\n",
       "    </tr>\n",
       "  </tbody>\n",
       "</table>\n",
       "<p>2 rows × 99 columns</p>\n",
       "</div>"
      ],
      "text/plain": [
       "                      0              1              2              3   \\\n",
       "Predicted  116064.512538  136238.105338  131577.970089  122847.590276   \n",
       "Original   133956.870000  132415.640000  116131.360000  128601.595000   \n",
       "\n",
       "                     4              5              6           7   \\\n",
       "Predicted  131915.75773  100205.068638  142482.521221  123723.428   \n",
       "Original   113125.76500   77813.185000  114456.790000  144931.150   \n",
       "\n",
       "                     8              9   ...             89           90  \\\n",
       "Predicted  121306.73329  122955.929186  ...  123407.743745  100793.0135   \n",
       "Original    96899.50500  114137.100000  ...  129433.255000   83870.4450   \n",
       "\n",
       "                      91            92             93             94  \\\n",
       "Predicted  116380.196794  88164.137893  111998.181511  113941.570049   \n",
       "Original   125224.985000  68626.900000  118580.590000  114939.760000   \n",
       "\n",
       "                      95             96            97            98  \n",
       "Predicted  123853.698945  131992.220358  118144.03138  91599.100411  \n",
       "Original   144534.405000  147045.290000  119878.19500  79402.800000  \n",
       "\n",
       "[2 rows x 99 columns]"
      ]
     },
     "execution_count": 98,
     "metadata": {},
     "output_type": "execute_result"
    }
   ],
   "source": [
    "conclusion"
   ]
  },
  {
   "cell_type": "code",
   "execution_count": null,
   "id": "2f079f6e",
   "metadata": {},
   "outputs": [],
   "source": []
  }
 ],
 "metadata": {
  "kernelspec": {
   "display_name": "Python 3 (ipykernel)",
   "language": "python",
   "name": "python3"
  },
  "language_info": {
   "codemirror_mode": {
    "name": "ipython",
    "version": 3
   },
   "file_extension": ".py",
   "mimetype": "text/x-python",
   "name": "python",
   "nbconvert_exporter": "python",
   "pygments_lexer": "ipython3",
   "version": "3.9.7"
  }
 },
 "nbformat": 4,
 "nbformat_minor": 5
}
