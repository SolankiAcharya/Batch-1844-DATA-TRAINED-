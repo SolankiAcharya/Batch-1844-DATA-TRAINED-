{
 "cells": [
  {
   "cell_type": "code",
   "execution_count": 99,
   "id": "22a8f2c3",
   "metadata": {},
   "outputs": [],
   "source": [
    "import pandas as pd\n",
    "import numpy as np\n",
    "import matplotlib.pyplot as plt\n",
    "%matplotlib inline\n",
    "import seaborn as sns"
   ]
  },
  {
   "cell_type": "code",
   "execution_count": 100,
   "id": "c0d13e34",
   "metadata": {},
   "outputs": [
    {
     "data": {
      "text/html": [
       "<div>\n",
       "<style scoped>\n",
       "    .dataframe tbody tr th:only-of-type {\n",
       "        vertical-align: middle;\n",
       "    }\n",
       "\n",
       "    .dataframe tbody tr th {\n",
       "        vertical-align: top;\n",
       "    }\n",
       "\n",
       "    .dataframe thead th {\n",
       "        text-align: right;\n",
       "    }\n",
       "</style>\n",
       "<table border=\"1\" class=\"dataframe\">\n",
       "  <thead>\n",
       "    <tr style=\"text-align: right;\">\n",
       "      <th></th>\n",
       "      <th>PassengerId</th>\n",
       "      <th>Survived</th>\n",
       "      <th>Pclass</th>\n",
       "      <th>Name</th>\n",
       "      <th>Sex</th>\n",
       "      <th>Age</th>\n",
       "      <th>SibSp</th>\n",
       "      <th>Parch</th>\n",
       "      <th>Ticket</th>\n",
       "      <th>Fare</th>\n",
       "      <th>Cabin</th>\n",
       "      <th>Embarked</th>\n",
       "    </tr>\n",
       "  </thead>\n",
       "  <tbody>\n",
       "    <tr>\n",
       "      <th>0</th>\n",
       "      <td>1</td>\n",
       "      <td>0</td>\n",
       "      <td>3</td>\n",
       "      <td>Braund, Mr. Owen Harris</td>\n",
       "      <td>male</td>\n",
       "      <td>22.0</td>\n",
       "      <td>1</td>\n",
       "      <td>0</td>\n",
       "      <td>A/5 21171</td>\n",
       "      <td>7.2500</td>\n",
       "      <td>NaN</td>\n",
       "      <td>S</td>\n",
       "    </tr>\n",
       "    <tr>\n",
       "      <th>1</th>\n",
       "      <td>2</td>\n",
       "      <td>1</td>\n",
       "      <td>1</td>\n",
       "      <td>Cumings, Mrs. John Bradley (Florence Briggs Th...</td>\n",
       "      <td>female</td>\n",
       "      <td>38.0</td>\n",
       "      <td>1</td>\n",
       "      <td>0</td>\n",
       "      <td>PC 17599</td>\n",
       "      <td>71.2833</td>\n",
       "      <td>C85</td>\n",
       "      <td>C</td>\n",
       "    </tr>\n",
       "    <tr>\n",
       "      <th>2</th>\n",
       "      <td>3</td>\n",
       "      <td>1</td>\n",
       "      <td>3</td>\n",
       "      <td>Heikkinen, Miss. Laina</td>\n",
       "      <td>female</td>\n",
       "      <td>26.0</td>\n",
       "      <td>0</td>\n",
       "      <td>0</td>\n",
       "      <td>STON/O2. 3101282</td>\n",
       "      <td>7.9250</td>\n",
       "      <td>NaN</td>\n",
       "      <td>S</td>\n",
       "    </tr>\n",
       "    <tr>\n",
       "      <th>3</th>\n",
       "      <td>4</td>\n",
       "      <td>1</td>\n",
       "      <td>1</td>\n",
       "      <td>Futrelle, Mrs. Jacques Heath (Lily May Peel)</td>\n",
       "      <td>female</td>\n",
       "      <td>35.0</td>\n",
       "      <td>1</td>\n",
       "      <td>0</td>\n",
       "      <td>113803</td>\n",
       "      <td>53.1000</td>\n",
       "      <td>C123</td>\n",
       "      <td>S</td>\n",
       "    </tr>\n",
       "    <tr>\n",
       "      <th>4</th>\n",
       "      <td>5</td>\n",
       "      <td>0</td>\n",
       "      <td>3</td>\n",
       "      <td>Allen, Mr. William Henry</td>\n",
       "      <td>male</td>\n",
       "      <td>35.0</td>\n",
       "      <td>0</td>\n",
       "      <td>0</td>\n",
       "      <td>373450</td>\n",
       "      <td>8.0500</td>\n",
       "      <td>NaN</td>\n",
       "      <td>S</td>\n",
       "    </tr>\n",
       "    <tr>\n",
       "      <th>...</th>\n",
       "      <td>...</td>\n",
       "      <td>...</td>\n",
       "      <td>...</td>\n",
       "      <td>...</td>\n",
       "      <td>...</td>\n",
       "      <td>...</td>\n",
       "      <td>...</td>\n",
       "      <td>...</td>\n",
       "      <td>...</td>\n",
       "      <td>...</td>\n",
       "      <td>...</td>\n",
       "      <td>...</td>\n",
       "    </tr>\n",
       "    <tr>\n",
       "      <th>886</th>\n",
       "      <td>887</td>\n",
       "      <td>0</td>\n",
       "      <td>2</td>\n",
       "      <td>Montvila, Rev. Juozas</td>\n",
       "      <td>male</td>\n",
       "      <td>27.0</td>\n",
       "      <td>0</td>\n",
       "      <td>0</td>\n",
       "      <td>211536</td>\n",
       "      <td>13.0000</td>\n",
       "      <td>NaN</td>\n",
       "      <td>S</td>\n",
       "    </tr>\n",
       "    <tr>\n",
       "      <th>887</th>\n",
       "      <td>888</td>\n",
       "      <td>1</td>\n",
       "      <td>1</td>\n",
       "      <td>Graham, Miss. Margaret Edith</td>\n",
       "      <td>female</td>\n",
       "      <td>19.0</td>\n",
       "      <td>0</td>\n",
       "      <td>0</td>\n",
       "      <td>112053</td>\n",
       "      <td>30.0000</td>\n",
       "      <td>B42</td>\n",
       "      <td>S</td>\n",
       "    </tr>\n",
       "    <tr>\n",
       "      <th>888</th>\n",
       "      <td>889</td>\n",
       "      <td>0</td>\n",
       "      <td>3</td>\n",
       "      <td>Johnston, Miss. Catherine Helen \"Carrie\"</td>\n",
       "      <td>female</td>\n",
       "      <td>NaN</td>\n",
       "      <td>1</td>\n",
       "      <td>2</td>\n",
       "      <td>W./C. 6607</td>\n",
       "      <td>23.4500</td>\n",
       "      <td>NaN</td>\n",
       "      <td>S</td>\n",
       "    </tr>\n",
       "    <tr>\n",
       "      <th>889</th>\n",
       "      <td>890</td>\n",
       "      <td>1</td>\n",
       "      <td>1</td>\n",
       "      <td>Behr, Mr. Karl Howell</td>\n",
       "      <td>male</td>\n",
       "      <td>26.0</td>\n",
       "      <td>0</td>\n",
       "      <td>0</td>\n",
       "      <td>111369</td>\n",
       "      <td>30.0000</td>\n",
       "      <td>C148</td>\n",
       "      <td>C</td>\n",
       "    </tr>\n",
       "    <tr>\n",
       "      <th>890</th>\n",
       "      <td>891</td>\n",
       "      <td>0</td>\n",
       "      <td>3</td>\n",
       "      <td>Dooley, Mr. Patrick</td>\n",
       "      <td>male</td>\n",
       "      <td>32.0</td>\n",
       "      <td>0</td>\n",
       "      <td>0</td>\n",
       "      <td>370376</td>\n",
       "      <td>7.7500</td>\n",
       "      <td>NaN</td>\n",
       "      <td>Q</td>\n",
       "    </tr>\n",
       "  </tbody>\n",
       "</table>\n",
       "<p>891 rows × 12 columns</p>\n",
       "</div>"
      ],
      "text/plain": [
       "     PassengerId  Survived  Pclass  \\\n",
       "0              1         0       3   \n",
       "1              2         1       1   \n",
       "2              3         1       3   \n",
       "3              4         1       1   \n",
       "4              5         0       3   \n",
       "..           ...       ...     ...   \n",
       "886          887         0       2   \n",
       "887          888         1       1   \n",
       "888          889         0       3   \n",
       "889          890         1       1   \n",
       "890          891         0       3   \n",
       "\n",
       "                                                  Name     Sex   Age  SibSp  \\\n",
       "0                              Braund, Mr. Owen Harris    male  22.0      1   \n",
       "1    Cumings, Mrs. John Bradley (Florence Briggs Th...  female  38.0      1   \n",
       "2                               Heikkinen, Miss. Laina  female  26.0      0   \n",
       "3         Futrelle, Mrs. Jacques Heath (Lily May Peel)  female  35.0      1   \n",
       "4                             Allen, Mr. William Henry    male  35.0      0   \n",
       "..                                                 ...     ...   ...    ...   \n",
       "886                              Montvila, Rev. Juozas    male  27.0      0   \n",
       "887                       Graham, Miss. Margaret Edith  female  19.0      0   \n",
       "888           Johnston, Miss. Catherine Helen \"Carrie\"  female   NaN      1   \n",
       "889                              Behr, Mr. Karl Howell    male  26.0      0   \n",
       "890                                Dooley, Mr. Patrick    male  32.0      0   \n",
       "\n",
       "     Parch            Ticket     Fare Cabin Embarked  \n",
       "0        0         A/5 21171   7.2500   NaN        S  \n",
       "1        0          PC 17599  71.2833   C85        C  \n",
       "2        0  STON/O2. 3101282   7.9250   NaN        S  \n",
       "3        0            113803  53.1000  C123        S  \n",
       "4        0            373450   8.0500   NaN        S  \n",
       "..     ...               ...      ...   ...      ...  \n",
       "886      0            211536  13.0000   NaN        S  \n",
       "887      0            112053  30.0000   B42        S  \n",
       "888      2        W./C. 6607  23.4500   NaN        S  \n",
       "889      0            111369  30.0000  C148        C  \n",
       "890      0            370376   7.7500   NaN        Q  \n",
       "\n",
       "[891 rows x 12 columns]"
      ]
     },
     "execution_count": 100,
     "metadata": {},
     "output_type": "execute_result"
    }
   ],
   "source": [
    "df = pd.read_csv('https://raw.githubusercontent.com/dsrscientist/dataset1/master/titanic_train.csv')\n",
    "df"
   ]
  },
  {
   "cell_type": "code",
   "execution_count": 101,
   "id": "cf90c788",
   "metadata": {},
   "outputs": [
    {
     "data": {
      "text/plain": [
       "(891, 12)"
      ]
     },
     "execution_count": 101,
     "metadata": {},
     "output_type": "execute_result"
    }
   ],
   "source": [
    "df.shape"
   ]
  },
  {
   "cell_type": "code",
   "execution_count": 102,
   "id": "88634b1b",
   "metadata": {},
   "outputs": [],
   "source": [
    "df= df.drop_duplicates()"
   ]
  },
  {
   "cell_type": "code",
   "execution_count": 103,
   "id": "dc2d66ea",
   "metadata": {},
   "outputs": [
    {
     "data": {
      "text/plain": [
       "(891, 12)"
      ]
     },
     "execution_count": 103,
     "metadata": {},
     "output_type": "execute_result"
    }
   ],
   "source": [
    "df.shape"
   ]
  },
  {
   "cell_type": "code",
   "execution_count": 104,
   "id": "32dee149",
   "metadata": {},
   "outputs": [
    {
     "data": {
      "text/html": [
       "<div>\n",
       "<style scoped>\n",
       "    .dataframe tbody tr th:only-of-type {\n",
       "        vertical-align: middle;\n",
       "    }\n",
       "\n",
       "    .dataframe tbody tr th {\n",
       "        vertical-align: top;\n",
       "    }\n",
       "\n",
       "    .dataframe thead th {\n",
       "        text-align: right;\n",
       "    }\n",
       "</style>\n",
       "<table border=\"1\" class=\"dataframe\">\n",
       "  <thead>\n",
       "    <tr style=\"text-align: right;\">\n",
       "      <th></th>\n",
       "      <th>PassengerId</th>\n",
       "      <th>Survived</th>\n",
       "      <th>Pclass</th>\n",
       "      <th>Name</th>\n",
       "      <th>Sex</th>\n",
       "      <th>Age</th>\n",
       "      <th>SibSp</th>\n",
       "      <th>Parch</th>\n",
       "      <th>Ticket</th>\n",
       "      <th>Fare</th>\n",
       "      <th>Cabin</th>\n",
       "      <th>Embarked</th>\n",
       "    </tr>\n",
       "  </thead>\n",
       "  <tbody>\n",
       "    <tr>\n",
       "      <th>0</th>\n",
       "      <td>1</td>\n",
       "      <td>0</td>\n",
       "      <td>3</td>\n",
       "      <td>Braund, Mr. Owen Harris</td>\n",
       "      <td>male</td>\n",
       "      <td>22.0</td>\n",
       "      <td>1</td>\n",
       "      <td>0</td>\n",
       "      <td>A/5 21171</td>\n",
       "      <td>7.2500</td>\n",
       "      <td>NaN</td>\n",
       "      <td>S</td>\n",
       "    </tr>\n",
       "    <tr>\n",
       "      <th>1</th>\n",
       "      <td>2</td>\n",
       "      <td>1</td>\n",
       "      <td>1</td>\n",
       "      <td>Cumings, Mrs. John Bradley (Florence Briggs Th...</td>\n",
       "      <td>female</td>\n",
       "      <td>38.0</td>\n",
       "      <td>1</td>\n",
       "      <td>0</td>\n",
       "      <td>PC 17599</td>\n",
       "      <td>71.2833</td>\n",
       "      <td>C85</td>\n",
       "      <td>C</td>\n",
       "    </tr>\n",
       "    <tr>\n",
       "      <th>2</th>\n",
       "      <td>3</td>\n",
       "      <td>1</td>\n",
       "      <td>3</td>\n",
       "      <td>Heikkinen, Miss. Laina</td>\n",
       "      <td>female</td>\n",
       "      <td>26.0</td>\n",
       "      <td>0</td>\n",
       "      <td>0</td>\n",
       "      <td>STON/O2. 3101282</td>\n",
       "      <td>7.9250</td>\n",
       "      <td>NaN</td>\n",
       "      <td>S</td>\n",
       "    </tr>\n",
       "    <tr>\n",
       "      <th>3</th>\n",
       "      <td>4</td>\n",
       "      <td>1</td>\n",
       "      <td>1</td>\n",
       "      <td>Futrelle, Mrs. Jacques Heath (Lily May Peel)</td>\n",
       "      <td>female</td>\n",
       "      <td>35.0</td>\n",
       "      <td>1</td>\n",
       "      <td>0</td>\n",
       "      <td>113803</td>\n",
       "      <td>53.1000</td>\n",
       "      <td>C123</td>\n",
       "      <td>S</td>\n",
       "    </tr>\n",
       "    <tr>\n",
       "      <th>4</th>\n",
       "      <td>5</td>\n",
       "      <td>0</td>\n",
       "      <td>3</td>\n",
       "      <td>Allen, Mr. William Henry</td>\n",
       "      <td>male</td>\n",
       "      <td>35.0</td>\n",
       "      <td>0</td>\n",
       "      <td>0</td>\n",
       "      <td>373450</td>\n",
       "      <td>8.0500</td>\n",
       "      <td>NaN</td>\n",
       "      <td>S</td>\n",
       "    </tr>\n",
       "    <tr>\n",
       "      <th>...</th>\n",
       "      <td>...</td>\n",
       "      <td>...</td>\n",
       "      <td>...</td>\n",
       "      <td>...</td>\n",
       "      <td>...</td>\n",
       "      <td>...</td>\n",
       "      <td>...</td>\n",
       "      <td>...</td>\n",
       "      <td>...</td>\n",
       "      <td>...</td>\n",
       "      <td>...</td>\n",
       "      <td>...</td>\n",
       "    </tr>\n",
       "    <tr>\n",
       "      <th>886</th>\n",
       "      <td>887</td>\n",
       "      <td>0</td>\n",
       "      <td>2</td>\n",
       "      <td>Montvila, Rev. Juozas</td>\n",
       "      <td>male</td>\n",
       "      <td>27.0</td>\n",
       "      <td>0</td>\n",
       "      <td>0</td>\n",
       "      <td>211536</td>\n",
       "      <td>13.0000</td>\n",
       "      <td>NaN</td>\n",
       "      <td>S</td>\n",
       "    </tr>\n",
       "    <tr>\n",
       "      <th>887</th>\n",
       "      <td>888</td>\n",
       "      <td>1</td>\n",
       "      <td>1</td>\n",
       "      <td>Graham, Miss. Margaret Edith</td>\n",
       "      <td>female</td>\n",
       "      <td>19.0</td>\n",
       "      <td>0</td>\n",
       "      <td>0</td>\n",
       "      <td>112053</td>\n",
       "      <td>30.0000</td>\n",
       "      <td>B42</td>\n",
       "      <td>S</td>\n",
       "    </tr>\n",
       "    <tr>\n",
       "      <th>888</th>\n",
       "      <td>889</td>\n",
       "      <td>0</td>\n",
       "      <td>3</td>\n",
       "      <td>Johnston, Miss. Catherine Helen \"Carrie\"</td>\n",
       "      <td>female</td>\n",
       "      <td>NaN</td>\n",
       "      <td>1</td>\n",
       "      <td>2</td>\n",
       "      <td>W./C. 6607</td>\n",
       "      <td>23.4500</td>\n",
       "      <td>NaN</td>\n",
       "      <td>S</td>\n",
       "    </tr>\n",
       "    <tr>\n",
       "      <th>889</th>\n",
       "      <td>890</td>\n",
       "      <td>1</td>\n",
       "      <td>1</td>\n",
       "      <td>Behr, Mr. Karl Howell</td>\n",
       "      <td>male</td>\n",
       "      <td>26.0</td>\n",
       "      <td>0</td>\n",
       "      <td>0</td>\n",
       "      <td>111369</td>\n",
       "      <td>30.0000</td>\n",
       "      <td>C148</td>\n",
       "      <td>C</td>\n",
       "    </tr>\n",
       "    <tr>\n",
       "      <th>890</th>\n",
       "      <td>891</td>\n",
       "      <td>0</td>\n",
       "      <td>3</td>\n",
       "      <td>Dooley, Mr. Patrick</td>\n",
       "      <td>male</td>\n",
       "      <td>32.0</td>\n",
       "      <td>0</td>\n",
       "      <td>0</td>\n",
       "      <td>370376</td>\n",
       "      <td>7.7500</td>\n",
       "      <td>NaN</td>\n",
       "      <td>Q</td>\n",
       "    </tr>\n",
       "  </tbody>\n",
       "</table>\n",
       "<p>891 rows × 12 columns</p>\n",
       "</div>"
      ],
      "text/plain": [
       "     PassengerId  Survived  Pclass  \\\n",
       "0              1         0       3   \n",
       "1              2         1       1   \n",
       "2              3         1       3   \n",
       "3              4         1       1   \n",
       "4              5         0       3   \n",
       "..           ...       ...     ...   \n",
       "886          887         0       2   \n",
       "887          888         1       1   \n",
       "888          889         0       3   \n",
       "889          890         1       1   \n",
       "890          891         0       3   \n",
       "\n",
       "                                                  Name     Sex   Age  SibSp  \\\n",
       "0                              Braund, Mr. Owen Harris    male  22.0      1   \n",
       "1    Cumings, Mrs. John Bradley (Florence Briggs Th...  female  38.0      1   \n",
       "2                               Heikkinen, Miss. Laina  female  26.0      0   \n",
       "3         Futrelle, Mrs. Jacques Heath (Lily May Peel)  female  35.0      1   \n",
       "4                             Allen, Mr. William Henry    male  35.0      0   \n",
       "..                                                 ...     ...   ...    ...   \n",
       "886                              Montvila, Rev. Juozas    male  27.0      0   \n",
       "887                       Graham, Miss. Margaret Edith  female  19.0      0   \n",
       "888           Johnston, Miss. Catherine Helen \"Carrie\"  female   NaN      1   \n",
       "889                              Behr, Mr. Karl Howell    male  26.0      0   \n",
       "890                                Dooley, Mr. Patrick    male  32.0      0   \n",
       "\n",
       "     Parch            Ticket     Fare Cabin Embarked  \n",
       "0        0         A/5 21171   7.2500   NaN        S  \n",
       "1        0          PC 17599  71.2833   C85        C  \n",
       "2        0  STON/O2. 3101282   7.9250   NaN        S  \n",
       "3        0            113803  53.1000  C123        S  \n",
       "4        0            373450   8.0500   NaN        S  \n",
       "..     ...               ...      ...   ...      ...  \n",
       "886      0            211536  13.0000   NaN        S  \n",
       "887      0            112053  30.0000   B42        S  \n",
       "888      2        W./C. 6607  23.4500   NaN        S  \n",
       "889      0            111369  30.0000  C148        C  \n",
       "890      0            370376   7.7500   NaN        Q  \n",
       "\n",
       "[891 rows x 12 columns]"
      ]
     },
     "execution_count": 104,
     "metadata": {},
     "output_type": "execute_result"
    }
   ],
   "source": [
    "df"
   ]
  },
  {
   "cell_type": "code",
   "execution_count": 105,
   "id": "000fa24f",
   "metadata": {},
   "outputs": [
    {
     "data": {
      "text/plain": [
       "PassengerId      0\n",
       "Survived         0\n",
       "Pclass           0\n",
       "Name             0\n",
       "Sex              0\n",
       "Age            177\n",
       "SibSp            0\n",
       "Parch            0\n",
       "Ticket           0\n",
       "Fare             0\n",
       "Cabin          687\n",
       "Embarked         2\n",
       "dtype: int64"
      ]
     },
     "execution_count": 105,
     "metadata": {},
     "output_type": "execute_result"
    }
   ],
   "source": [
    "df.isnull().sum()"
   ]
  },
  {
   "cell_type": "code",
   "execution_count": 106,
   "id": "e3661e9a",
   "metadata": {},
   "outputs": [],
   "source": [
    "# we have to remove the null values and we can see there are some unwanted columns too"
   ]
  },
  {
   "cell_type": "code",
   "execution_count": 107,
   "id": "353468e5",
   "metadata": {},
   "outputs": [],
   "source": [
    "#dropping the column Name and Ticket because these are completely irrelevant to our prediction or target.\n",
    "#dropping the column Cabin because it has more of null values and the cabin can be found from the fare rate and pclass\n",
    "\n",
    "df.drop(\"Name\",axis = 1,inplace = True)\n",
    "df.drop(\"Cabin\",axis=1, inplace = True)\n",
    "df.drop(\"Ticket\",axis=1, inplace = True)"
   ]
  },
  {
   "cell_type": "code",
   "execution_count": 108,
   "id": "3c202f99",
   "metadata": {},
   "outputs": [
    {
     "data": {
      "text/html": [
       "<div>\n",
       "<style scoped>\n",
       "    .dataframe tbody tr th:only-of-type {\n",
       "        vertical-align: middle;\n",
       "    }\n",
       "\n",
       "    .dataframe tbody tr th {\n",
       "        vertical-align: top;\n",
       "    }\n",
       "\n",
       "    .dataframe thead th {\n",
       "        text-align: right;\n",
       "    }\n",
       "</style>\n",
       "<table border=\"1\" class=\"dataframe\">\n",
       "  <thead>\n",
       "    <tr style=\"text-align: right;\">\n",
       "      <th></th>\n",
       "      <th>PassengerId</th>\n",
       "      <th>Survived</th>\n",
       "      <th>Pclass</th>\n",
       "      <th>Sex</th>\n",
       "      <th>Age</th>\n",
       "      <th>SibSp</th>\n",
       "      <th>Parch</th>\n",
       "      <th>Fare</th>\n",
       "      <th>Embarked</th>\n",
       "    </tr>\n",
       "  </thead>\n",
       "  <tbody>\n",
       "    <tr>\n",
       "      <th>0</th>\n",
       "      <td>1</td>\n",
       "      <td>0</td>\n",
       "      <td>3</td>\n",
       "      <td>male</td>\n",
       "      <td>22.0</td>\n",
       "      <td>1</td>\n",
       "      <td>0</td>\n",
       "      <td>7.2500</td>\n",
       "      <td>S</td>\n",
       "    </tr>\n",
       "    <tr>\n",
       "      <th>1</th>\n",
       "      <td>2</td>\n",
       "      <td>1</td>\n",
       "      <td>1</td>\n",
       "      <td>female</td>\n",
       "      <td>38.0</td>\n",
       "      <td>1</td>\n",
       "      <td>0</td>\n",
       "      <td>71.2833</td>\n",
       "      <td>C</td>\n",
       "    </tr>\n",
       "    <tr>\n",
       "      <th>2</th>\n",
       "      <td>3</td>\n",
       "      <td>1</td>\n",
       "      <td>3</td>\n",
       "      <td>female</td>\n",
       "      <td>26.0</td>\n",
       "      <td>0</td>\n",
       "      <td>0</td>\n",
       "      <td>7.9250</td>\n",
       "      <td>S</td>\n",
       "    </tr>\n",
       "    <tr>\n",
       "      <th>3</th>\n",
       "      <td>4</td>\n",
       "      <td>1</td>\n",
       "      <td>1</td>\n",
       "      <td>female</td>\n",
       "      <td>35.0</td>\n",
       "      <td>1</td>\n",
       "      <td>0</td>\n",
       "      <td>53.1000</td>\n",
       "      <td>S</td>\n",
       "    </tr>\n",
       "    <tr>\n",
       "      <th>4</th>\n",
       "      <td>5</td>\n",
       "      <td>0</td>\n",
       "      <td>3</td>\n",
       "      <td>male</td>\n",
       "      <td>35.0</td>\n",
       "      <td>0</td>\n",
       "      <td>0</td>\n",
       "      <td>8.0500</td>\n",
       "      <td>S</td>\n",
       "    </tr>\n",
       "    <tr>\n",
       "      <th>...</th>\n",
       "      <td>...</td>\n",
       "      <td>...</td>\n",
       "      <td>...</td>\n",
       "      <td>...</td>\n",
       "      <td>...</td>\n",
       "      <td>...</td>\n",
       "      <td>...</td>\n",
       "      <td>...</td>\n",
       "      <td>...</td>\n",
       "    </tr>\n",
       "    <tr>\n",
       "      <th>886</th>\n",
       "      <td>887</td>\n",
       "      <td>0</td>\n",
       "      <td>2</td>\n",
       "      <td>male</td>\n",
       "      <td>27.0</td>\n",
       "      <td>0</td>\n",
       "      <td>0</td>\n",
       "      <td>13.0000</td>\n",
       "      <td>S</td>\n",
       "    </tr>\n",
       "    <tr>\n",
       "      <th>887</th>\n",
       "      <td>888</td>\n",
       "      <td>1</td>\n",
       "      <td>1</td>\n",
       "      <td>female</td>\n",
       "      <td>19.0</td>\n",
       "      <td>0</td>\n",
       "      <td>0</td>\n",
       "      <td>30.0000</td>\n",
       "      <td>S</td>\n",
       "    </tr>\n",
       "    <tr>\n",
       "      <th>888</th>\n",
       "      <td>889</td>\n",
       "      <td>0</td>\n",
       "      <td>3</td>\n",
       "      <td>female</td>\n",
       "      <td>NaN</td>\n",
       "      <td>1</td>\n",
       "      <td>2</td>\n",
       "      <td>23.4500</td>\n",
       "      <td>S</td>\n",
       "    </tr>\n",
       "    <tr>\n",
       "      <th>889</th>\n",
       "      <td>890</td>\n",
       "      <td>1</td>\n",
       "      <td>1</td>\n",
       "      <td>male</td>\n",
       "      <td>26.0</td>\n",
       "      <td>0</td>\n",
       "      <td>0</td>\n",
       "      <td>30.0000</td>\n",
       "      <td>C</td>\n",
       "    </tr>\n",
       "    <tr>\n",
       "      <th>890</th>\n",
       "      <td>891</td>\n",
       "      <td>0</td>\n",
       "      <td>3</td>\n",
       "      <td>male</td>\n",
       "      <td>32.0</td>\n",
       "      <td>0</td>\n",
       "      <td>0</td>\n",
       "      <td>7.7500</td>\n",
       "      <td>Q</td>\n",
       "    </tr>\n",
       "  </tbody>\n",
       "</table>\n",
       "<p>891 rows × 9 columns</p>\n",
       "</div>"
      ],
      "text/plain": [
       "     PassengerId  Survived  Pclass     Sex   Age  SibSp  Parch     Fare  \\\n",
       "0              1         0       3    male  22.0      1      0   7.2500   \n",
       "1              2         1       1  female  38.0      1      0  71.2833   \n",
       "2              3         1       3  female  26.0      0      0   7.9250   \n",
       "3              4         1       1  female  35.0      1      0  53.1000   \n",
       "4              5         0       3    male  35.0      0      0   8.0500   \n",
       "..           ...       ...     ...     ...   ...    ...    ...      ...   \n",
       "886          887         0       2    male  27.0      0      0  13.0000   \n",
       "887          888         1       1  female  19.0      0      0  30.0000   \n",
       "888          889         0       3  female   NaN      1      2  23.4500   \n",
       "889          890         1       1    male  26.0      0      0  30.0000   \n",
       "890          891         0       3    male  32.0      0      0   7.7500   \n",
       "\n",
       "    Embarked  \n",
       "0          S  \n",
       "1          C  \n",
       "2          S  \n",
       "3          S  \n",
       "4          S  \n",
       "..       ...  \n",
       "886        S  \n",
       "887        S  \n",
       "888        S  \n",
       "889        C  \n",
       "890        Q  \n",
       "\n",
       "[891 rows x 9 columns]"
      ]
     },
     "execution_count": 108,
     "metadata": {},
     "output_type": "execute_result"
    }
   ],
   "source": [
    "df"
   ]
  },
  {
   "cell_type": "code",
   "execution_count": 109,
   "id": "ae2947a6",
   "metadata": {},
   "outputs": [],
   "source": [
    "#fill up or replace the null\n",
    "df[\"Age\"].replace(np.nan, df[\"Age\"].mean(), inplace = True)\n",
    "df[\"Embarked\"].replace(np.nan, df[\"Embarked\"].mode()[0], inplace = True)"
   ]
  },
  {
   "cell_type": "code",
   "execution_count": 110,
   "id": "f2363785",
   "metadata": {},
   "outputs": [
    {
     "data": {
      "text/html": [
       "<div>\n",
       "<style scoped>\n",
       "    .dataframe tbody tr th:only-of-type {\n",
       "        vertical-align: middle;\n",
       "    }\n",
       "\n",
       "    .dataframe tbody tr th {\n",
       "        vertical-align: top;\n",
       "    }\n",
       "\n",
       "    .dataframe thead th {\n",
       "        text-align: right;\n",
       "    }\n",
       "</style>\n",
       "<table border=\"1\" class=\"dataframe\">\n",
       "  <thead>\n",
       "    <tr style=\"text-align: right;\">\n",
       "      <th></th>\n",
       "      <th>PassengerId</th>\n",
       "      <th>Survived</th>\n",
       "      <th>Pclass</th>\n",
       "      <th>Sex</th>\n",
       "      <th>Age</th>\n",
       "      <th>SibSp</th>\n",
       "      <th>Parch</th>\n",
       "      <th>Fare</th>\n",
       "      <th>Embarked</th>\n",
       "    </tr>\n",
       "  </thead>\n",
       "  <tbody>\n",
       "    <tr>\n",
       "      <th>0</th>\n",
       "      <td>1</td>\n",
       "      <td>0</td>\n",
       "      <td>3</td>\n",
       "      <td>male</td>\n",
       "      <td>22.000000</td>\n",
       "      <td>1</td>\n",
       "      <td>0</td>\n",
       "      <td>7.2500</td>\n",
       "      <td>S</td>\n",
       "    </tr>\n",
       "    <tr>\n",
       "      <th>1</th>\n",
       "      <td>2</td>\n",
       "      <td>1</td>\n",
       "      <td>1</td>\n",
       "      <td>female</td>\n",
       "      <td>38.000000</td>\n",
       "      <td>1</td>\n",
       "      <td>0</td>\n",
       "      <td>71.2833</td>\n",
       "      <td>C</td>\n",
       "    </tr>\n",
       "    <tr>\n",
       "      <th>2</th>\n",
       "      <td>3</td>\n",
       "      <td>1</td>\n",
       "      <td>3</td>\n",
       "      <td>female</td>\n",
       "      <td>26.000000</td>\n",
       "      <td>0</td>\n",
       "      <td>0</td>\n",
       "      <td>7.9250</td>\n",
       "      <td>S</td>\n",
       "    </tr>\n",
       "    <tr>\n",
       "      <th>3</th>\n",
       "      <td>4</td>\n",
       "      <td>1</td>\n",
       "      <td>1</td>\n",
       "      <td>female</td>\n",
       "      <td>35.000000</td>\n",
       "      <td>1</td>\n",
       "      <td>0</td>\n",
       "      <td>53.1000</td>\n",
       "      <td>S</td>\n",
       "    </tr>\n",
       "    <tr>\n",
       "      <th>4</th>\n",
       "      <td>5</td>\n",
       "      <td>0</td>\n",
       "      <td>3</td>\n",
       "      <td>male</td>\n",
       "      <td>35.000000</td>\n",
       "      <td>0</td>\n",
       "      <td>0</td>\n",
       "      <td>8.0500</td>\n",
       "      <td>S</td>\n",
       "    </tr>\n",
       "    <tr>\n",
       "      <th>...</th>\n",
       "      <td>...</td>\n",
       "      <td>...</td>\n",
       "      <td>...</td>\n",
       "      <td>...</td>\n",
       "      <td>...</td>\n",
       "      <td>...</td>\n",
       "      <td>...</td>\n",
       "      <td>...</td>\n",
       "      <td>...</td>\n",
       "    </tr>\n",
       "    <tr>\n",
       "      <th>886</th>\n",
       "      <td>887</td>\n",
       "      <td>0</td>\n",
       "      <td>2</td>\n",
       "      <td>male</td>\n",
       "      <td>27.000000</td>\n",
       "      <td>0</td>\n",
       "      <td>0</td>\n",
       "      <td>13.0000</td>\n",
       "      <td>S</td>\n",
       "    </tr>\n",
       "    <tr>\n",
       "      <th>887</th>\n",
       "      <td>888</td>\n",
       "      <td>1</td>\n",
       "      <td>1</td>\n",
       "      <td>female</td>\n",
       "      <td>19.000000</td>\n",
       "      <td>0</td>\n",
       "      <td>0</td>\n",
       "      <td>30.0000</td>\n",
       "      <td>S</td>\n",
       "    </tr>\n",
       "    <tr>\n",
       "      <th>888</th>\n",
       "      <td>889</td>\n",
       "      <td>0</td>\n",
       "      <td>3</td>\n",
       "      <td>female</td>\n",
       "      <td>29.699118</td>\n",
       "      <td>1</td>\n",
       "      <td>2</td>\n",
       "      <td>23.4500</td>\n",
       "      <td>S</td>\n",
       "    </tr>\n",
       "    <tr>\n",
       "      <th>889</th>\n",
       "      <td>890</td>\n",
       "      <td>1</td>\n",
       "      <td>1</td>\n",
       "      <td>male</td>\n",
       "      <td>26.000000</td>\n",
       "      <td>0</td>\n",
       "      <td>0</td>\n",
       "      <td>30.0000</td>\n",
       "      <td>C</td>\n",
       "    </tr>\n",
       "    <tr>\n",
       "      <th>890</th>\n",
       "      <td>891</td>\n",
       "      <td>0</td>\n",
       "      <td>3</td>\n",
       "      <td>male</td>\n",
       "      <td>32.000000</td>\n",
       "      <td>0</td>\n",
       "      <td>0</td>\n",
       "      <td>7.7500</td>\n",
       "      <td>Q</td>\n",
       "    </tr>\n",
       "  </tbody>\n",
       "</table>\n",
       "<p>891 rows × 9 columns</p>\n",
       "</div>"
      ],
      "text/plain": [
       "     PassengerId  Survived  Pclass     Sex        Age  SibSp  Parch     Fare  \\\n",
       "0              1         0       3    male  22.000000      1      0   7.2500   \n",
       "1              2         1       1  female  38.000000      1      0  71.2833   \n",
       "2              3         1       3  female  26.000000      0      0   7.9250   \n",
       "3              4         1       1  female  35.000000      1      0  53.1000   \n",
       "4              5         0       3    male  35.000000      0      0   8.0500   \n",
       "..           ...       ...     ...     ...        ...    ...    ...      ...   \n",
       "886          887         0       2    male  27.000000      0      0  13.0000   \n",
       "887          888         1       1  female  19.000000      0      0  30.0000   \n",
       "888          889         0       3  female  29.699118      1      2  23.4500   \n",
       "889          890         1       1    male  26.000000      0      0  30.0000   \n",
       "890          891         0       3    male  32.000000      0      0   7.7500   \n",
       "\n",
       "    Embarked  \n",
       "0          S  \n",
       "1          C  \n",
       "2          S  \n",
       "3          S  \n",
       "4          S  \n",
       "..       ...  \n",
       "886        S  \n",
       "887        S  \n",
       "888        S  \n",
       "889        C  \n",
       "890        Q  \n",
       "\n",
       "[891 rows x 9 columns]"
      ]
     },
     "execution_count": 110,
     "metadata": {},
     "output_type": "execute_result"
    }
   ],
   "source": [
    "df"
   ]
  },
  {
   "cell_type": "code",
   "execution_count": 111,
   "id": "e16ca4b9",
   "metadata": {},
   "outputs": [
    {
     "data": {
      "text/plain": [
       "PassengerId    0\n",
       "Survived       0\n",
       "Pclass         0\n",
       "Sex            0\n",
       "Age            0\n",
       "SibSp          0\n",
       "Parch          0\n",
       "Fare           0\n",
       "Embarked       0\n",
       "dtype: int64"
      ]
     },
     "execution_count": 111,
     "metadata": {},
     "output_type": "execute_result"
    }
   ],
   "source": [
    "df.isnull().sum()"
   ]
  },
  {
   "cell_type": "code",
   "execution_count": 112,
   "id": "856d8926",
   "metadata": {},
   "outputs": [],
   "source": [
    "# there are no null values, now we are good to go!"
   ]
  },
  {
   "cell_type": "code",
   "execution_count": 113,
   "id": "cdae333e",
   "metadata": {},
   "outputs": [
    {
     "data": {
      "text/plain": [
       "PassengerId      int64\n",
       "Survived         int64\n",
       "Pclass           int64\n",
       "Sex             object\n",
       "Age            float64\n",
       "SibSp            int64\n",
       "Parch            int64\n",
       "Fare           float64\n",
       "Embarked        object\n",
       "dtype: object"
      ]
     },
     "execution_count": 113,
     "metadata": {},
     "output_type": "execute_result"
    }
   ],
   "source": [
    "df.dtypes"
   ]
  },
  {
   "cell_type": "code",
   "execution_count": 114,
   "id": "36208fca",
   "metadata": {},
   "outputs": [],
   "source": [
    "# there are 2 objext type features, let's see whether these two columns are related to the target or we can drop them."
   ]
  },
  {
   "cell_type": "code",
   "execution_count": 115,
   "id": "83b32849",
   "metadata": {},
   "outputs": [],
   "source": [
    "# Visualization of Sex to the Survival count"
   ]
  },
  {
   "cell_type": "code",
   "execution_count": 116,
   "id": "0214b6a7",
   "metadata": {},
   "outputs": [
    {
     "data": {
      "image/png": "[encoded data removed]",
      "text/plain": [
       "<Figure size 864x432 with 1 Axes>"
      ]
     },
     "metadata": {
      "needs_background": "light"
     },
     "output_type": "display_data"
    }
   ],
   "source": [
    "plt.figure(figsize=(12,6))\n",
    "sns.barplot(x= 'Survived',y= 'Sex', data= df)\n",
    "plt.show()"
   ]
  },
  {
   "cell_type": "code",
   "execution_count": 117,
   "id": "10790fd6",
   "metadata": {},
   "outputs": [
    {
     "data": {
      "image/png": "[encoded data removed]",
      "text/plain": [
       "<Figure size 864x432 with 1 Axes>"
      ]
     },
     "metadata": {
      "needs_background": "light"
     },
     "output_type": "display_data"
    }
   ],
   "source": [
    "dd = df[[\"Sex\",\"Survived\"]].groupby([\"Survived\"], as_index = False).count()\n",
    "dd.plot(kind = \"bar\",figsize = (12,6))\n",
    "plt.xlabel(\"Sex\")\n",
    "plt.ylabel(\"Survived\")\n",
    "plt.show()"
   ]
  },
  {
   "cell_type": "code",
   "execution_count": 118,
   "id": "dcd6909e",
   "metadata": {},
   "outputs": [],
   "source": [
    "# Visualization of Embarked to the Survival count"
   ]
  },
  {
   "cell_type": "code",
   "execution_count": 119,
   "id": "21975202",
   "metadata": {},
   "outputs": [
    {
     "data": {
      "image/png": "[encoded data removed]",
      "text/plain": [
       "<Figure size 864x432 with 1 Axes>"
      ]
     },
     "metadata": {
      "needs_background": "light"
     },
     "output_type": "display_data"
    }
   ],
   "source": [
    "plt.figure(figsize=(12,6))\n",
    "sns.barplot(x= 'Survived',y= 'Embarked', data= df)\n",
    "plt.show()"
   ]
  },
  {
   "cell_type": "code",
   "execution_count": 120,
   "id": "1cf7ed6c",
   "metadata": {},
   "outputs": [
    {
     "data": {
      "image/png": "[encoded data removed]",
      "text/plain": [
       "<Figure size 864x432 with 1 Axes>"
      ]
     },
     "metadata": {
      "needs_background": "light"
     },
     "output_type": "display_data"
    }
   ],
   "source": [
    "dd = df[[\"Embarked\",\"Survived\"]].groupby([\"Survived\"], as_index = False).count()\n",
    "dd.plot(kind = \"bar\",figsize = (12,6))\n",
    "plt.xlabel(\"Embarked\")\n",
    "plt.ylabel(\"Survived\")\n",
    "plt.show()"
   ]
  },
  {
   "cell_type": "code",
   "execution_count": 121,
   "id": "7853c1e7",
   "metadata": {},
   "outputs": [],
   "source": [
    "# we can see from above both are highly related to our target, so we can not drop them\n"
   ]
  },
  {
   "cell_type": "code",
   "execution_count": 122,
   "id": "86722989",
   "metadata": {},
   "outputs": [
    {
     "data": {
      "text/plain": [
       "<AxesSubplot:xlabel='Sex', ylabel='Survived'>"
      ]
     },
     "execution_count": 122,
     "metadata": {},
     "output_type": "execute_result"
    },
    {
     "data": {
      "image/png": "[encoded data removed]",
      "text/plain": [
       "<Figure size 432x288 with 1 Axes>"
      ]
     },
     "metadata": {
      "needs_background": "light"
     },
     "output_type": "display_data"
    }
   ],
   "source": [
    "#EDA\n",
    "sns.barplot(x='Sex', y='Survived', data=df)"
   ]
  },
  {
   "cell_type": "code",
   "execution_count": 123,
   "id": "9500d0f0",
   "metadata": {},
   "outputs": [
    {
     "data": {
      "text/plain": [
       "<AxesSubplot:xlabel='PassengerId', ylabel='Count'>"
      ]
     },
     "execution_count": 123,
     "metadata": {},
     "output_type": "execute_result"
    },
    {
     "data": {
      "image/png": "[encoded data removed]",
      "text/plain": [
       "<Figure size 432x288 with 1 Axes>"
      ]
     },
     "metadata": {
      "needs_background": "light"
     },
     "output_type": "display_data"
    }
   ],
   "source": [
    "sns.histplot(x='PassengerId',data=df)"
   ]
  },
  {
   "cell_type": "code",
   "execution_count": 124,
   "id": "5f24f783",
   "metadata": {},
   "outputs": [
    {
     "data": {
      "text/plain": [
       "<AxesSubplot:xlabel='Pclass', ylabel='Survived'>"
      ]
     },
     "execution_count": 124,
     "metadata": {},
     "output_type": "execute_result"
    },
    {
     "data": {
      "image/png": "[encoded data removed]",
      "text/plain": [
       "<Figure size 432x288 with 1 Axes>"
      ]
     },
     "metadata": {
      "needs_background": "light"
     },
     "output_type": "display_data"
    }
   ],
   "source": [
    "sns.barplot(x='Pclass', y='Survived', data=df)"
   ]
  },
  {
   "cell_type": "code",
   "execution_count": 125,
   "id": "31850880",
   "metadata": {},
   "outputs": [
    {
     "data": {
      "text/plain": [
       "<AxesSubplot:xlabel='Age', ylabel='Count'>"
      ]
     },
     "execution_count": 125,
     "metadata": {},
     "output_type": "execute_result"
    },
    {
     "data": {
      "image/png": "[encoded data removed]",
      "text/plain": [
       "<Figure size 432x288 with 1 Axes>"
      ]
     },
     "metadata": {
      "needs_background": "light"
     },
     "output_type": "display_data"
    }
   ],
   "source": [
    "sns.histplot(x='Age', data=df)"
   ]
  },
  {
   "cell_type": "code",
   "execution_count": 126,
   "id": "d533fed4",
   "metadata": {},
   "outputs": [
    {
     "data": {
      "text/plain": [
       "<AxesSubplot:xlabel='SibSp', ylabel='Survived'>"
      ]
     },
     "execution_count": 126,
     "metadata": {},
     "output_type": "execute_result"
    },
    {
     "data": {
      "image/png": "[encoded data removed]",
      "text/plain": [
       "<Figure size 432x288 with 1 Axes>"
      ]
     },
     "metadata": {
      "needs_background": "light"
     },
     "output_type": "display_data"
    }
   ],
   "source": [
    "sns.barplot(x='SibSp', y='Survived', data=df)"
   ]
  },
  {
   "cell_type": "code",
   "execution_count": 127,
   "id": "9e859be6",
   "metadata": {},
   "outputs": [
    {
     "data": {
      "text/plain": [
       "<AxesSubplot:xlabel='Fare', ylabel='Count'>"
      ]
     },
     "execution_count": 127,
     "metadata": {},
     "output_type": "execute_result"
    },
    {
     "data": {
      "image/png": "[encoded data removed]",
      "text/plain": [
       "<Figure size 432x288 with 1 Axes>"
      ]
     },
     "metadata": {
      "needs_background": "light"
     },
     "output_type": "display_data"
    }
   ],
   "source": [
    "sns.histplot(x='Fare',data=df)"
   ]
  },
  {
   "cell_type": "code",
   "execution_count": 128,
   "id": "1115d7be",
   "metadata": {},
   "outputs": [
    {
     "data": {
      "text/plain": [
       "<AxesSubplot:xlabel='Embarked', ylabel='Survived'>"
      ]
     },
     "execution_count": 128,
     "metadata": {},
     "output_type": "execute_result"
    },
    {
     "data": {
      "image/png": "[encoded data removed]",
      "text/plain": [
       "<Figure size 432x288 with 1 Axes>"
      ]
     },
     "metadata": {
      "needs_background": "light"
     },
     "output_type": "display_data"
    }
   ],
   "source": [
    "sns.barplot(x='Embarked', y='Survived', data=df)"
   ]
  },
  {
   "cell_type": "code",
   "execution_count": null,
   "id": "5de6b80a",
   "metadata": {},
   "outputs": [],
   "source": []
  },
  {
   "cell_type": "code",
   "execution_count": 129,
   "id": "b0090ac8",
   "metadata": {},
   "outputs": [
    {
     "data": {
      "text/plain": [
       "<AxesSubplot:xlabel='Parch', ylabel='Survived'>"
      ]
     },
     "execution_count": 129,
     "metadata": {},
     "output_type": "execute_result"
    },
    {
     "data": {
      "image/png": "[encoded data removed]",
      "text/plain": [
       "<Figure size 432x288 with 1 Axes>"
      ]
     },
     "metadata": {
      "needs_background": "light"
     },
     "output_type": "display_data"
    }
   ],
   "source": [
    "sns.barplot(x='Parch', y='Survived', data=df)"
   ]
  },
  {
   "cell_type": "code",
   "execution_count": 130,
   "id": "b37803a7",
   "metadata": {},
   "outputs": [],
   "source": [
    "# let's encode these object type columns\n",
    "df = pd.get_dummies(df, prefix = [\"Sex\",\"Embarked\"])"
   ]
  },
  {
   "cell_type": "code",
   "execution_count": 131,
   "id": "f2b328b8",
   "metadata": {},
   "outputs": [
    {
     "data": {
      "text/html": [
       "<div>\n",
       "<style scoped>\n",
       "    .dataframe tbody tr th:only-of-type {\n",
       "        vertical-align: middle;\n",
       "    }\n",
       "\n",
       "    .dataframe tbody tr th {\n",
       "        vertical-align: top;\n",
       "    }\n",
       "\n",
       "    .dataframe thead th {\n",
       "        text-align: right;\n",
       "    }\n",
       "</style>\n",
       "<table border=\"1\" class=\"dataframe\">\n",
       "  <thead>\n",
       "    <tr style=\"text-align: right;\">\n",
       "      <th></th>\n",
       "      <th>PassengerId</th>\n",
       "      <th>Survived</th>\n",
       "      <th>Pclass</th>\n",
       "      <th>Age</th>\n",
       "      <th>SibSp</th>\n",
       "      <th>Parch</th>\n",
       "      <th>Fare</th>\n",
       "      <th>Sex_female</th>\n",
       "      <th>Sex_male</th>\n",
       "      <th>Embarked_C</th>\n",
       "      <th>Embarked_Q</th>\n",
       "      <th>Embarked_S</th>\n",
       "    </tr>\n",
       "  </thead>\n",
       "  <tbody>\n",
       "    <tr>\n",
       "      <th>0</th>\n",
       "      <td>1</td>\n",
       "      <td>0</td>\n",
       "      <td>3</td>\n",
       "      <td>22.000000</td>\n",
       "      <td>1</td>\n",
       "      <td>0</td>\n",
       "      <td>7.2500</td>\n",
       "      <td>0</td>\n",
       "      <td>1</td>\n",
       "      <td>0</td>\n",
       "      <td>0</td>\n",
       "      <td>1</td>\n",
       "    </tr>\n",
       "    <tr>\n",
       "      <th>1</th>\n",
       "      <td>2</td>\n",
       "      <td>1</td>\n",
       "      <td>1</td>\n",
       "      <td>38.000000</td>\n",
       "      <td>1</td>\n",
       "      <td>0</td>\n",
       "      <td>71.2833</td>\n",
       "      <td>1</td>\n",
       "      <td>0</td>\n",
       "      <td>1</td>\n",
       "      <td>0</td>\n",
       "      <td>0</td>\n",
       "    </tr>\n",
       "    <tr>\n",
       "      <th>2</th>\n",
       "      <td>3</td>\n",
       "      <td>1</td>\n",
       "      <td>3</td>\n",
       "      <td>26.000000</td>\n",
       "      <td>0</td>\n",
       "      <td>0</td>\n",
       "      <td>7.9250</td>\n",
       "      <td>1</td>\n",
       "      <td>0</td>\n",
       "      <td>0</td>\n",
       "      <td>0</td>\n",
       "      <td>1</td>\n",
       "    </tr>\n",
       "    <tr>\n",
       "      <th>3</th>\n",
       "      <td>4</td>\n",
       "      <td>1</td>\n",
       "      <td>1</td>\n",
       "      <td>35.000000</td>\n",
       "      <td>1</td>\n",
       "      <td>0</td>\n",
       "      <td>53.1000</td>\n",
       "      <td>1</td>\n",
       "      <td>0</td>\n",
       "      <td>0</td>\n",
       "      <td>0</td>\n",
       "      <td>1</td>\n",
       "    </tr>\n",
       "    <tr>\n",
       "      <th>4</th>\n",
       "      <td>5</td>\n",
       "      <td>0</td>\n",
       "      <td>3</td>\n",
       "      <td>35.000000</td>\n",
       "      <td>0</td>\n",
       "      <td>0</td>\n",
       "      <td>8.0500</td>\n",
       "      <td>0</td>\n",
       "      <td>1</td>\n",
       "      <td>0</td>\n",
       "      <td>0</td>\n",
       "      <td>1</td>\n",
       "    </tr>\n",
       "    <tr>\n",
       "      <th>...</th>\n",
       "      <td>...</td>\n",
       "      <td>...</td>\n",
       "      <td>...</td>\n",
       "      <td>...</td>\n",
       "      <td>...</td>\n",
       "      <td>...</td>\n",
       "      <td>...</td>\n",
       "      <td>...</td>\n",
       "      <td>...</td>\n",
       "      <td>...</td>\n",
       "      <td>...</td>\n",
       "      <td>...</td>\n",
       "    </tr>\n",
       "    <tr>\n",
       "      <th>886</th>\n",
       "      <td>887</td>\n",
       "      <td>0</td>\n",
       "      <td>2</td>\n",
       "      <td>27.000000</td>\n",
       "      <td>0</td>\n",
       "      <td>0</td>\n",
       "      <td>13.0000</td>\n",
       "      <td>0</td>\n",
       "      <td>1</td>\n",
       "      <td>0</td>\n",
       "      <td>0</td>\n",
       "      <td>1</td>\n",
       "    </tr>\n",
       "    <tr>\n",
       "      <th>887</th>\n",
       "      <td>888</td>\n",
       "      <td>1</td>\n",
       "      <td>1</td>\n",
       "      <td>19.000000</td>\n",
       "      <td>0</td>\n",
       "      <td>0</td>\n",
       "      <td>30.0000</td>\n",
       "      <td>1</td>\n",
       "      <td>0</td>\n",
       "      <td>0</td>\n",
       "      <td>0</td>\n",
       "      <td>1</td>\n",
       "    </tr>\n",
       "    <tr>\n",
       "      <th>888</th>\n",
       "      <td>889</td>\n",
       "      <td>0</td>\n",
       "      <td>3</td>\n",
       "      <td>29.699118</td>\n",
       "      <td>1</td>\n",
       "      <td>2</td>\n",
       "      <td>23.4500</td>\n",
       "      <td>1</td>\n",
       "      <td>0</td>\n",
       "      <td>0</td>\n",
       "      <td>0</td>\n",
       "      <td>1</td>\n",
       "    </tr>\n",
       "    <tr>\n",
       "      <th>889</th>\n",
       "      <td>890</td>\n",
       "      <td>1</td>\n",
       "      <td>1</td>\n",
       "      <td>26.000000</td>\n",
       "      <td>0</td>\n",
       "      <td>0</td>\n",
       "      <td>30.0000</td>\n",
       "      <td>0</td>\n",
       "      <td>1</td>\n",
       "      <td>1</td>\n",
       "      <td>0</td>\n",
       "      <td>0</td>\n",
       "    </tr>\n",
       "    <tr>\n",
       "      <th>890</th>\n",
       "      <td>891</td>\n",
       "      <td>0</td>\n",
       "      <td>3</td>\n",
       "      <td>32.000000</td>\n",
       "      <td>0</td>\n",
       "      <td>0</td>\n",
       "      <td>7.7500</td>\n",
       "      <td>0</td>\n",
       "      <td>1</td>\n",
       "      <td>0</td>\n",
       "      <td>1</td>\n",
       "      <td>0</td>\n",
       "    </tr>\n",
       "  </tbody>\n",
       "</table>\n",
       "<p>891 rows × 12 columns</p>\n",
       "</div>"
      ],
      "text/plain": [
       "     PassengerId  Survived  Pclass        Age  SibSp  Parch     Fare  \\\n",
       "0              1         0       3  22.000000      1      0   7.2500   \n",
       "1              2         1       1  38.000000      1      0  71.2833   \n",
       "2              3         1       3  26.000000      0      0   7.9250   \n",
       "3              4         1       1  35.000000      1      0  53.1000   \n",
       "4              5         0       3  35.000000      0      0   8.0500   \n",
       "..           ...       ...     ...        ...    ...    ...      ...   \n",
       "886          887         0       2  27.000000      0      0  13.0000   \n",
       "887          888         1       1  19.000000      0      0  30.0000   \n",
       "888          889         0       3  29.699118      1      2  23.4500   \n",
       "889          890         1       1  26.000000      0      0  30.0000   \n",
       "890          891         0       3  32.000000      0      0   7.7500   \n",
       "\n",
       "     Sex_female  Sex_male  Embarked_C  Embarked_Q  Embarked_S  \n",
       "0             0         1           0           0           1  \n",
       "1             1         0           1           0           0  \n",
       "2             1         0           0           0           1  \n",
       "3             1         0           0           0           1  \n",
       "4             0         1           0           0           1  \n",
       "..          ...       ...         ...         ...         ...  \n",
       "886           0         1           0           0           1  \n",
       "887           1         0           0           0           1  \n",
       "888           1         0           0           0           1  \n",
       "889           0         1           1           0           0  \n",
       "890           0         1           0           1           0  \n",
       "\n",
       "[891 rows x 12 columns]"
      ]
     },
     "execution_count": 131,
     "metadata": {},
     "output_type": "execute_result"
    }
   ],
   "source": [
    "df"
   ]
  },
  {
   "cell_type": "code",
   "execution_count": 132,
   "id": "5767b4e8",
   "metadata": {},
   "outputs": [],
   "source": [
    "#let us make a heatmap"
   ]
  },
  {
   "cell_type": "code",
   "execution_count": 133,
   "id": "fe697a53",
   "metadata": {},
   "outputs": [
    {
     "data": {
      "text/plain": [
       "<AxesSubplot:>"
      ]
     },
     "execution_count": 133,
     "metadata": {},
     "output_type": "execute_result"
    },
    {
     "data": {
      "image/png": "[encoded data removed]",
      "text/plain": [
       "<Figure size 1728x576 with 2 Axes>"
      ]
     },
     "metadata": {
      "needs_background": "light"
     },
     "output_type": "display_data"
    }
   ],
   "source": [
    "import matplotlib.pyplot as plt\n",
    "plt.figure(figsize=(24,8))\n",
    "sns.heatmap(df.corr(), annot = True, vmin=-1, vmax=1, center= 0, cmap= 'coolwarm', linewidths=3, linecolor='black')"
   ]
  },
  {
   "cell_type": "code",
   "execution_count": 134,
   "id": "86b1e92c",
   "metadata": {},
   "outputs": [
    {
     "data": {
      "text/html": [
       "<div>\n",
       "<style scoped>\n",
       "    .dataframe tbody tr th:only-of-type {\n",
       "        vertical-align: middle;\n",
       "    }\n",
       "\n",
       "    .dataframe tbody tr th {\n",
       "        vertical-align: top;\n",
       "    }\n",
       "\n",
       "    .dataframe thead th {\n",
       "        text-align: right;\n",
       "    }\n",
       "</style>\n",
       "<table border=\"1\" class=\"dataframe\">\n",
       "  <thead>\n",
       "    <tr style=\"text-align: right;\">\n",
       "      <th></th>\n",
       "      <th>PassengerId</th>\n",
       "      <th>Survived</th>\n",
       "      <th>Pclass</th>\n",
       "      <th>Age</th>\n",
       "      <th>SibSp</th>\n",
       "      <th>Parch</th>\n",
       "      <th>Fare</th>\n",
       "      <th>Sex_female</th>\n",
       "      <th>Sex_male</th>\n",
       "      <th>Embarked_C</th>\n",
       "      <th>Embarked_Q</th>\n",
       "      <th>Embarked_S</th>\n",
       "    </tr>\n",
       "  </thead>\n",
       "  <tbody>\n",
       "    <tr>\n",
       "      <th>0</th>\n",
       "      <td>1</td>\n",
       "      <td>0</td>\n",
       "      <td>3</td>\n",
       "      <td>22.000000</td>\n",
       "      <td>1</td>\n",
       "      <td>0</td>\n",
       "      <td>7.2500</td>\n",
       "      <td>0</td>\n",
       "      <td>1</td>\n",
       "      <td>0</td>\n",
       "      <td>0</td>\n",
       "      <td>1</td>\n",
       "    </tr>\n",
       "    <tr>\n",
       "      <th>1</th>\n",
       "      <td>2</td>\n",
       "      <td>1</td>\n",
       "      <td>1</td>\n",
       "      <td>38.000000</td>\n",
       "      <td>1</td>\n",
       "      <td>0</td>\n",
       "      <td>71.2833</td>\n",
       "      <td>1</td>\n",
       "      <td>0</td>\n",
       "      <td>1</td>\n",
       "      <td>0</td>\n",
       "      <td>0</td>\n",
       "    </tr>\n",
       "    <tr>\n",
       "      <th>2</th>\n",
       "      <td>3</td>\n",
       "      <td>1</td>\n",
       "      <td>3</td>\n",
       "      <td>26.000000</td>\n",
       "      <td>0</td>\n",
       "      <td>0</td>\n",
       "      <td>7.9250</td>\n",
       "      <td>1</td>\n",
       "      <td>0</td>\n",
       "      <td>0</td>\n",
       "      <td>0</td>\n",
       "      <td>1</td>\n",
       "    </tr>\n",
       "    <tr>\n",
       "      <th>3</th>\n",
       "      <td>4</td>\n",
       "      <td>1</td>\n",
       "      <td>1</td>\n",
       "      <td>35.000000</td>\n",
       "      <td>1</td>\n",
       "      <td>0</td>\n",
       "      <td>53.1000</td>\n",
       "      <td>1</td>\n",
       "      <td>0</td>\n",
       "      <td>0</td>\n",
       "      <td>0</td>\n",
       "      <td>1</td>\n",
       "    </tr>\n",
       "    <tr>\n",
       "      <th>4</th>\n",
       "      <td>5</td>\n",
       "      <td>0</td>\n",
       "      <td>3</td>\n",
       "      <td>35.000000</td>\n",
       "      <td>0</td>\n",
       "      <td>0</td>\n",
       "      <td>8.0500</td>\n",
       "      <td>0</td>\n",
       "      <td>1</td>\n",
       "      <td>0</td>\n",
       "      <td>0</td>\n",
       "      <td>1</td>\n",
       "    </tr>\n",
       "    <tr>\n",
       "      <th>...</th>\n",
       "      <td>...</td>\n",
       "      <td>...</td>\n",
       "      <td>...</td>\n",
       "      <td>...</td>\n",
       "      <td>...</td>\n",
       "      <td>...</td>\n",
       "      <td>...</td>\n",
       "      <td>...</td>\n",
       "      <td>...</td>\n",
       "      <td>...</td>\n",
       "      <td>...</td>\n",
       "      <td>...</td>\n",
       "    </tr>\n",
       "    <tr>\n",
       "      <th>886</th>\n",
       "      <td>887</td>\n",
       "      <td>0</td>\n",
       "      <td>2</td>\n",
       "      <td>27.000000</td>\n",
       "      <td>0</td>\n",
       "      <td>0</td>\n",
       "      <td>13.0000</td>\n",
       "      <td>0</td>\n",
       "      <td>1</td>\n",
       "      <td>0</td>\n",
       "      <td>0</td>\n",
       "      <td>1</td>\n",
       "    </tr>\n",
       "    <tr>\n",
       "      <th>887</th>\n",
       "      <td>888</td>\n",
       "      <td>1</td>\n",
       "      <td>1</td>\n",
       "      <td>19.000000</td>\n",
       "      <td>0</td>\n",
       "      <td>0</td>\n",
       "      <td>30.0000</td>\n",
       "      <td>1</td>\n",
       "      <td>0</td>\n",
       "      <td>0</td>\n",
       "      <td>0</td>\n",
       "      <td>1</td>\n",
       "    </tr>\n",
       "    <tr>\n",
       "      <th>888</th>\n",
       "      <td>889</td>\n",
       "      <td>0</td>\n",
       "      <td>3</td>\n",
       "      <td>29.699118</td>\n",
       "      <td>1</td>\n",
       "      <td>2</td>\n",
       "      <td>23.4500</td>\n",
       "      <td>1</td>\n",
       "      <td>0</td>\n",
       "      <td>0</td>\n",
       "      <td>0</td>\n",
       "      <td>1</td>\n",
       "    </tr>\n",
       "    <tr>\n",
       "      <th>889</th>\n",
       "      <td>890</td>\n",
       "      <td>1</td>\n",
       "      <td>1</td>\n",
       "      <td>26.000000</td>\n",
       "      <td>0</td>\n",
       "      <td>0</td>\n",
       "      <td>30.0000</td>\n",
       "      <td>0</td>\n",
       "      <td>1</td>\n",
       "      <td>1</td>\n",
       "      <td>0</td>\n",
       "      <td>0</td>\n",
       "    </tr>\n",
       "    <tr>\n",
       "      <th>890</th>\n",
       "      <td>891</td>\n",
       "      <td>0</td>\n",
       "      <td>3</td>\n",
       "      <td>32.000000</td>\n",
       "      <td>0</td>\n",
       "      <td>0</td>\n",
       "      <td>7.7500</td>\n",
       "      <td>0</td>\n",
       "      <td>1</td>\n",
       "      <td>0</td>\n",
       "      <td>1</td>\n",
       "      <td>0</td>\n",
       "    </tr>\n",
       "  </tbody>\n",
       "</table>\n",
       "<p>891 rows × 12 columns</p>\n",
       "</div>"
      ],
      "text/plain": [
       "     PassengerId  Survived  Pclass        Age  SibSp  Parch     Fare  \\\n",
       "0              1         0       3  22.000000      1      0   7.2500   \n",
       "1              2         1       1  38.000000      1      0  71.2833   \n",
       "2              3         1       3  26.000000      0      0   7.9250   \n",
       "3              4         1       1  35.000000      1      0  53.1000   \n",
       "4              5         0       3  35.000000      0      0   8.0500   \n",
       "..           ...       ...     ...        ...    ...    ...      ...   \n",
       "886          887         0       2  27.000000      0      0  13.0000   \n",
       "887          888         1       1  19.000000      0      0  30.0000   \n",
       "888          889         0       3  29.699118      1      2  23.4500   \n",
       "889          890         1       1  26.000000      0      0  30.0000   \n",
       "890          891         0       3  32.000000      0      0   7.7500   \n",
       "\n",
       "     Sex_female  Sex_male  Embarked_C  Embarked_Q  Embarked_S  \n",
       "0             0         1           0           0           1  \n",
       "1             1         0           1           0           0  \n",
       "2             1         0           0           0           1  \n",
       "3             1         0           0           0           1  \n",
       "4             0         1           0           0           1  \n",
       "..          ...       ...         ...         ...         ...  \n",
       "886           0         1           0           0           1  \n",
       "887           1         0           0           0           1  \n",
       "888           1         0           0           0           1  \n",
       "889           0         1           1           0           0  \n",
       "890           0         1           0           1           0  \n",
       "\n",
       "[891 rows x 12 columns]"
      ]
     },
     "execution_count": 134,
     "metadata": {},
     "output_type": "execute_result"
    }
   ],
   "source": [
    "df"
   ]
  },
  {
   "cell_type": "code",
   "execution_count": 135,
   "id": "b4f840e0",
   "metadata": {},
   "outputs": [],
   "source": [
    "#modelling and train and test split"
   ]
  },
  {
   "cell_type": "code",
   "execution_count": 136,
   "id": "6ca4a973",
   "metadata": {},
   "outputs": [],
   "source": [
    "from sklearn.model_selection import train_test_split\n",
    "from sklearn.tree import DecisionTreeClassifier\n",
    "from sklearn.linear_model import LogisticRegression\n",
    "from sklearn.ensemble import RandomForestClassifier\n",
    "from sklearn.svm import SVC\n",
    "from sklearn.metrics import classification_report\n",
    "from sklearn.metrics import accuracy_score, log_loss\n",
    "from sklearn.metrics import confusion_matrix\n",
    "lr= LogisticRegression()\n",
    "dt= DecisionTreeClassifier()\n",
    "rf= RandomForestClassifier()\n",
    "svc= SVC()"
   ]
  },
  {
   "cell_type": "code",
   "execution_count": 137,
   "id": "22976bb7",
   "metadata": {},
   "outputs": [],
   "source": [
    "X = df.drop(['Survived'], axis=1)\n",
    "y = df['Survived']"
   ]
  },
  {
   "cell_type": "code",
   "execution_count": 138,
   "id": "c434ff53",
   "metadata": {},
   "outputs": [
    {
     "data": {
      "text/html": [
       "<div>\n",
       "<style scoped>\n",
       "    .dataframe tbody tr th:only-of-type {\n",
       "        vertical-align: middle;\n",
       "    }\n",
       "\n",
       "    .dataframe tbody tr th {\n",
       "        vertical-align: top;\n",
       "    }\n",
       "\n",
       "    .dataframe thead th {\n",
       "        text-align: right;\n",
       "    }\n",
       "</style>\n",
       "<table border=\"1\" class=\"dataframe\">\n",
       "  <thead>\n",
       "    <tr style=\"text-align: right;\">\n",
       "      <th></th>\n",
       "      <th>PassengerId</th>\n",
       "      <th>Pclass</th>\n",
       "      <th>Age</th>\n",
       "      <th>SibSp</th>\n",
       "      <th>Parch</th>\n",
       "      <th>Fare</th>\n",
       "      <th>Sex_female</th>\n",
       "      <th>Sex_male</th>\n",
       "      <th>Embarked_C</th>\n",
       "      <th>Embarked_Q</th>\n",
       "      <th>Embarked_S</th>\n",
       "    </tr>\n",
       "  </thead>\n",
       "  <tbody>\n",
       "    <tr>\n",
       "      <th>0</th>\n",
       "      <td>1</td>\n",
       "      <td>3</td>\n",
       "      <td>22.000000</td>\n",
       "      <td>1</td>\n",
       "      <td>0</td>\n",
       "      <td>7.2500</td>\n",
       "      <td>0</td>\n",
       "      <td>1</td>\n",
       "      <td>0</td>\n",
       "      <td>0</td>\n",
       "      <td>1</td>\n",
       "    </tr>\n",
       "    <tr>\n",
       "      <th>1</th>\n",
       "      <td>2</td>\n",
       "      <td>1</td>\n",
       "      <td>38.000000</td>\n",
       "      <td>1</td>\n",
       "      <td>0</td>\n",
       "      <td>71.2833</td>\n",
       "      <td>1</td>\n",
       "      <td>0</td>\n",
       "      <td>1</td>\n",
       "      <td>0</td>\n",
       "      <td>0</td>\n",
       "    </tr>\n",
       "    <tr>\n",
       "      <th>2</th>\n",
       "      <td>3</td>\n",
       "      <td>3</td>\n",
       "      <td>26.000000</td>\n",
       "      <td>0</td>\n",
       "      <td>0</td>\n",
       "      <td>7.9250</td>\n",
       "      <td>1</td>\n",
       "      <td>0</td>\n",
       "      <td>0</td>\n",
       "      <td>0</td>\n",
       "      <td>1</td>\n",
       "    </tr>\n",
       "    <tr>\n",
       "      <th>3</th>\n",
       "      <td>4</td>\n",
       "      <td>1</td>\n",
       "      <td>35.000000</td>\n",
       "      <td>1</td>\n",
       "      <td>0</td>\n",
       "      <td>53.1000</td>\n",
       "      <td>1</td>\n",
       "      <td>0</td>\n",
       "      <td>0</td>\n",
       "      <td>0</td>\n",
       "      <td>1</td>\n",
       "    </tr>\n",
       "    <tr>\n",
       "      <th>4</th>\n",
       "      <td>5</td>\n",
       "      <td>3</td>\n",
       "      <td>35.000000</td>\n",
       "      <td>0</td>\n",
       "      <td>0</td>\n",
       "      <td>8.0500</td>\n",
       "      <td>0</td>\n",
       "      <td>1</td>\n",
       "      <td>0</td>\n",
       "      <td>0</td>\n",
       "      <td>1</td>\n",
       "    </tr>\n",
       "    <tr>\n",
       "      <th>...</th>\n",
       "      <td>...</td>\n",
       "      <td>...</td>\n",
       "      <td>...</td>\n",
       "      <td>...</td>\n",
       "      <td>...</td>\n",
       "      <td>...</td>\n",
       "      <td>...</td>\n",
       "      <td>...</td>\n",
       "      <td>...</td>\n",
       "      <td>...</td>\n",
       "      <td>...</td>\n",
       "    </tr>\n",
       "    <tr>\n",
       "      <th>886</th>\n",
       "      <td>887</td>\n",
       "      <td>2</td>\n",
       "      <td>27.000000</td>\n",
       "      <td>0</td>\n",
       "      <td>0</td>\n",
       "      <td>13.0000</td>\n",
       "      <td>0</td>\n",
       "      <td>1</td>\n",
       "      <td>0</td>\n",
       "      <td>0</td>\n",
       "      <td>1</td>\n",
       "    </tr>\n",
       "    <tr>\n",
       "      <th>887</th>\n",
       "      <td>888</td>\n",
       "      <td>1</td>\n",
       "      <td>19.000000</td>\n",
       "      <td>0</td>\n",
       "      <td>0</td>\n",
       "      <td>30.0000</td>\n",
       "      <td>1</td>\n",
       "      <td>0</td>\n",
       "      <td>0</td>\n",
       "      <td>0</td>\n",
       "      <td>1</td>\n",
       "    </tr>\n",
       "    <tr>\n",
       "      <th>888</th>\n",
       "      <td>889</td>\n",
       "      <td>3</td>\n",
       "      <td>29.699118</td>\n",
       "      <td>1</td>\n",
       "      <td>2</td>\n",
       "      <td>23.4500</td>\n",
       "      <td>1</td>\n",
       "      <td>0</td>\n",
       "      <td>0</td>\n",
       "      <td>0</td>\n",
       "      <td>1</td>\n",
       "    </tr>\n",
       "    <tr>\n",
       "      <th>889</th>\n",
       "      <td>890</td>\n",
       "      <td>1</td>\n",
       "      <td>26.000000</td>\n",
       "      <td>0</td>\n",
       "      <td>0</td>\n",
       "      <td>30.0000</td>\n",
       "      <td>0</td>\n",
       "      <td>1</td>\n",
       "      <td>1</td>\n",
       "      <td>0</td>\n",
       "      <td>0</td>\n",
       "    </tr>\n",
       "    <tr>\n",
       "      <th>890</th>\n",
       "      <td>891</td>\n",
       "      <td>3</td>\n",
       "      <td>32.000000</td>\n",
       "      <td>0</td>\n",
       "      <td>0</td>\n",
       "      <td>7.7500</td>\n",
       "      <td>0</td>\n",
       "      <td>1</td>\n",
       "      <td>0</td>\n",
       "      <td>1</td>\n",
       "      <td>0</td>\n",
       "    </tr>\n",
       "  </tbody>\n",
       "</table>\n",
       "<p>891 rows × 11 columns</p>\n",
       "</div>"
      ],
      "text/plain": [
       "     PassengerId  Pclass        Age  SibSp  Parch     Fare  Sex_female  \\\n",
       "0              1       3  22.000000      1      0   7.2500           0   \n",
       "1              2       1  38.000000      1      0  71.2833           1   \n",
       "2              3       3  26.000000      0      0   7.9250           1   \n",
       "3              4       1  35.000000      1      0  53.1000           1   \n",
       "4              5       3  35.000000      0      0   8.0500           0   \n",
       "..           ...     ...        ...    ...    ...      ...         ...   \n",
       "886          887       2  27.000000      0      0  13.0000           0   \n",
       "887          888       1  19.000000      0      0  30.0000           1   \n",
       "888          889       3  29.699118      1      2  23.4500           1   \n",
       "889          890       1  26.000000      0      0  30.0000           0   \n",
       "890          891       3  32.000000      0      0   7.7500           0   \n",
       "\n",
       "     Sex_male  Embarked_C  Embarked_Q  Embarked_S  \n",
       "0           1           0           0           1  \n",
       "1           0           1           0           0  \n",
       "2           0           0           0           1  \n",
       "3           0           0           0           1  \n",
       "4           1           0           0           1  \n",
       "..        ...         ...         ...         ...  \n",
       "886         1           0           0           1  \n",
       "887         0           0           0           1  \n",
       "888         0           0           0           1  \n",
       "889         1           1           0           0  \n",
       "890         1           0           1           0  \n",
       "\n",
       "[891 rows x 11 columns]"
      ]
     },
     "execution_count": 138,
     "metadata": {},
     "output_type": "execute_result"
    }
   ],
   "source": [
    "X"
   ]
  },
  {
   "cell_type": "code",
   "execution_count": 139,
   "id": "aa07f599",
   "metadata": {},
   "outputs": [
    {
     "data": {
      "text/plain": [
       "0      0\n",
       "1      1\n",
       "2      1\n",
       "3      1\n",
       "4      0\n",
       "      ..\n",
       "886    0\n",
       "887    1\n",
       "888    0\n",
       "889    1\n",
       "890    0\n",
       "Name: Survived, Length: 891, dtype: int64"
      ]
     },
     "execution_count": 139,
     "metadata": {},
     "output_type": "execute_result"
    }
   ],
   "source": [
    "y"
   ]
  },
  {
   "cell_type": "code",
   "execution_count": 140,
   "id": "3958a30c",
   "metadata": {},
   "outputs": [
    {
     "data": {
      "text/plain": [
       "array([[-1.73010796,  0.82737724, -0.5924806 , ..., -0.48204268,\n",
       "        -0.30756234,  0.61583843],\n",
       "       [-1.72622007, -1.56610693,  0.63878901, ...,  2.0745051 ,\n",
       "        -0.30756234, -1.62380254],\n",
       "       [-1.72233219,  0.82737724, -0.2846632 , ..., -0.48204268,\n",
       "        -0.30756234,  0.61583843],\n",
       "       ...,\n",
       "       [ 1.72233219,  0.82737724,  0.        , ..., -0.48204268,\n",
       "        -0.30756234,  0.61583843],\n",
       "       [ 1.72622007, -1.56610693, -0.2846632 , ...,  2.0745051 ,\n",
       "        -0.30756234, -1.62380254],\n",
       "       [ 1.73010796,  0.82737724,  0.17706291, ..., -0.48204268,\n",
       "         3.25137334, -1.62380254]])"
      ]
     },
     "execution_count": 140,
     "metadata": {},
     "output_type": "execute_result"
    }
   ],
   "source": [
    "from sklearn.preprocessing import StandardScaler \n",
    "\n",
    "scale = StandardScaler()\n",
    "\n",
    "X = scale.fit_transform(X)\n",
    "X"
   ]
  },
  {
   "cell_type": "code",
   "execution_count": 141,
   "id": "2e78874b",
   "metadata": {},
   "outputs": [
    {
     "name": "stdout",
     "output_type": "stream",
     "text": [
      "accuracy 0.7932960893854749 random_state 1\n",
      "max_accuracy 0.7932960893854749 max_random_state 1\n",
      "accuracy 0.7821229050279329 random_state 2\n",
      "accuracy 0.7597765363128491 random_state 3\n",
      "accuracy 0.8268156424581006 random_state 4\n",
      "max_accuracy 0.8268156424581006 max_random_state 4\n",
      "accuracy 0.8156424581005587 random_state 5\n",
      "accuracy 0.8547486033519553 random_state 6\n",
      "max_accuracy 0.8547486033519553 max_random_state 6\n",
      "accuracy 0.7597765363128491 random_state 7\n",
      "accuracy 0.7597765363128491 random_state 8\n",
      "accuracy 0.770949720670391 random_state 9\n",
      "accuracy 0.8212290502793296 random_state 10\n",
      "accuracy 0.8547486033519553 random_state 11\n",
      "accuracy 0.7932960893854749 random_state 12\n",
      "accuracy 0.8379888268156425 random_state 13\n",
      "accuracy 0.8044692737430168 random_state 14\n",
      "accuracy 0.8044692737430168 random_state 15\n",
      "accuracy 0.7430167597765364 random_state 16\n",
      "accuracy 0.776536312849162 random_state 17\n",
      "accuracy 0.8547486033519553 random_state 18\n",
      "accuracy 0.8324022346368715 random_state 19\n",
      "accuracy 0.8156424581005587 random_state 20\n",
      "accuracy 0.7988826815642458 random_state 21\n",
      "accuracy 0.776536312849162 random_state 22\n",
      "accuracy 0.7597765363128491 random_state 23\n",
      "accuracy 0.8379888268156425 random_state 24\n",
      "accuracy 0.8044692737430168 random_state 25\n",
      "accuracy 0.8212290502793296 random_state 26\n",
      "accuracy 0.8212290502793296 random_state 27\n",
      "accuracy 0.7877094972067039 random_state 28\n",
      "accuracy 0.776536312849162 random_state 29\n",
      "accuracy 0.7821229050279329 random_state 30\n",
      "accuracy 0.7877094972067039 random_state 31\n",
      "accuracy 0.776536312849162 random_state 32\n",
      "accuracy 0.7988826815642458 random_state 33\n",
      "accuracy 0.8435754189944135 random_state 34\n",
      "accuracy 0.7877094972067039 random_state 35\n",
      "accuracy 0.8044692737430168 random_state 36\n",
      "accuracy 0.7988826815642458 random_state 37\n",
      "accuracy 0.8324022346368715 random_state 38\n",
      "accuracy 0.7821229050279329 random_state 39\n",
      "accuracy 0.8156424581005587 random_state 40\n",
      "accuracy 0.8100558659217877 random_state 41\n",
      "accuracy 0.8044692737430168 random_state 42\n",
      "accuracy 0.7374301675977654 random_state 43\n",
      "accuracy 0.7430167597765364 random_state 44\n",
      "accuracy 0.8379888268156425 random_state 45\n",
      "accuracy 0.8379888268156425 random_state 46\n",
      "accuracy 0.7988826815642458 random_state 47\n",
      "accuracy 0.776536312849162 random_state 48\n",
      "accuracy 0.8156424581005587 random_state 49\n",
      "accuracy 0.7932960893854749 random_state 50\n",
      "accuracy 0.776536312849162 random_state 51\n",
      "accuracy 0.8100558659217877 random_state 52\n",
      "accuracy 0.776536312849162 random_state 53\n",
      "accuracy 0.7877094972067039 random_state 54\n",
      "accuracy 0.776536312849162 random_state 55\n",
      "accuracy 0.8156424581005587 random_state 56\n",
      "accuracy 0.7877094972067039 random_state 57\n",
      "accuracy 0.7932960893854749 random_state 58\n",
      "accuracy 0.7430167597765364 random_state 59\n",
      "accuracy 0.7653631284916201 random_state 60\n",
      "accuracy 0.770949720670391 random_state 61\n",
      "accuracy 0.8044692737430168 random_state 62\n",
      "accuracy 0.8156424581005587 random_state 63\n",
      "accuracy 0.8212290502793296 random_state 64\n",
      "accuracy 0.7932960893854749 random_state 65\n",
      "accuracy 0.770949720670391 random_state 66\n",
      "accuracy 0.7988826815642458 random_state 67\n",
      "accuracy 0.8100558659217877 random_state 68\n",
      "accuracy 0.8100558659217877 random_state 69\n",
      "accuracy 0.8268156424581006 random_state 70\n",
      "accuracy 0.8212290502793296 random_state 71\n",
      "accuracy 0.8212290502793296 random_state 72\n",
      "accuracy 0.8100558659217877 random_state 73\n",
      "accuracy 0.8324022346368715 random_state 74\n",
      "accuracy 0.7486033519553073 random_state 75\n",
      "accuracy 0.8435754189944135 random_state 76\n",
      "accuracy 0.770949720670391 random_state 77\n",
      "accuracy 0.8435754189944135 random_state 78\n",
      "accuracy 0.7932960893854749 random_state 79\n",
      "accuracy 0.770949720670391 random_state 80\n",
      "accuracy 0.7541899441340782 random_state 81\n",
      "accuracy 0.8044692737430168 random_state 82\n",
      "accuracy 0.776536312849162 random_state 83\n",
      "accuracy 0.7430167597765364 random_state 84\n",
      "accuracy 0.7932960893854749 random_state 85\n",
      "accuracy 0.7932960893854749 random_state 86\n",
      "accuracy 0.7988826815642458 random_state 87\n",
      "accuracy 0.7821229050279329 random_state 88\n",
      "accuracy 0.8324022346368715 random_state 89\n",
      "accuracy 0.7932960893854749 random_state 90\n",
      "accuracy 0.7597765363128491 random_state 91\n",
      "accuracy 0.7821229050279329 random_state 92\n",
      "accuracy 0.8324022346368715 random_state 93\n",
      "accuracy 0.8044692737430168 random_state 94\n",
      "accuracy 0.8100558659217877 random_state 95\n",
      "accuracy 0.8044692737430168 random_state 96\n",
      "accuracy 0.7988826815642458 random_state 97\n",
      "accuracy 0.7653631284916201 random_state 98\n",
      "accuracy 0.7486033519553073 random_state 99\n",
      "accuracy 0.8044692737430168 random_state 100\n",
      "accuracy 0.8100558659217877 random_state 101\n",
      "accuracy 0.7932960893854749 random_state 102\n",
      "accuracy 0.776536312849162 random_state 103\n",
      "accuracy 0.7877094972067039 random_state 104\n",
      "accuracy 0.7653631284916201 random_state 105\n",
      "accuracy 0.8044692737430168 random_state 106\n",
      "accuracy 0.7877094972067039 random_state 107\n",
      "accuracy 0.7988826815642458 random_state 108\n",
      "accuracy 0.7932960893854749 random_state 109\n",
      "accuracy 0.8212290502793296 random_state 110\n",
      "accuracy 0.7821229050279329 random_state 111\n",
      "accuracy 0.8100558659217877 random_state 112\n",
      "accuracy 0.7821229050279329 random_state 113\n",
      "accuracy 0.7430167597765364 random_state 114\n",
      "accuracy 0.8156424581005587 random_state 115\n",
      "accuracy 0.7988826815642458 random_state 116\n",
      "accuracy 0.7597765363128491 random_state 117\n",
      "accuracy 0.7597765363128491 random_state 118\n",
      "accuracy 0.770949720670391 random_state 119\n",
      "accuracy 0.7821229050279329 random_state 120\n",
      "accuracy 0.776536312849162 random_state 121\n",
      "accuracy 0.7430167597765364 random_state 122\n",
      "accuracy 0.8212290502793296 random_state 123\n",
      "accuracy 0.7821229050279329 random_state 124\n",
      "accuracy 0.8100558659217877 random_state 125\n",
      "accuracy 0.8268156424581006 random_state 126\n",
      "accuracy 0.8044692737430168 random_state 127\n",
      "accuracy 0.8044692737430168 random_state 128\n",
      "accuracy 0.8212290502793296 random_state 129\n",
      "accuracy 0.8212290502793296 random_state 130\n",
      "accuracy 0.7430167597765364 random_state 131\n",
      "accuracy 0.8268156424581006 random_state 132\n",
      "accuracy 0.8100558659217877 random_state 133\n",
      "accuracy 0.7821229050279329 random_state 134\n",
      "accuracy 0.7653631284916201 random_state 135\n",
      "accuracy 0.7988826815642458 random_state 136\n",
      "accuracy 0.8156424581005587 random_state 137\n",
      "accuracy 0.8156424581005587 random_state 138\n",
      "accuracy 0.8212290502793296 random_state 139\n",
      "accuracy 0.7821229050279329 random_state 140\n",
      "accuracy 0.7932960893854749 random_state 141\n",
      "accuracy 0.8044692737430168 random_state 142\n",
      "accuracy 0.7653631284916201 random_state 143\n",
      "accuracy 0.8044692737430168 random_state 144\n",
      "accuracy 0.8212290502793296 random_state 145\n",
      "accuracy 0.770949720670391 random_state 146\n",
      "accuracy 0.8212290502793296 random_state 147\n",
      "accuracy 0.8212290502793296 random_state 148\n",
      "accuracy 0.8212290502793296 random_state 149\n",
      "accuracy 0.8491620111731844 random_state 150\n",
      "accuracy 0.770949720670391 random_state 151\n",
      "accuracy 0.776536312849162 random_state 152\n",
      "accuracy 0.8044692737430168 random_state 153\n",
      "accuracy 0.7988826815642458 random_state 154\n",
      "accuracy 0.7988826815642458 random_state 155\n",
      "accuracy 0.7877094972067039 random_state 156\n",
      "accuracy 0.7877094972067039 random_state 157\n",
      "accuracy 0.770949720670391 random_state 158\n",
      "accuracy 0.8379888268156425 random_state 159\n",
      "accuracy 0.8044692737430168 random_state 160\n",
      "accuracy 0.776536312849162 random_state 161\n",
      "accuracy 0.7653631284916201 random_state 162\n",
      "accuracy 0.8044692737430168 random_state 163\n",
      "accuracy 0.8156424581005587 random_state 164\n",
      "accuracy 0.8156424581005587 random_state 165\n",
      "accuracy 0.7932960893854749 random_state 166\n",
      "accuracy 0.8156424581005587 random_state 167\n",
      "accuracy 0.8044692737430168 random_state 168\n",
      "accuracy 0.8212290502793296 random_state 169\n",
      "accuracy 0.7653631284916201 random_state 170\n",
      "accuracy 0.7932960893854749 random_state 171\n",
      "accuracy 0.7932960893854749 random_state 172\n",
      "accuracy 0.8268156424581006 random_state 173\n",
      "accuracy 0.7653631284916201 random_state 174\n",
      "accuracy 0.7877094972067039 random_state 175\n",
      "accuracy 0.7486033519553073 random_state 176\n",
      "accuracy 0.7877094972067039 random_state 177\n",
      "accuracy 0.7821229050279329 random_state 178\n",
      "accuracy 0.770949720670391 random_state 179\n",
      "accuracy 0.8268156424581006 random_state 180\n",
      "accuracy 0.7988826815642458 random_state 181\n",
      "accuracy 0.7988826815642458 random_state 182\n",
      "accuracy 0.8100558659217877 random_state 183\n",
      "accuracy 0.7988826815642458 random_state 184\n",
      "accuracy 0.770949720670391 random_state 185\n",
      "accuracy 0.7877094972067039 random_state 186\n",
      "accuracy 0.7597765363128491 random_state 187\n",
      "accuracy 0.7597765363128491 random_state 188\n",
      "accuracy 0.7597765363128491 random_state 189\n",
      "accuracy 0.8212290502793296 random_state 190\n",
      "accuracy 0.8100558659217877 random_state 191\n",
      "accuracy 0.7821229050279329 random_state 192\n",
      "accuracy 0.8156424581005587 random_state 193\n",
      "accuracy 0.7877094972067039 random_state 194\n",
      "accuracy 0.776536312849162 random_state 195\n",
      "accuracy 0.8435754189944135 random_state 196\n",
      "accuracy 0.8044692737430168 random_state 197\n",
      "accuracy 0.776536312849162 random_state 198\n",
      "accuracy 0.7821229050279329 random_state 199\n"
     ]
    }
   ],
   "source": [
    "#best random state for logistic regression.\n",
    "maxAccu= 0\n",
    "maxRS= 0\n",
    "\n",
    "for i in range(1,200):\n",
    "    X_train, X_test, y_train, y_test= train_test_split(X,y, test_size= .20, random_state= i)\n",
    "    lr= LogisticRegression()\n",
    "    lr.fit(X_train, y_train)\n",
    "    prediction= lr.predict(X_test)\n",
    "    acc= accuracy_score(y_test, prediction)\n",
    "    print('accuracy', acc, 'random_state', i)\n",
    "    \n",
    "    if acc> maxAccu:\n",
    "        maxAccu=acc\n",
    "        maxRS= i\n",
    "        print('max_accuracy', maxAccu, 'max_random_state', i)"
   ]
  },
  {
   "cell_type": "code",
   "execution_count": 142,
   "id": "a69ad963",
   "metadata": {},
   "outputs": [
    {
     "name": "stdout",
     "output_type": "stream",
     "text": [
      "best accuracy is 0.8547486033519553 on random_state 6\n"
     ]
    }
   ],
   "source": [
    "print('best accuracy is', maxAccu, 'on random_state', maxRS)"
   ]
  },
  {
   "cell_type": "code",
   "execution_count": 143,
   "id": "213f1f78",
   "metadata": {
    "scrolled": false
   },
   "outputs": [
    {
     "name": "stdout",
     "output_type": "stream",
     "text": [
      "accuracy 0.7597765363128491 random_state 1\n",
      "max_accuracy 0.7597765363128491 max_random_state 1\n",
      "accuracy 0.7597765363128491 random_state 2\n",
      "accuracy 0.7318435754189944 random_state 3\n",
      "accuracy 0.7821229050279329 random_state 4\n",
      "max_accuracy 0.7821229050279329 max_random_state 4\n",
      "accuracy 0.7541899441340782 random_state 5\n",
      "accuracy 0.7821229050279329 random_state 6\n",
      "accuracy 0.7150837988826816 random_state 7\n",
      "accuracy 0.7318435754189944 random_state 8\n",
      "accuracy 0.7541899441340782 random_state 9\n",
      "accuracy 0.776536312849162 random_state 10\n",
      "accuracy 0.7430167597765364 random_state 11\n",
      "accuracy 0.6983240223463687 random_state 12\n",
      "accuracy 0.7653631284916201 random_state 13\n",
      "accuracy 0.770949720670391 random_state 14\n",
      "accuracy 0.7932960893854749 random_state 15\n",
      "max_accuracy 0.7932960893854749 max_random_state 15\n",
      "accuracy 0.7094972067039106 random_state 16\n",
      "accuracy 0.7486033519553073 random_state 17\n",
      "accuracy 0.7932960893854749 random_state 18\n",
      "accuracy 0.7094972067039106 random_state 19\n",
      "accuracy 0.7430167597765364 random_state 20\n",
      "accuracy 0.7318435754189944 random_state 21\n",
      "accuracy 0.7653631284916201 random_state 22\n",
      "accuracy 0.7206703910614525 random_state 23\n",
      "accuracy 0.8044692737430168 random_state 24\n",
      "max_accuracy 0.8044692737430168 max_random_state 24\n",
      "accuracy 0.6983240223463687 random_state 25\n",
      "accuracy 0.7318435754189944 random_state 26\n",
      "accuracy 0.7486033519553073 random_state 27\n",
      "accuracy 0.7653631284916201 random_state 28\n",
      "accuracy 0.7094972067039106 random_state 29\n",
      "accuracy 0.7150837988826816 random_state 30\n",
      "accuracy 0.6759776536312849 random_state 31\n",
      "accuracy 0.7541899441340782 random_state 32\n",
      "accuracy 0.7541899441340782 random_state 33\n",
      "accuracy 0.7877094972067039 random_state 34\n",
      "accuracy 0.7653631284916201 random_state 35\n",
      "accuracy 0.8044692737430168 random_state 36\n",
      "accuracy 0.7150837988826816 random_state 37\n",
      "accuracy 0.6983240223463687 random_state 38\n",
      "accuracy 0.7821229050279329 random_state 39\n",
      "accuracy 0.7653631284916201 random_state 40\n",
      "accuracy 0.7430167597765364 random_state 41\n",
      "accuracy 0.770949720670391 random_state 42\n",
      "accuracy 0.7430167597765364 random_state 43\n",
      "accuracy 0.7150837988826816 random_state 44\n",
      "accuracy 0.8212290502793296 random_state 45\n",
      "max_accuracy 0.8212290502793296 max_random_state 45\n",
      "accuracy 0.7821229050279329 random_state 46\n",
      "accuracy 0.7318435754189944 random_state 47\n",
      "accuracy 0.6759776536312849 random_state 48\n",
      "accuracy 0.7653631284916201 random_state 49\n",
      "accuracy 0.7541899441340782 random_state 50\n",
      "accuracy 0.7821229050279329 random_state 51\n",
      "accuracy 0.7318435754189944 random_state 52\n",
      "accuracy 0.7039106145251397 random_state 53\n",
      "accuracy 0.7597765363128491 random_state 54\n",
      "accuracy 0.7262569832402235 random_state 55\n",
      "accuracy 0.7821229050279329 random_state 56\n",
      "accuracy 0.7374301675977654 random_state 57\n",
      "accuracy 0.7541899441340782 random_state 58\n",
      "accuracy 0.7206703910614525 random_state 59\n",
      "accuracy 0.7318435754189944 random_state 60\n",
      "accuracy 0.7039106145251397 random_state 61\n",
      "accuracy 0.7206703910614525 random_state 62\n",
      "accuracy 0.7597765363128491 random_state 63\n",
      "accuracy 0.7597765363128491 random_state 64\n",
      "accuracy 0.7486033519553073 random_state 65\n",
      "accuracy 0.770949720670391 random_state 66\n",
      "accuracy 0.7039106145251397 random_state 67\n",
      "accuracy 0.7206703910614525 random_state 68\n",
      "accuracy 0.7486033519553073 random_state 69\n",
      "accuracy 0.7486033519553073 random_state 70\n",
      "accuracy 0.7374301675977654 random_state 71\n",
      "accuracy 0.7486033519553073 random_state 72\n",
      "accuracy 0.7486033519553073 random_state 73\n",
      "accuracy 0.7653631284916201 random_state 74\n",
      "accuracy 0.7150837988826816 random_state 75\n",
      "accuracy 0.7877094972067039 random_state 76\n",
      "accuracy 0.776536312849162 random_state 77\n",
      "accuracy 0.6759776536312849 random_state 78\n",
      "accuracy 0.776536312849162 random_state 79\n",
      "accuracy 0.7541899441340782 random_state 80\n",
      "accuracy 0.7374301675977654 random_state 81\n",
      "accuracy 0.7486033519553073 random_state 82\n",
      "accuracy 0.7541899441340782 random_state 83\n",
      "accuracy 0.7150837988826816 random_state 84\n",
      "accuracy 0.776536312849162 random_state 85\n",
      "accuracy 0.7597765363128491 random_state 86\n",
      "accuracy 0.7597765363128491 random_state 87\n",
      "accuracy 0.7374301675977654 random_state 88\n",
      "accuracy 0.7877094972067039 random_state 89\n",
      "accuracy 0.7374301675977654 random_state 90\n",
      "accuracy 0.8044692737430168 random_state 91\n",
      "accuracy 0.7430167597765364 random_state 92\n",
      "accuracy 0.776536312849162 random_state 93\n",
      "accuracy 0.7653631284916201 random_state 94\n",
      "accuracy 0.7877094972067039 random_state 95\n",
      "accuracy 0.7094972067039106 random_state 96\n",
      "accuracy 0.7150837988826816 random_state 97\n",
      "accuracy 0.7486033519553073 random_state 98\n",
      "accuracy 0.7653631284916201 random_state 99\n",
      "accuracy 0.7877094972067039 random_state 100\n",
      "accuracy 0.7597765363128491 random_state 101\n",
      "accuracy 0.7430167597765364 random_state 102\n",
      "accuracy 0.664804469273743 random_state 103\n",
      "accuracy 0.7374301675977654 random_state 104\n",
      "accuracy 0.7653631284916201 random_state 105\n",
      "accuracy 0.7094972067039106 random_state 106\n",
      "accuracy 0.6983240223463687 random_state 107\n",
      "accuracy 0.7262569832402235 random_state 108\n",
      "accuracy 0.7541899441340782 random_state 109\n",
      "accuracy 0.7318435754189944 random_state 110\n",
      "accuracy 0.7653631284916201 random_state 111\n",
      "accuracy 0.7653631284916201 random_state 112\n",
      "accuracy 0.7541899441340782 random_state 113\n",
      "accuracy 0.6927374301675978 random_state 114\n",
      "accuracy 0.770949720670391 random_state 115\n",
      "accuracy 0.8100558659217877 random_state 116\n",
      "accuracy 0.7150837988826816 random_state 117\n",
      "accuracy 0.7374301675977654 random_state 118\n",
      "accuracy 0.770949720670391 random_state 119\n",
      "accuracy 0.7318435754189944 random_state 120\n",
      "accuracy 0.7430167597765364 random_state 121\n",
      "accuracy 0.7318435754189944 random_state 122\n",
      "accuracy 0.7094972067039106 random_state 123\n",
      "accuracy 0.6983240223463687 random_state 124\n",
      "accuracy 0.664804469273743 random_state 125\n",
      "accuracy 0.770949720670391 random_state 126\n",
      "accuracy 0.776536312849162 random_state 127\n",
      "accuracy 0.7653631284916201 random_state 128\n",
      "accuracy 0.7486033519553073 random_state 129\n",
      "accuracy 0.770949720670391 random_state 130\n",
      "accuracy 0.770949720670391 random_state 131\n",
      "accuracy 0.7541899441340782 random_state 132\n",
      "accuracy 0.7932960893854749 random_state 133\n",
      "accuracy 0.7541899441340782 random_state 134\n",
      "accuracy 0.7653631284916201 random_state 135\n",
      "accuracy 0.8156424581005587 random_state 136\n",
      "accuracy 0.7821229050279329 random_state 137\n",
      "accuracy 0.770949720670391 random_state 138\n",
      "accuracy 0.7877094972067039 random_state 139\n",
      "accuracy 0.7206703910614525 random_state 140\n",
      "accuracy 0.776536312849162 random_state 141\n",
      "accuracy 0.770949720670391 random_state 142\n",
      "accuracy 0.7374301675977654 random_state 143\n",
      "accuracy 0.6927374301675978 random_state 144\n",
      "accuracy 0.7318435754189944 random_state 145\n",
      "accuracy 0.7206703910614525 random_state 146\n",
      "accuracy 0.770949720670391 random_state 147\n",
      "accuracy 0.7430167597765364 random_state 148\n",
      "accuracy 0.7374301675977654 random_state 149\n",
      "accuracy 0.7486033519553073 random_state 150\n",
      "accuracy 0.7486033519553073 random_state 151\n",
      "accuracy 0.7318435754189944 random_state 152\n",
      "accuracy 0.7430167597765364 random_state 153\n",
      "accuracy 0.7597765363128491 random_state 154\n",
      "accuracy 0.6983240223463687 random_state 155\n",
      "accuracy 0.7262569832402235 random_state 156\n",
      "accuracy 0.7262569832402235 random_state 157\n",
      "accuracy 0.7039106145251397 random_state 158\n",
      "accuracy 0.7597765363128491 random_state 159\n",
      "accuracy 0.7486033519553073 random_state 160\n",
      "accuracy 0.7821229050279329 random_state 161\n",
      "accuracy 0.7150837988826816 random_state 162\n",
      "accuracy 0.770949720670391 random_state 163\n",
      "accuracy 0.7653631284916201 random_state 164\n",
      "accuracy 0.7932960893854749 random_state 165\n",
      "accuracy 0.7988826815642458 random_state 166\n",
      "accuracy 0.776536312849162 random_state 167\n",
      "accuracy 0.7541899441340782 random_state 168\n",
      "accuracy 0.776536312849162 random_state 169\n",
      "accuracy 0.7541899441340782 random_state 170\n",
      "accuracy 0.7541899441340782 random_state 171\n",
      "accuracy 0.7541899441340782 random_state 172\n",
      "accuracy 0.776536312849162 random_state 173\n",
      "accuracy 0.7430167597765364 random_state 174\n",
      "accuracy 0.7653631284916201 random_state 175\n",
      "accuracy 0.7262569832402235 random_state 176\n",
      "accuracy 0.7486033519553073 random_state 177\n",
      "accuracy 0.7150837988826816 random_state 178\n",
      "accuracy 0.7039106145251397 random_state 179\n",
      "accuracy 0.770949720670391 random_state 180\n",
      "accuracy 0.7877094972067039 random_state 181\n",
      "accuracy 0.770949720670391 random_state 182\n",
      "accuracy 0.770949720670391 random_state 183\n",
      "accuracy 0.7374301675977654 random_state 184\n",
      "accuracy 0.7094972067039106 random_state 185\n",
      "accuracy 0.776536312849162 random_state 186\n",
      "accuracy 0.770949720670391 random_state 187\n",
      "accuracy 0.7374301675977654 random_state 188\n",
      "accuracy 0.7206703910614525 random_state 189\n",
      "accuracy 0.7486033519553073 random_state 190\n",
      "accuracy 0.7653631284916201 random_state 191\n",
      "accuracy 0.7653631284916201 random_state 192\n",
      "accuracy 0.7318435754189944 random_state 193\n",
      "accuracy 0.7821229050279329 random_state 194\n",
      "accuracy 0.7541899441340782 random_state 195\n",
      "accuracy 0.8156424581005587 random_state 196\n",
      "accuracy 0.770949720670391 random_state 197\n",
      "accuracy 0.7206703910614525 random_state 198\n",
      "accuracy 0.7318435754189944 random_state 199\n"
     ]
    }
   ],
   "source": [
    "#best random state for Decision Tree.\n",
    "maxAccu= 0\n",
    "maxRS= 0\n",
    "\n",
    "for i in range(1,200):\n",
    "    X_train, X_test, y_train, y_test= train_test_split(X,y, test_size= .20, random_state= i)\n",
    "    dt= DecisionTreeClassifier()\n",
    "    dt.fit(X_train, y_train)\n",
    "    prediction= dt.predict(X_test)\n",
    "    acc= accuracy_score(y_test, prediction)\n",
    "    print('accuracy', acc, 'random_state', i)\n",
    "    \n",
    "    if acc> maxAccu:\n",
    "        maxAccu=acc\n",
    "        maxRS= i\n",
    "        print('max_accuracy', maxAccu, 'max_random_state', i)"
   ]
  },
  {
   "cell_type": "code",
   "execution_count": 144,
   "id": "cc298ff6",
   "metadata": {},
   "outputs": [
    {
     "name": "stdout",
     "output_type": "stream",
     "text": [
      "best accuracy is 0.8212290502793296 on random_state 45\n"
     ]
    }
   ],
   "source": [
    "print('best accuracy is', maxAccu, 'on random_state', maxRS)"
   ]
  },
  {
   "cell_type": "code",
   "execution_count": 145,
   "id": "c9c70fd1",
   "metadata": {},
   "outputs": [
    {
     "name": "stdout",
     "output_type": "stream",
     "text": [
      "accuracy 0.7932960893854749 random_state 1\n",
      "max_accuracy 0.7932960893854749 max_random_state 1\n",
      "accuracy 0.7821229050279329 random_state 2\n",
      "accuracy 0.8156424581005587 random_state 3\n",
      "max_accuracy 0.8156424581005587 max_random_state 3\n",
      "accuracy 0.8547486033519553 random_state 4\n",
      "max_accuracy 0.8547486033519553 max_random_state 4\n",
      "accuracy 0.8324022346368715 random_state 5\n",
      "accuracy 0.8491620111731844 random_state 6\n",
      "accuracy 0.7653631284916201 random_state 7\n",
      "accuracy 0.7877094972067039 random_state 8\n",
      "accuracy 0.7821229050279329 random_state 9\n",
      "accuracy 0.8659217877094972 random_state 10\n",
      "max_accuracy 0.8659217877094972 max_random_state 10\n",
      "accuracy 0.8268156424581006 random_state 11\n",
      "accuracy 0.7486033519553073 random_state 12\n",
      "accuracy 0.8324022346368715 random_state 13\n",
      "accuracy 0.8212290502793296 random_state 14\n",
      "accuracy 0.8044692737430168 random_state 15\n",
      "accuracy 0.770949720670391 random_state 16\n",
      "accuracy 0.7877094972067039 random_state 17\n",
      "accuracy 0.8603351955307262 random_state 18\n",
      "accuracy 0.8435754189944135 random_state 19\n",
      "accuracy 0.7932960893854749 random_state 20\n",
      "accuracy 0.7988826815642458 random_state 21\n",
      "accuracy 0.8212290502793296 random_state 22\n",
      "accuracy 0.7932960893854749 random_state 23\n",
      "accuracy 0.8659217877094972 random_state 24\n",
      "accuracy 0.7932960893854749 random_state 25\n",
      "accuracy 0.8100558659217877 random_state 26\n",
      "accuracy 0.8268156424581006 random_state 27\n",
      "accuracy 0.8324022346368715 random_state 28\n",
      "accuracy 0.8156424581005587 random_state 29\n",
      "accuracy 0.8044692737430168 random_state 30\n",
      "accuracy 0.8156424581005587 random_state 31\n",
      "accuracy 0.8491620111731844 random_state 32\n",
      "accuracy 0.8379888268156425 random_state 33\n",
      "accuracy 0.8715083798882681 random_state 34\n",
      "max_accuracy 0.8715083798882681 max_random_state 34\n",
      "accuracy 0.7988826815642458 random_state 35\n",
      "accuracy 0.8379888268156425 random_state 36\n",
      "accuracy 0.8100558659217877 random_state 37\n",
      "accuracy 0.8268156424581006 random_state 38\n",
      "accuracy 0.8212290502793296 random_state 39\n",
      "accuracy 0.8268156424581006 random_state 40\n",
      "accuracy 0.8324022346368715 random_state 41\n",
      "accuracy 0.8212290502793296 random_state 42\n",
      "accuracy 0.7877094972067039 random_state 43\n",
      "accuracy 0.7374301675977654 random_state 44\n",
      "accuracy 0.8491620111731844 random_state 45\n",
      "accuracy 0.8379888268156425 random_state 46\n",
      "accuracy 0.7932960893854749 random_state 47\n",
      "accuracy 0.7877094972067039 random_state 48\n",
      "accuracy 0.8603351955307262 random_state 49\n",
      "accuracy 0.8044692737430168 random_state 50\n",
      "accuracy 0.8100558659217877 random_state 51\n",
      "accuracy 0.7932960893854749 random_state 52\n",
      "accuracy 0.7988826815642458 random_state 53\n",
      "accuracy 0.8156424581005587 random_state 54\n",
      "accuracy 0.7932960893854749 random_state 55\n",
      "accuracy 0.8212290502793296 random_state 56\n",
      "accuracy 0.8044692737430168 random_state 57\n",
      "accuracy 0.7988826815642458 random_state 58\n",
      "accuracy 0.7988826815642458 random_state 59\n",
      "accuracy 0.8100558659217877 random_state 60\n",
      "accuracy 0.8212290502793296 random_state 61\n",
      "accuracy 0.8212290502793296 random_state 62\n",
      "accuracy 0.8379888268156425 random_state 63\n",
      "accuracy 0.8379888268156425 random_state 64\n",
      "accuracy 0.8379888268156425 random_state 65\n",
      "accuracy 0.8156424581005587 random_state 66\n",
      "accuracy 0.8044692737430168 random_state 67\n",
      "accuracy 0.7988826815642458 random_state 68\n",
      "accuracy 0.8212290502793296 random_state 69\n",
      "accuracy 0.7932960893854749 random_state 70\n",
      "accuracy 0.8268156424581006 random_state 71\n",
      "accuracy 0.8491620111731844 random_state 72\n",
      "accuracy 0.8547486033519553 random_state 73\n",
      "accuracy 0.8659217877094972 random_state 74\n",
      "accuracy 0.8044692737430168 random_state 75\n",
      "accuracy 0.8435754189944135 random_state 76\n",
      "accuracy 0.8100558659217877 random_state 77\n",
      "accuracy 0.8212290502793296 random_state 78\n",
      "accuracy 0.8212290502793296 random_state 79\n",
      "accuracy 0.7821229050279329 random_state 80\n",
      "accuracy 0.8100558659217877 random_state 81\n",
      "accuracy 0.7877094972067039 random_state 82\n",
      "accuracy 0.8212290502793296 random_state 83\n",
      "accuracy 0.7597765363128491 random_state 84\n",
      "accuracy 0.7932960893854749 random_state 85\n",
      "accuracy 0.8379888268156425 random_state 86\n",
      "accuracy 0.8100558659217877 random_state 87\n",
      "accuracy 0.8156424581005587 random_state 88\n",
      "accuracy 0.8491620111731844 random_state 89\n",
      "accuracy 0.8268156424581006 random_state 90\n",
      "accuracy 0.8379888268156425 random_state 91\n",
      "accuracy 0.8156424581005587 random_state 92\n",
      "accuracy 0.8659217877094972 random_state 93\n",
      "accuracy 0.8324022346368715 random_state 94\n",
      "accuracy 0.8324022346368715 random_state 95\n",
      "accuracy 0.7932960893854749 random_state 96\n",
      "accuracy 0.8156424581005587 random_state 97\n",
      "accuracy 0.7988826815642458 random_state 98\n",
      "accuracy 0.8379888268156425 random_state 99\n",
      "accuracy 0.8491620111731844 random_state 100\n",
      "accuracy 0.8212290502793296 random_state 101\n",
      "accuracy 0.8268156424581006 random_state 102\n",
      "accuracy 0.7821229050279329 random_state 103\n",
      "accuracy 0.8268156424581006 random_state 104\n",
      "accuracy 0.8212290502793296 random_state 105\n",
      "accuracy 0.7932960893854749 random_state 106\n",
      "accuracy 0.7988826815642458 random_state 107\n",
      "accuracy 0.8324022346368715 random_state 108\n",
      "accuracy 0.7877094972067039 random_state 109\n",
      "accuracy 0.8156424581005587 random_state 110\n",
      "accuracy 0.8379888268156425 random_state 111\n",
      "accuracy 0.8379888268156425 random_state 112\n",
      "accuracy 0.8379888268156425 random_state 113\n",
      "accuracy 0.7821229050279329 random_state 114\n",
      "accuracy 0.8435754189944135 random_state 115\n",
      "accuracy 0.8156424581005587 random_state 116\n",
      "accuracy 0.770949720670391 random_state 117\n",
      "accuracy 0.8044692737430168 random_state 118\n",
      "accuracy 0.8156424581005587 random_state 119\n",
      "accuracy 0.8212290502793296 random_state 120\n",
      "accuracy 0.8324022346368715 random_state 121\n",
      "accuracy 0.7988826815642458 random_state 122\n",
      "accuracy 0.8268156424581006 random_state 123\n",
      "accuracy 0.8044692737430168 random_state 124\n",
      "accuracy 0.7932960893854749 random_state 125\n",
      "accuracy 0.7877094972067039 random_state 126\n",
      "accuracy 0.8156424581005587 random_state 127\n",
      "accuracy 0.8379888268156425 random_state 128\n",
      "accuracy 0.8379888268156425 random_state 129\n",
      "accuracy 0.8379888268156425 random_state 130\n",
      "accuracy 0.7877094972067039 random_state 131\n",
      "accuracy 0.8379888268156425 random_state 132\n",
      "accuracy 0.8212290502793296 random_state 133\n",
      "accuracy 0.8379888268156425 random_state 134\n",
      "accuracy 0.8212290502793296 random_state 135\n",
      "accuracy 0.8435754189944135 random_state 136\n",
      "accuracy 0.8100558659217877 random_state 137\n",
      "accuracy 0.8659217877094972 random_state 138\n",
      "accuracy 0.8324022346368715 random_state 139\n",
      "accuracy 0.7821229050279329 random_state 140\n",
      "accuracy 0.8379888268156425 random_state 141\n",
      "accuracy 0.8212290502793296 random_state 142\n",
      "accuracy 0.7988826815642458 random_state 143\n",
      "accuracy 0.8156424581005587 random_state 144\n",
      "accuracy 0.8603351955307262 random_state 145\n",
      "accuracy 0.8100558659217877 random_state 146\n",
      "accuracy 0.8603351955307262 random_state 147\n",
      "accuracy 0.8212290502793296 random_state 148\n",
      "accuracy 0.7932960893854749 random_state 149\n",
      "accuracy 0.8659217877094972 random_state 150\n",
      "accuracy 0.7988826815642458 random_state 151\n",
      "accuracy 0.8268156424581006 random_state 152\n",
      "accuracy 0.8100558659217877 random_state 153\n",
      "accuracy 0.8435754189944135 random_state 154\n",
      "accuracy 0.8212290502793296 random_state 155\n",
      "accuracy 0.8156424581005587 random_state 156\n",
      "accuracy 0.7877094972067039 random_state 157\n",
      "accuracy 0.7932960893854749 random_state 158\n",
      "accuracy 0.8324022346368715 random_state 159\n",
      "accuracy 0.888268156424581 random_state 160\n",
      "max_accuracy 0.888268156424581 max_random_state 160\n",
      "accuracy 0.776536312849162 random_state 161\n",
      "accuracy 0.8044692737430168 random_state 162\n",
      "accuracy 0.8379888268156425 random_state 163\n",
      "accuracy 0.8212290502793296 random_state 164\n",
      "accuracy 0.8156424581005587 random_state 165\n",
      "accuracy 0.8268156424581006 random_state 166\n",
      "accuracy 0.8324022346368715 random_state 167\n",
      "accuracy 0.8268156424581006 random_state 168\n",
      "accuracy 0.8324022346368715 random_state 169\n",
      "accuracy 0.8100558659217877 random_state 170\n",
      "accuracy 0.8268156424581006 random_state 171\n",
      "accuracy 0.8044692737430168 random_state 172\n",
      "accuracy 0.8603351955307262 random_state 173\n",
      "accuracy 0.8379888268156425 random_state 174\n",
      "accuracy 0.7988826815642458 random_state 175\n",
      "accuracy 0.776536312849162 random_state 176\n",
      "accuracy 0.7877094972067039 random_state 177\n",
      "accuracy 0.8156424581005587 random_state 178\n",
      "accuracy 0.8044692737430168 random_state 179\n",
      "accuracy 0.8379888268156425 random_state 180\n",
      "accuracy 0.8659217877094972 random_state 181\n",
      "accuracy 0.8212290502793296 random_state 182\n",
      "accuracy 0.8324022346368715 random_state 183\n",
      "accuracy 0.8100558659217877 random_state 184\n",
      "accuracy 0.7932960893854749 random_state 185\n",
      "accuracy 0.7932960893854749 random_state 186\n",
      "accuracy 0.7932960893854749 random_state 187\n",
      "accuracy 0.7877094972067039 random_state 188\n",
      "accuracy 0.8268156424581006 random_state 189\n",
      "accuracy 0.8547486033519553 random_state 190\n",
      "accuracy 0.8324022346368715 random_state 191\n",
      "accuracy 0.8379888268156425 random_state 192\n",
      "accuracy 0.8044692737430168 random_state 193\n",
      "accuracy 0.8379888268156425 random_state 194\n",
      "accuracy 0.8268156424581006 random_state 195\n",
      "accuracy 0.8659217877094972 random_state 196\n",
      "accuracy 0.8435754189944135 random_state 197\n",
      "accuracy 0.7597765363128491 random_state 198\n",
      "accuracy 0.7877094972067039 random_state 199\n"
     ]
    }
   ],
   "source": [
    "#best random state for Random Forest.\n",
    "maxAccu= 0\n",
    "maxRS= 0\n",
    "\n",
    "for i in range(1,200):\n",
    "    X_train, X_test, y_train, y_test= train_test_split(X,y, test_size= .20, random_state= i)\n",
    "    rf= RandomForestClassifier()\n",
    "    rf.fit(X_train, y_train)\n",
    "    prediction= rf.predict(X_test)\n",
    "    acc= accuracy_score(y_test, prediction)\n",
    "    print('accuracy', acc, 'random_state', i)\n",
    "    \n",
    "    if acc> maxAccu:\n",
    "        maxAccu=acc\n",
    "        maxRS= i\n",
    "        print('max_accuracy', maxAccu, 'max_random_state', i)"
   ]
  },
  {
   "cell_type": "code",
   "execution_count": 146,
   "id": "4d44f8f0",
   "metadata": {},
   "outputs": [
    {
     "name": "stdout",
     "output_type": "stream",
     "text": [
      "best accuracy is 0.888268156424581 on random_state 160\n"
     ]
    }
   ],
   "source": [
    "print('best accuracy is', maxAccu, 'on random_state', maxRS)"
   ]
  },
  {
   "cell_type": "code",
   "execution_count": 147,
   "id": "eae13472",
   "metadata": {},
   "outputs": [
    {
     "name": "stdout",
     "output_type": "stream",
     "text": [
      "accuracy 0.770949720670391 random_state 1\n",
      "max_accuracy 0.770949720670391 max_random_state 1\n",
      "accuracy 0.776536312849162 random_state 2\n",
      "max_accuracy 0.776536312849162 max_random_state 2\n",
      "accuracy 0.7932960893854749 random_state 3\n",
      "max_accuracy 0.7932960893854749 max_random_state 3\n",
      "accuracy 0.8379888268156425 random_state 4\n",
      "max_accuracy 0.8379888268156425 max_random_state 4\n",
      "accuracy 0.8379888268156425 random_state 5\n",
      "accuracy 0.8603351955307262 random_state 6\n",
      "max_accuracy 0.8603351955307262 max_random_state 6\n",
      "accuracy 0.7597765363128491 random_state 7\n",
      "accuracy 0.7653631284916201 random_state 8\n",
      "accuracy 0.7541899441340782 random_state 9\n",
      "accuracy 0.8324022346368715 random_state 10\n",
      "accuracy 0.8770949720670391 random_state 11\n",
      "max_accuracy 0.8770949720670391 max_random_state 11\n",
      "accuracy 0.7653631284916201 random_state 12\n",
      "accuracy 0.8379888268156425 random_state 13\n",
      "accuracy 0.8379888268156425 random_state 14\n",
      "accuracy 0.8212290502793296 random_state 15\n",
      "accuracy 0.7932960893854749 random_state 16\n",
      "accuracy 0.770949720670391 random_state 17\n",
      "accuracy 0.8659217877094972 random_state 18\n",
      "accuracy 0.8491620111731844 random_state 19\n",
      "accuracy 0.8324022346368715 random_state 20\n",
      "accuracy 0.8044692737430168 random_state 21\n",
      "accuracy 0.776536312849162 random_state 22\n",
      "accuracy 0.7877094972067039 random_state 23\n",
      "accuracy 0.8379888268156425 random_state 24\n",
      "accuracy 0.8212290502793296 random_state 25\n",
      "accuracy 0.8100558659217877 random_state 26\n",
      "accuracy 0.8324022346368715 random_state 27\n",
      "accuracy 0.8268156424581006 random_state 28\n",
      "accuracy 0.8379888268156425 random_state 29\n",
      "accuracy 0.7932960893854749 random_state 30\n",
      "accuracy 0.7988826815642458 random_state 31\n",
      "accuracy 0.8212290502793296 random_state 32\n",
      "accuracy 0.8212290502793296 random_state 33\n",
      "accuracy 0.8659217877094972 random_state 34\n",
      "accuracy 0.8324022346368715 random_state 35\n",
      "accuracy 0.8268156424581006 random_state 36\n",
      "accuracy 0.8156424581005587 random_state 37\n",
      "accuracy 0.7877094972067039 random_state 38\n",
      "accuracy 0.8324022346368715 random_state 39\n",
      "accuracy 0.8435754189944135 random_state 40\n",
      "accuracy 0.8491620111731844 random_state 41\n",
      "accuracy 0.8100558659217877 random_state 42\n",
      "accuracy 0.776536312849162 random_state 43\n",
      "accuracy 0.776536312849162 random_state 44\n",
      "accuracy 0.8435754189944135 random_state 45\n",
      "accuracy 0.8659217877094972 random_state 46\n",
      "accuracy 0.8268156424581006 random_state 47\n",
      "accuracy 0.8044692737430168 random_state 48\n",
      "accuracy 0.8547486033519553 random_state 49\n",
      "accuracy 0.8044692737430168 random_state 50\n",
      "accuracy 0.7877094972067039 random_state 51\n",
      "accuracy 0.8435754189944135 random_state 52\n",
      "accuracy 0.8156424581005587 random_state 53\n",
      "accuracy 0.7821229050279329 random_state 54\n",
      "accuracy 0.7932960893854749 random_state 55\n",
      "accuracy 0.8491620111731844 random_state 56\n",
      "accuracy 0.7932960893854749 random_state 57\n",
      "accuracy 0.8044692737430168 random_state 58\n",
      "accuracy 0.7821229050279329 random_state 59\n",
      "accuracy 0.7988826815642458 random_state 60\n",
      "accuracy 0.8100558659217877 random_state 61\n",
      "accuracy 0.8212290502793296 random_state 62\n",
      "accuracy 0.8268156424581006 random_state 63\n",
      "accuracy 0.8212290502793296 random_state 64\n",
      "accuracy 0.8156424581005587 random_state 65\n",
      "accuracy 0.8268156424581006 random_state 66\n",
      "accuracy 0.8324022346368715 random_state 67\n",
      "accuracy 0.7877094972067039 random_state 68\n",
      "accuracy 0.8379888268156425 random_state 69\n",
      "accuracy 0.8212290502793296 random_state 70\n",
      "accuracy 0.8212290502793296 random_state 71\n",
      "accuracy 0.8212290502793296 random_state 72\n",
      "accuracy 0.8268156424581006 random_state 73\n",
      "accuracy 0.8603351955307262 random_state 74\n",
      "accuracy 0.7988826815642458 random_state 75\n",
      "accuracy 0.8324022346368715 random_state 76\n",
      "accuracy 0.8268156424581006 random_state 77\n",
      "accuracy 0.8491620111731844 random_state 78\n",
      "accuracy 0.8212290502793296 random_state 79\n",
      "accuracy 0.7932960893854749 random_state 80\n",
      "accuracy 0.7877094972067039 random_state 81\n",
      "accuracy 0.8156424581005587 random_state 82\n",
      "accuracy 0.8435754189944135 random_state 83\n",
      "accuracy 0.7877094972067039 random_state 84\n",
      "accuracy 0.8156424581005587 random_state 85\n",
      "accuracy 0.8212290502793296 random_state 86\n",
      "accuracy 0.8156424581005587 random_state 87\n",
      "accuracy 0.8100558659217877 random_state 88\n",
      "accuracy 0.8659217877094972 random_state 89\n",
      "accuracy 0.8268156424581006 random_state 90\n",
      "accuracy 0.7932960893854749 random_state 91\n",
      "accuracy 0.8156424581005587 random_state 92\n",
      "accuracy 0.8547486033519553 random_state 93\n",
      "accuracy 0.8212290502793296 random_state 94\n",
      "accuracy 0.8324022346368715 random_state 95\n",
      "accuracy 0.8324022346368715 random_state 96\n",
      "accuracy 0.8044692737430168 random_state 97\n",
      "accuracy 0.7821229050279329 random_state 98\n",
      "accuracy 0.7932960893854749 random_state 99\n",
      "accuracy 0.8324022346368715 random_state 100\n",
      "accuracy 0.8212290502793296 random_state 101\n",
      "accuracy 0.8268156424581006 random_state 102\n",
      "accuracy 0.776536312849162 random_state 103\n",
      "accuracy 0.8212290502793296 random_state 104\n",
      "accuracy 0.7877094972067039 random_state 105\n",
      "accuracy 0.8100558659217877 random_state 106\n",
      "accuracy 0.8044692737430168 random_state 107\n",
      "accuracy 0.8044692737430168 random_state 108\n",
      "accuracy 0.8324022346368715 random_state 109\n",
      "accuracy 0.8212290502793296 random_state 110\n",
      "accuracy 0.8268156424581006 random_state 111\n",
      "accuracy 0.8491620111731844 random_state 112\n",
      "accuracy 0.8156424581005587 random_state 113\n",
      "accuracy 0.7653631284916201 random_state 114\n",
      "accuracy 0.8212290502793296 random_state 115\n",
      "accuracy 0.8435754189944135 random_state 116\n",
      "accuracy 0.7821229050279329 random_state 117\n",
      "accuracy 0.7932960893854749 random_state 118\n",
      "accuracy 0.8212290502793296 random_state 119\n",
      "accuracy 0.8044692737430168 random_state 120\n",
      "accuracy 0.8156424581005587 random_state 121\n",
      "accuracy 0.7988826815642458 random_state 122\n",
      "accuracy 0.8435754189944135 random_state 123\n",
      "accuracy 0.8156424581005587 random_state 124\n",
      "accuracy 0.776536312849162 random_state 125\n",
      "accuracy 0.8268156424581006 random_state 126\n",
      "accuracy 0.8324022346368715 random_state 127\n",
      "accuracy 0.8100558659217877 random_state 128\n",
      "accuracy 0.8100558659217877 random_state 129\n",
      "accuracy 0.8324022346368715 random_state 130\n",
      "accuracy 0.7597765363128491 random_state 131\n",
      "accuracy 0.8603351955307262 random_state 132\n",
      "accuracy 0.8268156424581006 random_state 133\n",
      "accuracy 0.8379888268156425 random_state 134\n",
      "accuracy 0.7988826815642458 random_state 135\n",
      "accuracy 0.8547486033519553 random_state 136\n",
      "accuracy 0.8324022346368715 random_state 137\n",
      "accuracy 0.8324022346368715 random_state 138\n",
      "accuracy 0.8100558659217877 random_state 139\n",
      "accuracy 0.8156424581005587 random_state 140\n",
      "accuracy 0.8156424581005587 random_state 141\n",
      "accuracy 0.8324022346368715 random_state 142\n",
      "accuracy 0.770949720670391 random_state 143\n",
      "accuracy 0.8156424581005587 random_state 144\n",
      "accuracy 0.8715083798882681 random_state 145\n",
      "accuracy 0.7988826815642458 random_state 146\n",
      "accuracy 0.8491620111731844 random_state 147\n",
      "accuracy 0.8324022346368715 random_state 148\n",
      "accuracy 0.8212290502793296 random_state 149\n",
      "accuracy 0.8491620111731844 random_state 150\n",
      "accuracy 0.8044692737430168 random_state 151\n",
      "accuracy 0.7988826815642458 random_state 152\n",
      "accuracy 0.8324022346368715 random_state 153\n",
      "accuracy 0.8379888268156425 random_state 154\n",
      "accuracy 0.8379888268156425 random_state 155\n",
      "accuracy 0.8268156424581006 random_state 156\n",
      "accuracy 0.7932960893854749 random_state 157\n",
      "accuracy 0.8100558659217877 random_state 158\n",
      "accuracy 0.8491620111731844 random_state 159\n",
      "accuracy 0.8659217877094972 random_state 160\n",
      "accuracy 0.7821229050279329 random_state 161\n",
      "accuracy 0.8268156424581006 random_state 162\n",
      "accuracy 0.8212290502793296 random_state 163\n",
      "accuracy 0.8547486033519553 random_state 164\n",
      "accuracy 0.8379888268156425 random_state 165\n",
      "accuracy 0.8100558659217877 random_state 166\n",
      "accuracy 0.8491620111731844 random_state 167\n",
      "accuracy 0.8603351955307262 random_state 168\n",
      "accuracy 0.8491620111731844 random_state 169\n",
      "accuracy 0.7932960893854749 random_state 170\n",
      "accuracy 0.8212290502793296 random_state 171\n",
      "accuracy 0.8156424581005587 random_state 172\n",
      "accuracy 0.8547486033519553 random_state 173\n",
      "accuracy 0.8100558659217877 random_state 174\n",
      "accuracy 0.8156424581005587 random_state 175\n",
      "accuracy 0.7821229050279329 random_state 176\n",
      "accuracy 0.7932960893854749 random_state 177\n",
      "accuracy 0.8435754189944135 random_state 178\n",
      "accuracy 0.8044692737430168 random_state 179\n",
      "accuracy 0.8491620111731844 random_state 180\n",
      "accuracy 0.8379888268156425 random_state 181\n",
      "accuracy 0.8435754189944135 random_state 182\n",
      "accuracy 0.8379888268156425 random_state 183\n",
      "accuracy 0.8268156424581006 random_state 184\n",
      "accuracy 0.7988826815642458 random_state 185\n",
      "accuracy 0.7821229050279329 random_state 186\n",
      "accuracy 0.8100558659217877 random_state 187\n",
      "accuracy 0.7932960893854749 random_state 188\n",
      "accuracy 0.8268156424581006 random_state 189\n",
      "accuracy 0.8603351955307262 random_state 190\n",
      "accuracy 0.8212290502793296 random_state 191\n",
      "accuracy 0.8100558659217877 random_state 192\n",
      "accuracy 0.8156424581005587 random_state 193\n",
      "accuracy 0.8435754189944135 random_state 194\n",
      "accuracy 0.7821229050279329 random_state 195\n",
      "accuracy 0.8659217877094972 random_state 196\n",
      "accuracy 0.8435754189944135 random_state 197\n",
      "accuracy 0.776536312849162 random_state 198\n",
      "accuracy 0.8100558659217877 random_state 199\n"
     ]
    }
   ],
   "source": [
    "#best random state for SVC.\n",
    "maxAccu= 0\n",
    "maxRS= 0\n",
    "\n",
    "for i in range(1,200):\n",
    "    X_train, X_test, y_train, y_test= train_test_split(X,y, test_size= .20, random_state= i)\n",
    "    svc= SVC()\n",
    "    svc.fit(X_train, y_train)\n",
    "    prediction= svc.predict(X_test)\n",
    "    acc= accuracy_score(y_test, prediction)\n",
    "    print('accuracy', acc, 'random_state', i)\n",
    "    \n",
    "    if acc> maxAccu:\n",
    "        maxAccu=acc\n",
    "        maxRS= i\n",
    "        print('max_accuracy', maxAccu, 'max_random_state', i)"
   ]
  },
  {
   "cell_type": "code",
   "execution_count": 148,
   "id": "afd8625e",
   "metadata": {},
   "outputs": [
    {
     "name": "stdout",
     "output_type": "stream",
     "text": [
      "best accuracy is 0.8770949720670391 on random_state 11\n"
     ]
    }
   ],
   "source": [
    "print('best accuracy is', maxAccu, 'on random_state', maxRS)"
   ]
  },
  {
   "cell_type": "code",
   "execution_count": 149,
   "id": "98d31f68",
   "metadata": {},
   "outputs": [
    {
     "data": {
      "text/plain": [
       "0.8547486033519553"
      ]
     },
     "execution_count": 149,
     "metadata": {},
     "output_type": "execute_result"
    }
   ],
   "source": [
    "#Logistic regression\n",
    "\n",
    "from sklearn.model_selection import train_test_split\n",
    "X_train, X_test, y_train, y_test = train_test_split(X, y, test_size = 0.2, random_state = 6)\n",
    "\n",
    "lr.fit(X_train, y_train)\n",
    "prediction= lr.predict(X_test)\n",
    "accuracy_score(y_test, prediction)"
   ]
  },
  {
   "cell_type": "code",
   "execution_count": 150,
   "id": "9e731c96",
   "metadata": {},
   "outputs": [
    {
     "data": {
      "text/plain": [
       "0.8324022346368715"
      ]
     },
     "execution_count": 150,
     "metadata": {},
     "output_type": "execute_result"
    }
   ],
   "source": [
    "#Decision tree\n",
    "\n",
    "from sklearn.model_selection import train_test_split\n",
    "X_train, X_test, y_train, y_test = train_test_split(X, y, test_size = 0.2, random_state = 45)\n",
    "\n",
    "dt.fit(X_train, y_train)\n",
    "prediction= dt.predict(X_test)\n",
    "accuracy_score(y_test, prediction)"
   ]
  },
  {
   "cell_type": "code",
   "execution_count": 151,
   "id": "4e838269",
   "metadata": {},
   "outputs": [
    {
     "data": {
      "text/plain": [
       "0.8659217877094972"
      ]
     },
     "execution_count": 151,
     "metadata": {},
     "output_type": "execute_result"
    }
   ],
   "source": [
    "#Random Forest\n",
    "\n",
    "from sklearn.model_selection import train_test_split\n",
    "X_train, X_test, y_train, y_test = train_test_split(X, y, test_size = 0.2, random_state = 160)\n",
    "\n",
    "rf.fit(X_train, y_train)\n",
    "prediction= rf.predict(X_test)\n",
    "accuracy_score(y_test, prediction)"
   ]
  },
  {
   "cell_type": "code",
   "execution_count": 152,
   "id": "1f661350",
   "metadata": {},
   "outputs": [
    {
     "data": {
      "text/plain": [
       "0.8770949720670391"
      ]
     },
     "execution_count": 152,
     "metadata": {},
     "output_type": "execute_result"
    }
   ],
   "source": [
    "#SVC\n",
    "\n",
    "from sklearn.model_selection import train_test_split\n",
    "X_train, X_test, y_train, y_test = train_test_split(X, y, test_size = 0.2, random_state = 11)\n",
    "\n",
    "svc.fit(X_train, y_train)\n",
    "prediction= svc.predict(X_test)\n",
    "accuracy_score(y_test, prediction)"
   ]
  },
  {
   "cell_type": "code",
   "execution_count": 153,
   "id": "837722e1",
   "metadata": {},
   "outputs": [],
   "source": [
    "# AUC and ROC\n",
    "from sklearn.metrics import roc_curve, roc_auc_score\n",
    "from sklearn.metrics import plot_roc_curve"
   ]
  },
  {
   "cell_type": "code",
   "execution_count": 154,
   "id": "fe7efbe4",
   "metadata": {},
   "outputs": [
    {
     "data": {
      "image/png": "[encoded data removed]",
      "text/plain": [
       "<Figure size 432x288 with 1 Axes>"
      ]
     },
     "metadata": {
      "needs_background": "light"
     },
     "output_type": "display_data"
    }
   ],
   "source": [
    "disp= plot_roc_curve(lr, X_train, y_train)"
   ]
  },
  {
   "cell_type": "code",
   "execution_count": 155,
   "id": "72dcb2c2",
   "metadata": {},
   "outputs": [
    {
     "data": {
      "image/png": "[encoded data removed]",
      "text/plain": [
       "<Figure size 432x288 with 1 Axes>"
      ]
     },
     "metadata": {
      "needs_background": "light"
     },
     "output_type": "display_data"
    }
   ],
   "source": [
    "disp= plot_roc_curve(dt, X_train, y_train)"
   ]
  },
  {
   "cell_type": "code",
   "execution_count": 156,
   "id": "3d872a02",
   "metadata": {},
   "outputs": [
    {
     "data": {
      "image/png": "[encoded data removed]",
      "text/plain": [
       "<Figure size 432x288 with 1 Axes>"
      ]
     },
     "metadata": {
      "needs_background": "light"
     },
     "output_type": "display_data"
    }
   ],
   "source": [
    "disp= plot_roc_curve(rf, X_train, y_train)"
   ]
  },
  {
   "cell_type": "code",
   "execution_count": 157,
   "id": "8e831a91",
   "metadata": {},
   "outputs": [
    {
     "data": {
      "image/png": "[encoded data removed]",
      "text/plain": [
       "<Figure size 432x288 with 1 Axes>"
      ]
     },
     "metadata": {
      "needs_background": "light"
     },
     "output_type": "display_data"
    }
   ],
   "source": [
    "disp= plot_roc_curve(svc, X_train, y_train)"
   ]
  },
  {
   "cell_type": "code",
   "execution_count": 158,
   "id": "8f3d55d4",
   "metadata": {},
   "outputs": [],
   "source": [
    "#Random forest has highest AUC value, so let us proceed with this model"
   ]
  },
  {
   "cell_type": "code",
   "execution_count": 159,
   "id": "60bb811c",
   "metadata": {},
   "outputs": [
    {
     "data": {
      "text/plain": [
       "0.9720670391061452"
      ]
     },
     "execution_count": 159,
     "metadata": {},
     "output_type": "execute_result"
    }
   ],
   "source": [
    "from sklearn.model_selection import train_test_split\n",
    "X_train, X_test, y_train, y_test = train_test_split(X, y, test_size = 0.2, random_state = 160)\n",
    "\n",
    "rf.fit(X_train, y_train)\n",
    "prediction= dt.predict(X_test)\n",
    "accuracy_score(y_test, prediction)"
   ]
  },
  {
   "cell_type": "code",
   "execution_count": 160,
   "id": "9b13a96e",
   "metadata": {},
   "outputs": [
    {
     "name": "stdout",
     "output_type": "stream",
     "text": [
      "[[118   5]\n",
      " [  0  56]]\n"
     ]
    }
   ],
   "source": [
    "print(confusion_matrix(y_test,prediction))"
   ]
  },
  {
   "cell_type": "code",
   "execution_count": 161,
   "id": "77823ade",
   "metadata": {},
   "outputs": [
    {
     "name": "stdout",
     "output_type": "stream",
     "text": [
      "              precision    recall  f1-score   support\n",
      "\n",
      "           0       1.00      0.96      0.98       123\n",
      "           1       0.92      1.00      0.96        56\n",
      "\n",
      "    accuracy                           0.97       179\n",
      "   macro avg       0.96      0.98      0.97       179\n",
      "weighted avg       0.97      0.97      0.97       179\n",
      "\n"
     ]
    }
   ],
   "source": [
    "print(classification_report(y_test,prediction))"
   ]
  },
  {
   "cell_type": "code",
   "execution_count": 162,
   "id": "84a6d1d8",
   "metadata": {},
   "outputs": [],
   "source": [
    "# check train and test score\n",
    "y_pred= rf.predict(X_train)\n",
    "pred= rf.predict(X_test)\n",
    "train_result= accuracy_score(y_train, y_pred)*100\n",
    "test_result= accuracy_score(y_test, pred)*100"
   ]
  },
  {
   "cell_type": "code",
   "execution_count": 163,
   "id": "1918cf7d",
   "metadata": {},
   "outputs": [
    {
     "data": {
      "text/plain": [
       "100.0"
      ]
     },
     "execution_count": 163,
     "metadata": {},
     "output_type": "execute_result"
    }
   ],
   "source": [
    "train_result"
   ]
  },
  {
   "cell_type": "code",
   "execution_count": 164,
   "id": "03b6a9f8",
   "metadata": {},
   "outputs": [
    {
     "data": {
      "text/plain": [
       "87.70949720670392"
      ]
     },
     "execution_count": 164,
     "metadata": {},
     "output_type": "execute_result"
    }
   ],
   "source": [
    "test_result"
   ]
  },
  {
   "cell_type": "code",
   "execution_count": null,
   "id": "e35ead01",
   "metadata": {},
   "outputs": [],
   "source": []
  },
  {
   "cell_type": "code",
   "execution_count": 165,
   "id": "3f936605",
   "metadata": {},
   "outputs": [
    {
     "name": "stdout",
     "output_type": "stream",
     "text": [
      "At cross fold 2 the cv score is 0.6051594699450799 and accuracy score for training is 1.0 and accuracy score for test is 0.8770949720670391\n",
      "\n",
      "\n",
      "At cross fold 3 the cv score is 0.8159371492704826 and accuracy score for training is 1.0 and accuracy score for test is 0.8770949720670391\n",
      "\n",
      "\n",
      "At cross fold 4 the cv score is 0.8114723467862482 and accuracy score for training is 1.0 and accuracy score for test is 0.8770949720670391\n",
      "\n",
      "\n",
      "At cross fold 5 the cv score is 0.8115184232000502 and accuracy score for training is 1.0 and accuracy score for test is 0.8770949720670391\n",
      "\n",
      "\n",
      "At cross fold 6 the cv score is 0.8249138400145112 and accuracy score for training is 1.0 and accuracy score for test is 0.8770949720670391\n",
      "\n",
      "\n",
      "At cross fold 7 the cv score is 0.8182473284589425 and accuracy score for training is 1.0 and accuracy score for test is 0.8770949720670391\n",
      "\n",
      "\n",
      "At cross fold 8 the cv score is 0.8250180984555985 and accuracy score for training is 1.0 and accuracy score for test is 0.8770949720670391\n",
      "\n",
      "\n",
      "At cross fold 9 the cv score is 0.8159371492704827 and accuracy score for training is 1.0 and accuracy score for test is 0.8770949720670391\n",
      "\n",
      "\n"
     ]
    }
   ],
   "source": [
    "#cross-validation of Random forest\n",
    "\n",
    "train_accuracy=  accuracy_score(y_train, y_pred)\n",
    "test_accuracy= accuracy_score(y_test, pred)\n",
    "\n",
    "from sklearn.model_selection import cross_val_score\n",
    "for j in range (2,10):\n",
    "    cv_score= cross_val_score(rf,X, y, cv=j)\n",
    "    cv_mean= cv_score.mean()\n",
    "    print(f'At cross fold {j} the cv score is {cv_mean} and accuracy score for training is {train_accuracy} and accuracy score for test is {test_accuracy}')\n",
    "    print(\"\\n\")"
   ]
  },
  {
   "cell_type": "code",
   "execution_count": 166,
   "id": "b09b4177",
   "metadata": {},
   "outputs": [
    {
     "name": "stdout",
     "output_type": "stream",
     "text": [
      "At cross fold 2 the cv score is 0.7755479417544213 and accuracy score for training is 1.0 and accuracy score for test is 0.8770949720670391\n",
      "\n",
      "\n",
      "At cross fold 3 the cv score is 0.787878787878788 and accuracy score for training is 1.0 and accuracy score for test is 0.8770949720670391\n",
      "\n",
      "\n",
      "At cross fold 4 the cv score is 0.7901415989981012 and accuracy score for training is 1.0 and accuracy score for test is 0.8770949720670391\n",
      "\n",
      "\n",
      "At cross fold 5 the cv score is 0.783390873140418 and accuracy score for training is 1.0 and accuracy score for test is 0.8770949720670391\n",
      "\n",
      "\n",
      "At cross fold 6 the cv score is 0.7946218030110647 and accuracy score for training is 1.0 and accuracy score for test is 0.8770949720670391\n",
      "\n",
      "\n",
      "At cross fold 7 the cv score is 0.7912594910011249 and accuracy score for training is 1.0 and accuracy score for test is 0.8770949720670391\n",
      "\n",
      "\n",
      "At cross fold 8 the cv score is 0.7946126930501931 and accuracy score for training is 1.0 and accuracy score for test is 0.8770949720670391\n",
      "\n",
      "\n",
      "At cross fold 9 the cv score is 0.7923681257014591 and accuracy score for training is 1.0 and accuracy score for test is 0.8770949720670391\n",
      "\n",
      "\n"
     ]
    }
   ],
   "source": [
    "#cross-validation of Logistic Regression\n",
    "\n",
    "train_accuracy=  accuracy_score(y_train, y_pred)\n",
    "test_accuracy= accuracy_score(y_test, pred)\n",
    "\n",
    "from sklearn.model_selection import cross_val_score\n",
    "for j in range (2,10):\n",
    "    cv_score= cross_val_score(lr,X, y, cv=j)\n",
    "    cv_mean= cv_score.mean()\n",
    "    print(f'At cross fold {j} the cv score is {cv_mean} and accuracy score for training is {train_accuracy} and accuracy score for test is {test_accuracy}')\n",
    "    print(\"\\n\")"
   ]
  },
  {
   "cell_type": "code",
   "execution_count": 167,
   "id": "0920e337",
   "metadata": {},
   "outputs": [
    {
     "name": "stdout",
     "output_type": "stream",
     "text": [
      "At cross fold 2 the cv score is 0.570335567088225 and accuracy score for training is 1.0 and accuracy score for test is 0.8770949720670391\n",
      "\n",
      "\n",
      "At cross fold 3 the cv score is 0.6498316498316499 and accuracy score for training is 1.0 and accuracy score for test is 0.8770949720670391\n",
      "\n",
      "\n",
      "At cross fold 4 the cv score is 0.7217609986668283 and accuracy score for training is 1.0 and accuracy score for test is 0.8770949720670391\n",
      "\n",
      "\n",
      "At cross fold 5 the cv score is 0.7621994852802711 and accuracy score for training is 1.0 and accuracy score for test is 0.8770949720670391\n",
      "\n",
      "\n",
      "At cross fold 6 the cv score is 0.7386480440171715 and accuracy score for training is 1.0 and accuracy score for test is 0.8770949720670391\n",
      "\n",
      "\n",
      "At cross fold 7 the cv score is 0.7665828880764904 and accuracy score for training is 1.0 and accuracy score for test is 0.8770949720670391\n",
      "\n",
      "\n",
      "At cross fold 8 the cv score is 0.6653897200772201 and accuracy score for training is 1.0 and accuracy score for test is 0.8770949720670391\n",
      "\n",
      "\n",
      "At cross fold 9 the cv score is 0.7373737373737373 and accuracy score for training is 1.0 and accuracy score for test is 0.8770949720670391\n",
      "\n",
      "\n"
     ]
    }
   ],
   "source": [
    "#cross-validation of Decision tree\n",
    "\n",
    "train_accuracy=  accuracy_score(y_train, y_pred)\n",
    "test_accuracy= accuracy_score(y_test, pred)\n",
    "\n",
    "from sklearn.model_selection import cross_val_score\n",
    "for j in range (2,10):\n",
    "    cv_score= cross_val_score(dt,X, y, cv=j)\n",
    "    cv_mean= cv_score.mean()\n",
    "    print(f'At cross fold {j} the cv score is {cv_mean} and accuracy score for training is {train_accuracy} and accuracy score for test is {test_accuracy}')\n",
    "    print(\"\\n\")"
   ]
  },
  {
   "cell_type": "code",
   "execution_count": 168,
   "id": "4ba9c319",
   "metadata": {},
   "outputs": [
    {
     "name": "stdout",
     "output_type": "stream",
     "text": [
      "At cross fold 2 the cv score is 0.795752506676072 and accuracy score for training is 1.0 and accuracy score for test is 0.8770949720670391\n",
      "\n",
      "\n",
      "At cross fold 3 the cv score is 0.8249158249158249 and accuracy score for training is 1.0 and accuracy score for test is 0.8770949720670391\n",
      "\n",
      "\n",
      "At cross fold 4 the cv score is 0.8193198804185351 and accuracy score for training is 1.0 and accuracy score for test is 0.8770949720670391\n",
      "\n",
      "\n",
      "At cross fold 5 the cv score is 0.8237963718536188 and accuracy score for training is 1.0 and accuracy score for test is 0.8770949720670391\n",
      "\n",
      "\n",
      "At cross fold 6 the cv score is 0.8305293548582141 and accuracy score for training is 1.0 and accuracy score for test is 0.8770949720670391\n",
      "\n",
      "\n",
      "At cross fold 7 the cv score is 0.8238188976377953 and accuracy score for training is 1.0 and accuracy score for test is 0.8770949720670391\n",
      "\n",
      "\n",
      "At cross fold 8 the cv score is 0.820443211068211 and accuracy score for training is 1.0 and accuracy score for test is 0.8770949720670391\n",
      "\n",
      "\n",
      "At cross fold 9 the cv score is 0.8159371492704827 and accuracy score for training is 1.0 and accuracy score for test is 0.8770949720670391\n",
      "\n",
      "\n"
     ]
    }
   ],
   "source": [
    "#cross-validation of SVC\n",
    "\n",
    "train_accuracy=  accuracy_score(y_train, y_pred)\n",
    "test_accuracy= accuracy_score(y_test, pred)\n",
    "\n",
    "from sklearn.model_selection import cross_val_score\n",
    "for j in range (2,10):\n",
    "    cv_score= cross_val_score(svc,X, y, cv=j)\n",
    "    cv_mean= cv_score.mean()\n",
    "    print(f'At cross fold {j} the cv score is {cv_mean} and accuracy score for training is {train_accuracy} and accuracy score for test is {test_accuracy}')\n",
    "    print(\"\\n\")"
   ]
  },
  {
   "cell_type": "code",
   "execution_count": 169,
   "id": "4305dc56",
   "metadata": {},
   "outputs": [],
   "source": [
    "#from above let us choose cv= 6"
   ]
  },
  {
   "cell_type": "code",
   "execution_count": 170,
   "id": "9c29c63f",
   "metadata": {},
   "outputs": [
    {
     "name": "stdout",
     "output_type": "stream",
     "text": [
      "Cross Val Score: 79.46218030110647\n"
     ]
    }
   ],
   "source": [
    "# Cross Validation of Logistic Reg.\n",
    "lrscore= cross_val_score(lr, X, y, cv=6)\n",
    "lrc= lrscore.mean()\n",
    "print('Cross Val Score:', lrc*100)"
   ]
  },
  {
   "cell_type": "code",
   "execution_count": 171,
   "id": "c4acf1d6",
   "metadata": {},
   "outputs": [
    {
     "name": "stdout",
     "output_type": "stream",
     "text": [
      "Cross Val Score: 77.10823256467941\n"
     ]
    }
   ],
   "source": [
    "# Cross Validation of Decision Tree.\n",
    "dtscore= cross_val_score(dt, X, y, cv=7)\n",
    "dtc= dtscore.mean()\n",
    "print('Cross Val Score:', dtc*100)"
   ]
  },
  {
   "cell_type": "code",
   "execution_count": 172,
   "id": "36aa37f3",
   "metadata": {},
   "outputs": [
    {
     "name": "stdout",
     "output_type": "stream",
     "text": [
      "Cross Val Score: 82.04168934034706\n"
     ]
    }
   ],
   "source": [
    "# Cross Validation of Random Forest.\n",
    "rfscore= cross_val_score(rf, X, y, cv=6)\n",
    "rfc= rfscore.mean()\n",
    "print('Cross Val Score:', rfc*100)"
   ]
  },
  {
   "cell_type": "code",
   "execution_count": 173,
   "id": "60f2f2bb",
   "metadata": {},
   "outputs": [
    {
     "name": "stdout",
     "output_type": "stream",
     "text": [
      "Cross Val Score: 83.05293548582141\n"
     ]
    }
   ],
   "source": [
    "# Cross Validation of SVC.\n",
    "svcscore= cross_val_score(svc, X, y, cv=6)\n",
    "svcc= svcscore.mean()\n",
    "print('Cross Val Score:', svcc*100)"
   ]
  },
  {
   "cell_type": "code",
   "execution_count": 174,
   "id": "1c851ba4",
   "metadata": {},
   "outputs": [
    {
     "data": {
      "text/plain": [
       "17.74452360950805"
      ]
     },
     "execution_count": 174,
     "metadata": {},
     "output_type": "execute_result"
    }
   ],
   "source": [
    "#Logistic Reg.\n",
    "accuracy_score(y_test, prediction)*100- lrc*100"
   ]
  },
  {
   "cell_type": "code",
   "execution_count": 175,
   "id": "590c94aa",
   "metadata": {},
   "outputs": [
    {
     "data": {
      "text/plain": [
       "20.09847134593511"
      ]
     },
     "execution_count": 175,
     "metadata": {},
     "output_type": "execute_result"
    }
   ],
   "source": [
    "#Decision tree\n",
    "accuracy_score(y_test, dt.predict(X_test))*100- dtc*100"
   ]
  },
  {
   "cell_type": "code",
   "execution_count": 176,
   "id": "b1558695",
   "metadata": {},
   "outputs": [
    {
     "data": {
      "text/plain": [
       "5.667807866356853"
      ]
     },
     "execution_count": 176,
     "metadata": {},
     "output_type": "execute_result"
    }
   ],
   "source": [
    "#Random forest.\n",
    "accuracy_score(y_test, rf.predict(X_test))*100- rfc*100"
   ]
  },
  {
   "cell_type": "code",
   "execution_count": 177,
   "id": "324ef32b",
   "metadata": {},
   "outputs": [
    {
     "data": {
      "text/plain": [
       "6.332539374513786"
      ]
     },
     "execution_count": 177,
     "metadata": {},
     "output_type": "execute_result"
    }
   ],
   "source": [
    "#SVC.\n",
    "accuracy_score(y_test, svc.predict(X_test))*100- svcc*100"
   ]
  },
  {
   "cell_type": "code",
   "execution_count": 178,
   "id": "34c565cf",
   "metadata": {},
   "outputs": [],
   "source": [
    "# We can see here difference of accuracy and cross validation is least for Random forest. So, this is our best model."
   ]
  },
  {
   "cell_type": "code",
   "execution_count": 179,
   "id": "d50701c9",
   "metadata": {},
   "outputs": [],
   "source": [
    "#Hyperparameter tuning"
   ]
  },
  {
   "cell_type": "code",
   "execution_count": 180,
   "id": "65a81d06",
   "metadata": {},
   "outputs": [],
   "source": [
    "from sklearn.model_selection import GridSearchCV\n",
    "random_classifier = RandomForestClassifier()\n",
    "parameters = {'n_estimators':[58],'min_samples_leaf': [5,10,15],'criterion':['entropy']}\n",
    "random_grid = GridSearchCV(random_classifier, parameters)"
   ]
  },
  {
   "cell_type": "code",
   "execution_count": null,
   "id": "86ef66ca",
   "metadata": {},
   "outputs": [],
   "source": []
  },
  {
   "cell_type": "code",
   "execution_count": null,
   "id": "7ecf51bf",
   "metadata": {},
   "outputs": [],
   "source": []
  },
  {
   "cell_type": "code",
   "execution_count": 181,
   "id": "dcd4dd88",
   "metadata": {},
   "outputs": [
    {
     "data": {
      "text/plain": [
       "GridSearchCV(estimator=RandomForestClassifier(),\n",
       "             param_grid={'criterion': ['entropy'],\n",
       "                         'min_samples_leaf': [5, 10, 15],\n",
       "                         'n_estimators': [58]})"
      ]
     },
     "execution_count": 181,
     "metadata": {},
     "output_type": "execute_result"
    }
   ],
   "source": [
    "random_grid.fit(X_train,y_train)"
   ]
  },
  {
   "cell_type": "code",
   "execution_count": 182,
   "id": "10092f4f",
   "metadata": {},
   "outputs": [
    {
     "data": {
      "text/plain": [
       "{'criterion': 'entropy', 'min_samples_leaf': 10, 'n_estimators': 58}"
      ]
     },
     "execution_count": 182,
     "metadata": {},
     "output_type": "execute_result"
    }
   ],
   "source": [
    "random_grid.best_params_"
   ]
  },
  {
   "cell_type": "code",
   "execution_count": 183,
   "id": "be910a7f",
   "metadata": {},
   "outputs": [
    {
     "data": {
      "text/plain": [
       "0.8384831460674157"
      ]
     },
     "execution_count": 183,
     "metadata": {},
     "output_type": "execute_result"
    }
   ],
   "source": [
    "random_grid.score(X_train,y_train)"
   ]
  },
  {
   "cell_type": "code",
   "execution_count": 184,
   "id": "2f4d2cc4",
   "metadata": {},
   "outputs": [
    {
     "data": {
      "text/plain": [
       "0.8384831460674157"
      ]
     },
     "execution_count": 184,
     "metadata": {},
     "output_type": "execute_result"
    }
   ],
   "source": [
    "y_pred_train=random_grid.predict(X_train)\n",
    "accuracy_score(y_train,y_pred_train)"
   ]
  },
  {
   "cell_type": "code",
   "execution_count": 195,
   "id": "326ca431",
   "metadata": {},
   "outputs": [
    {
     "data": {
      "text/plain": [
       "0.8435754189944135"
      ]
     },
     "execution_count": 195,
     "metadata": {},
     "output_type": "execute_result"
    }
   ],
   "source": [
    "pred_decision=random_grid.predict(X_test)\n",
    "accuracy_score(y_test,y_pred_test)"
   ]
  },
  {
   "cell_type": "code",
   "execution_count": 200,
   "id": "310108e9",
   "metadata": {},
   "outputs": [
    {
     "name": "stdout",
     "output_type": "stream",
     "text": [
      "Cross Val Score: 81.47635890924482\n"
     ]
    }
   ],
   "source": [
    "rfscore= cross_val_score(random_grid, X, y, cv=6)\n",
    "rfc= rfscore.mean()\n",
    "print('Cross Val Score:', rfc*100)"
   ]
  },
  {
   "cell_type": "code",
   "execution_count": 201,
   "id": "26d82f4e",
   "metadata": {},
   "outputs": [
    {
     "data": {
      "text/plain": [
       "2.881182990196521"
      ]
     },
     "execution_count": 201,
     "metadata": {},
     "output_type": "execute_result"
    }
   ],
   "source": [
    "# Difference of Cross-Validation and accuracy\n",
    "\n",
    "accuracy_score(y_test, y_pred_test)*100- rfc*100"
   ]
  },
  {
   "cell_type": "code",
   "execution_count": 188,
   "id": "5eb2df96",
   "metadata": {},
   "outputs": [],
   "source": [
    "# Efficiency has been better!"
   ]
  },
  {
   "cell_type": "code",
   "execution_count": 189,
   "id": "807c86c8",
   "metadata": {},
   "outputs": [],
   "source": [
    "import pickle\n",
    "filename= 'churn.pkl'\n",
    "pickle.dump(random_grid, open(filename, 'wb'))"
   ]
  },
  {
   "cell_type": "code",
   "execution_count": 190,
   "id": "6ea5ebfd",
   "metadata": {},
   "outputs": [
    {
     "data": {
      "text/plain": [
       "[]"
      ]
     },
     "execution_count": 190,
     "metadata": {},
     "output_type": "execute_result"
    }
   ],
   "source": [
    "[]"
   ]
  },
  {
   "cell_type": "code",
   "execution_count": 191,
   "id": "2a286611",
   "metadata": {},
   "outputs": [],
   "source": [
    "#conclusion"
   ]
  },
  {
   "cell_type": "code",
   "execution_count": 192,
   "id": "7ac91d58",
   "metadata": {},
   "outputs": [
    {
     "name": "stdout",
     "output_type": "stream",
     "text": [
      "84.35754189944134\n"
     ]
    }
   ],
   "source": [
    "loaded_model=pickle.load(open('churn.pkl','rb'))\n",
    "result= loaded_model.score(X_test, y_test)\n",
    "print(result*100)"
   ]
  },
  {
   "cell_type": "code",
   "execution_count": 202,
   "id": "a4a2cbba",
   "metadata": {},
   "outputs": [],
   "source": [
    "conclusion= pd.DataFrame([loaded_model.predict(X_test)[:],pred_decision[:]], index=['Predicted','Original'])"
   ]
  },
  {
   "cell_type": "code",
   "execution_count": 203,
   "id": "7953a237",
   "metadata": {},
   "outputs": [
    {
     "data": {
      "text/html": [
       "<div>\n",
       "<style scoped>\n",
       "    .dataframe tbody tr th:only-of-type {\n",
       "        vertical-align: middle;\n",
       "    }\n",
       "\n",
       "    .dataframe tbody tr th {\n",
       "        vertical-align: top;\n",
       "    }\n",
       "\n",
       "    .dataframe thead th {\n",
       "        text-align: right;\n",
       "    }\n",
       "</style>\n",
       "<table border=\"1\" class=\"dataframe\">\n",
       "  <thead>\n",
       "    <tr style=\"text-align: right;\">\n",
       "      <th></th>\n",
       "      <th>0</th>\n",
       "      <th>1</th>\n",
       "      <th>2</th>\n",
       "      <th>3</th>\n",
       "      <th>4</th>\n",
       "      <th>5</th>\n",
       "      <th>6</th>\n",
       "      <th>7</th>\n",
       "      <th>8</th>\n",
       "      <th>9</th>\n",
       "      <th>...</th>\n",
       "      <th>169</th>\n",
       "      <th>170</th>\n",
       "      <th>171</th>\n",
       "      <th>172</th>\n",
       "      <th>173</th>\n",
       "      <th>174</th>\n",
       "      <th>175</th>\n",
       "      <th>176</th>\n",
       "      <th>177</th>\n",
       "      <th>178</th>\n",
       "    </tr>\n",
       "  </thead>\n",
       "  <tbody>\n",
       "    <tr>\n",
       "      <th>Predicted</th>\n",
       "      <td>0</td>\n",
       "      <td>0</td>\n",
       "      <td>0</td>\n",
       "      <td>0</td>\n",
       "      <td>0</td>\n",
       "      <td>0</td>\n",
       "      <td>0</td>\n",
       "      <td>1</td>\n",
       "      <td>0</td>\n",
       "      <td>0</td>\n",
       "      <td>...</td>\n",
       "      <td>0</td>\n",
       "      <td>0</td>\n",
       "      <td>0</td>\n",
       "      <td>1</td>\n",
       "      <td>0</td>\n",
       "      <td>1</td>\n",
       "      <td>1</td>\n",
       "      <td>0</td>\n",
       "      <td>0</td>\n",
       "      <td>0</td>\n",
       "    </tr>\n",
       "    <tr>\n",
       "      <th>Original</th>\n",
       "      <td>0</td>\n",
       "      <td>0</td>\n",
       "      <td>0</td>\n",
       "      <td>0</td>\n",
       "      <td>0</td>\n",
       "      <td>0</td>\n",
       "      <td>0</td>\n",
       "      <td>1</td>\n",
       "      <td>0</td>\n",
       "      <td>0</td>\n",
       "      <td>...</td>\n",
       "      <td>0</td>\n",
       "      <td>0</td>\n",
       "      <td>0</td>\n",
       "      <td>1</td>\n",
       "      <td>0</td>\n",
       "      <td>1</td>\n",
       "      <td>1</td>\n",
       "      <td>0</td>\n",
       "      <td>0</td>\n",
       "      <td>0</td>\n",
       "    </tr>\n",
       "  </tbody>\n",
       "</table>\n",
       "<p>2 rows × 179 columns</p>\n",
       "</div>"
      ],
      "text/plain": [
       "           0    1    2    3    4    5    6    7    8    9    ...  169  170  \\\n",
       "Predicted    0    0    0    0    0    0    0    1    0    0  ...    0    0   \n",
       "Original     0    0    0    0    0    0    0    1    0    0  ...    0    0   \n",
       "\n",
       "           171  172  173  174  175  176  177  178  \n",
       "Predicted    0    1    0    1    1    0    0    0  \n",
       "Original     0    1    0    1    1    0    0    0  \n",
       "\n",
       "[2 rows x 179 columns]"
      ]
     },
     "execution_count": 203,
     "metadata": {},
     "output_type": "execute_result"
    }
   ],
   "source": [
    "conclusion"
   ]
  },
  {
   "cell_type": "code",
   "execution_count": null,
   "id": "66cfb1ca",
   "metadata": {},
   "outputs": [],
   "source": []
  }
 ],
 "metadata": {
  "kernelspec": {
   "display_name": "Python 3 (ipykernel)",
   "language": "python",
   "name": "python3"
  },
  "language_info": {
   "codemirror_mode": {
    "name": "ipython",
    "version": 3
   },
   "file_extension": ".py",
   "mimetype": "text/x-python",
   "name": "python",
   "nbconvert_exporter": "python",
   "pygments_lexer": "ipython3",
   "version": "3.9.7"
  }
 },
 "nbformat": 4,
 "nbformat_minor": 5
}
